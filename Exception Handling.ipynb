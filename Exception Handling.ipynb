{
 "cells": [
  {
   "cell_type": "markdown",
   "id": "f730d70c-cd2b-4472-a4ca-da0c7d9df3f9",
   "metadata": {},
   "source": [
    "## **Exception Handling**"
   ]
  },
  {
   "cell_type": "code",
   "execution_count": 3,
   "id": "6477814d-494b-44a2-b269-42f52412a6b2",
   "metadata": {},
   "outputs": [
    {
     "name": "stdin",
     "output_type": "stream",
     "text": [
      "Please enter the first integer number:  100\n",
      "Please enter the second integer number:  0\n"
     ]
    },
    {
     "ename": "ZeroDivisionError",
     "evalue": "division by zero",
     "output_type": "error",
     "traceback": [
      "\u001b[1;31m---------------------------------------------------------------------------\u001b[0m",
      "\u001b[1;31mZeroDivisionError\u001b[0m                         Traceback (most recent call last)",
      "\u001b[1;32m<ipython-input-3-6158f036a123>\u001b[0m in \u001b[0;36m<module>\u001b[1;34m\u001b[0m\n\u001b[0;32m      1\u001b[0m \u001b[0mnum1\u001b[0m \u001b[1;33m=\u001b[0m \u001b[0mint\u001b[0m\u001b[1;33m(\u001b[0m\u001b[0minput\u001b[0m\u001b[1;33m(\u001b[0m\u001b[1;34m\"Please enter the first integer number: \"\u001b[0m\u001b[1;33m)\u001b[0m\u001b[1;33m)\u001b[0m\u001b[1;33m\u001b[0m\u001b[1;33m\u001b[0m\u001b[0m\n\u001b[0;32m      2\u001b[0m \u001b[0mnum2\u001b[0m \u001b[1;33m=\u001b[0m \u001b[0mint\u001b[0m\u001b[1;33m(\u001b[0m\u001b[0minput\u001b[0m\u001b[1;33m(\u001b[0m\u001b[1;34m\"Please enter the second integer number: \"\u001b[0m\u001b[1;33m)\u001b[0m\u001b[1;33m)\u001b[0m\u001b[1;33m\u001b[0m\u001b[1;33m\u001b[0m\u001b[0m\n\u001b[1;32m----> 3\u001b[1;33m \u001b[0mresult\u001b[0m \u001b[1;33m=\u001b[0m \u001b[0mnum1\u001b[0m \u001b[1;33m/\u001b[0m \u001b[0mnum2\u001b[0m\u001b[1;33m\u001b[0m\u001b[1;33m\u001b[0m\u001b[0m\n\u001b[0m\u001b[0;32m      4\u001b[0m \u001b[0mprint\u001b[0m \u001b[1;33m(\u001b[0m\u001b[1;34mf\"So {num1} / {num2} = {result}...\"\u001b[0m\u001b[1;33m)\u001b[0m\u001b[1;33m\u001b[0m\u001b[1;33m\u001b[0m\u001b[0m\n\u001b[0;32m      5\u001b[0m \u001b[0mprint\u001b[0m \u001b[1;33m(\u001b[0m\u001b[1;34m\"End of the program...\"\u001b[0m\u001b[1;33m)\u001b[0m\u001b[1;33m\u001b[0m\u001b[1;33m\u001b[0m\u001b[0m\n",
      "\u001b[1;31mZeroDivisionError\u001b[0m: division by zero"
     ]
    }
   ],
   "source": [
    "num1 = int(input(\"Please enter the first integer number: \"))\n",
    "num2 = int(input(\"Please enter the second integer number: \"))\n",
    "result = num1 / num2\n",
    "print (f\"So {num1} / {num2} = {result}...\")\n",
    "print (\"End of the program...\")"
   ]
  },
  {
   "cell_type": "code",
   "execution_count": 9,
   "id": "28a83d31-a8ea-4903-b0ac-a35ac32ff9fd",
   "metadata": {},
   "outputs": [
    {
     "name": "stdin",
     "output_type": "stream",
     "text": [
      "Please enter the first integer number:  100\n",
      "Please enter the second integer number:  0\n"
     ]
    },
    {
     "name": "stdout",
     "output_type": "stream",
     "text": [
      "ZeroDivisionError: Division by ZERO is Illegal...!!!\n",
      "ZeroDivisionError: Type of the error is: <class 'ZeroDivisionError'>...\n",
      "ZeroDivisionError: Error message is: division by zero\n",
      "End of the program...\n"
     ]
    }
   ],
   "source": [
    "try:\n",
    "    num1 = int(input(\"Please enter the first integer number: \"))\n",
    "    num2 = int(input(\"Please enter the second integer number: \"))\n",
    "    result = num1 / num2\n",
    "    print (f\"So {num1} / {num2} = {result}...\")\n",
    "except ZeroDivisionError as zde:\n",
    "    print (\"ZeroDivisionError: Division by ZERO is Illegal...!!!\")\n",
    "    print (f\"ZeroDivisionError: Type of the error is: {type(zde)}...\")\n",
    "    print (f\"ZeroDivisionError: Error message is: {zde}\")\n",
    "    \n",
    "print (\"End of the program...\")"
   ]
  },
  {
   "cell_type": "code",
   "execution_count": 12,
   "id": "98f56cb0-66ca-425c-9f9d-dd26961e7993",
   "metadata": {},
   "outputs": [
    {
     "name": "stdin",
     "output_type": "stream",
     "text": [
      "Please enter the first integer number:  hundred\n"
     ]
    },
    {
     "ename": "ValueError",
     "evalue": "invalid literal for int() with base 10: 'hundred'",
     "output_type": "error",
     "traceback": [
      "\u001b[1;31m---------------------------------------------------------------------------\u001b[0m",
      "\u001b[1;31mValueError\u001b[0m                                Traceback (most recent call last)",
      "\u001b[1;32m<ipython-input-12-01d55635b9c5>\u001b[0m in \u001b[0;36m<module>\u001b[1;34m\u001b[0m\n\u001b[0;32m      1\u001b[0m \u001b[1;32mtry\u001b[0m\u001b[1;33m:\u001b[0m\u001b[1;33m\u001b[0m\u001b[1;33m\u001b[0m\u001b[0m\n\u001b[1;32m----> 2\u001b[1;33m     \u001b[0mnum1\u001b[0m \u001b[1;33m=\u001b[0m \u001b[0mint\u001b[0m\u001b[1;33m(\u001b[0m\u001b[0minput\u001b[0m\u001b[1;33m(\u001b[0m\u001b[1;34m\"Please enter the first integer number: \"\u001b[0m\u001b[1;33m)\u001b[0m\u001b[1;33m)\u001b[0m\u001b[1;33m\u001b[0m\u001b[1;33m\u001b[0m\u001b[0m\n\u001b[0m\u001b[0;32m      3\u001b[0m     \u001b[0mnum2\u001b[0m \u001b[1;33m=\u001b[0m \u001b[0mint\u001b[0m\u001b[1;33m(\u001b[0m\u001b[0minput\u001b[0m\u001b[1;33m(\u001b[0m\u001b[1;34m\"Please enter the second integer number: \"\u001b[0m\u001b[1;33m)\u001b[0m\u001b[1;33m)\u001b[0m\u001b[1;33m\u001b[0m\u001b[1;33m\u001b[0m\u001b[0m\n\u001b[0;32m      4\u001b[0m     \u001b[0mresult\u001b[0m \u001b[1;33m=\u001b[0m \u001b[0mnum1\u001b[0m \u001b[1;33m/\u001b[0m \u001b[0mnum2\u001b[0m\u001b[1;33m\u001b[0m\u001b[1;33m\u001b[0m\u001b[0m\n\u001b[0;32m      5\u001b[0m     \u001b[0mprint\u001b[0m \u001b[1;33m(\u001b[0m\u001b[1;34mf\"So {num1} / {num2} = {result}...\"\u001b[0m\u001b[1;33m)\u001b[0m\u001b[1;33m\u001b[0m\u001b[1;33m\u001b[0m\u001b[0m\n",
      "\u001b[1;31mValueError\u001b[0m: invalid literal for int() with base 10: 'hundred'"
     ]
    }
   ],
   "source": [
    "try:\n",
    "    num1 = int(input(\"Please enter the first integer number: \"))\n",
    "    num2 = int(input(\"Please enter the second integer number: \"))\n",
    "    result = num1 / num2\n",
    "    print (f\"So {num1} / {num2} = {result}...\")\n",
    "except ZeroDivisionError as zde:\n",
    "    print (\"ZeroDivisionError: Division by ZERO is Illegal...!!!\")\n",
    "    print (f\"ZeroDivisionError: Type of the error is: {type(zde)}...\")\n",
    "    print (f\"ZeroDivisionError: Error message is: {zde}\")\n",
    "    \n",
    "print (\"End of the program...\")"
   ]
  },
  {
   "cell_type": "code",
   "execution_count": 13,
   "id": "e365086b-74d3-4535-ada5-94d2a5d2f4ad",
   "metadata": {},
   "outputs": [
    {
     "name": "stdin",
     "output_type": "stream",
     "text": [
      "Please enter the first integer number:  hundred\n"
     ]
    },
    {
     "name": "stdout",
     "output_type": "stream",
     "text": [
      "ValueError: Please only give INTEGER input numbers...!!!\n",
      "ValueError: Type of the error is: <class 'ValueError'>...\n",
      "ValueError: Error message is: invalid literal for int() with base 10: 'hundred'\n",
      "End of the program...\n"
     ]
    }
   ],
   "source": [
    "try:\n",
    "    num1 = int(input(\"Please enter the first integer number: \"))\n",
    "    num2 = int(input(\"Please enter the second integer number: \"))\n",
    "    result = num1 / num2\n",
    "    print (f\"So {num1} / {num2} = {result}...\")\n",
    "except ZeroDivisionError as zde:\n",
    "    print (\"ZeroDivisionError: Division by ZERO is Illegal...!!!\")\n",
    "    print (f\"ZeroDivisionError: Type of the error is: {type(zde)}...\")\n",
    "    print (f\"ZeroDivisionError: Error message is: {zde}\")\n",
    "except ValueError as ve:\n",
    "    print (\"ValueError: Please only give INTEGER input numbers...!!!\")\n",
    "    print (f\"ValueError: Type of the error is: {type(ve)}...\")\n",
    "    print (f\"ValueError: Error message is: {ve}\")    \n",
    "print (\"End of the program...\")"
   ]
  },
  {
   "cell_type": "code",
   "execution_count": 21,
   "id": "e7a0b1b9-1b38-4ceb-a915-799240f90d1e",
   "metadata": {},
   "outputs": [
    {
     "name": "stdin",
     "output_type": "stream",
     "text": [
      "Please enter the first integer number:  100\n",
      "Please enter the second integer number:  two\n"
     ]
    },
    {
     "name": "stdout",
     "output_type": "stream",
     "text": [
      "Exception: Some other EXCEPTION has occurred...!!!\n",
      "Exception: Type of the error is: <class 'ValueError'>...\n",
      "Exception: Error message is: invalid literal for int() with base 10: 'two'\n",
      "End of the program...\n"
     ]
    }
   ],
   "source": [
    "try:\n",
    "    num1 = int(input(\"Please enter the first integer number: \"))\n",
    "    num2 = int(input(\"Please enter the second integer number: \"))\n",
    "    result = num1 / num2\n",
    "    print (f\"So {num1} / {num2} = {result}...\")\n",
    "# except ValueError as ve:\n",
    "#     print (\"ValueError: Please only give INTEGER input numbers...!!!\")\n",
    "#     print (f\"ValueError: Type of the error is: {type(ve)}...\")\n",
    "#     print (f\"ValueError: Error message is: {ve}\")    \n",
    "except ZeroDivisionError as zde:\n",
    "    print (\"ZeroDivisionError: Division by ZERO is Illegal...!!!\")\n",
    "    print (f\"ZeroDivisionError: Type of the error is: {type(zde)}...\")\n",
    "    print (f\"ZeroDivisionError: Error message is: {zde}\")\n",
    "except Exception as ex:\n",
    "    print (\"Exception: Some other EXCEPTION has occurred...!!!\")\n",
    "    print (f\"Exception: Type of the error is: {type(ex)}...\")\n",
    "    print (f\"Exception: Error message is: {ex}\")\n",
    "print (\"End of the program...\")"
   ]
  },
  {
   "cell_type": "code",
   "execution_count": 23,
   "id": "847f8f95-f945-4781-942e-6f4121ac8e09",
   "metadata": {},
   "outputs": [
    {
     "name": "stdin",
     "output_type": "stream",
     "text": [
      "Please enter the first integer number:  100.4\n"
     ]
    },
    {
     "name": "stdout",
     "output_type": "stream",
     "text": [
      "Exception: Some other EXCEPTION has occurred...!!!\n",
      "Exception: Type of the error is: <class 'ValueError'>...\n",
      "Exception: Error message is: invalid literal for int() with base 10: '100.4'\n",
      "End of the program...\n"
     ]
    }
   ],
   "source": [
    "try:\n",
    "    num1 = int(input(\"Please enter the first integer number: \"))\n",
    "    num2 = int(input(\"Please enter the second integer number: \"))\n",
    "    result = num1 / num2\n",
    "    print (f\"So {num1} / {num2} = {result}...\")\n",
    "except Exception as ex:\n",
    "    print (\"Exception: Some other EXCEPTION has occurred...!!!\")\n",
    "    print (f\"Exception: Type of the error is: {type(ex)}...\")\n",
    "    print (f\"Exception: Error message is: {ex}\")\n",
    "except ValueError as ve:\n",
    "    print (\"ValueError: Please only give INTEGER input numbers...!!!\")\n",
    "    print (f\"ValueError: Type of the error is: {type(ve)}...\")\n",
    "    print (f\"ValueError: Error message is: {ve}\")    \n",
    "except ZeroDivisionError as zde:\n",
    "    print (\"ZeroDivisionError: Division by ZERO is Illegal...!!!\")\n",
    "    print (f\"ZeroDivisionError: Type of the error is: {type(zde)}...\")\n",
    "    print (f\"ZeroDivisionError: Error message is: {zde}\")\n",
    "print (\"End of the program...\")"
   ]
  },
  {
   "cell_type": "code",
   "execution_count": 30,
   "id": "80bf75c2-dbce-48e9-928b-88dfa9e102fc",
   "metadata": {},
   "outputs": [
    {
     "name": "stdin",
     "output_type": "stream",
     "text": [
      "Please enter the first integer number:  100\n",
      "Please enter the second integer number:  0\n"
     ]
    },
    {
     "name": "stdout",
     "output_type": "stream",
     "text": [
      "ZeroDivisionError: Division by ZERO is Illegal...!!!\n",
      "ZeroDivisionError: Type of the error is: <class 'ZeroDivisionError'>...\n",
      "ZeroDivisionError: Error message is: division by zero...\n",
      "Finally: Finally block is executing...\n",
      "Finally: Finally block always executes...\n",
      "End of the program...\n"
     ]
    }
   ],
   "source": [
    "try:\n",
    "    num1 = int(input(\"Please enter the first integer number: \"))\n",
    "    num2 = int(input(\"Please enter the second integer number: \"))\n",
    "    result = num1 / num2\n",
    "    print (f\"So {num1} / {num2} = {result}...\")\n",
    "except ValueError as ve:\n",
    "    print (\"ValueError: Please only give INTEGER input numbers...!!!\")\n",
    "    print (f\"ValueError: Type of the error is: {type(ve)}...\")\n",
    "    print (f\"ValueError: Error message is: {ve}...\")    \n",
    "except ZeroDivisionError as zde:\n",
    "    print (\"ZeroDivisionError: Division by ZERO is Illegal...!!!\")\n",
    "    print (f\"ZeroDivisionError: Type of the error is: {type(zde)}...\")\n",
    "    print (f\"ZeroDivisionError: Error message is: {zde}...\")\n",
    "except Exception as ex:\n",
    "    print (\"Exception: Some other EXCEPTION has occurred...!!!\")\n",
    "    print (f\"Exception: Type of the error is: {type(ex)}...\")\n",
    "    print (f\"Exception: Error message is: {ex}...\")\n",
    "else:\n",
    "    print (\"Else: Else block is executing...\")\n",
    "    print (\"Else: Had a smooth execution...\")\n",
    "finally:\n",
    "    print (\"Finally: Finally block is executing...\")\n",
    "    print (\"Finally: Finally block always executes...\")\n",
    "print (\"End of the program...\")"
   ]
  },
  {
   "cell_type": "code",
   "execution_count": 35,
   "id": "9b79393d-4800-47ad-b894-fa8f72fad10a",
   "metadata": {},
   "outputs": [
    {
     "name": "stdin",
     "output_type": "stream",
     "text": [
      "Please enter the first integer number:  100\n",
      "Please enter the second integer number:  0\n"
     ]
    },
    {
     "name": "stdout",
     "output_type": "stream",
     "text": [
      "ZeroDivisionError: Division by ZERO is Illegal...!!!\n",
      "ZeroDivisionError: Type of the error is: <class 'ZeroDivisionError'>...\n",
      "ZeroDivisionError: Error message is: division by zero...\n",
      "Finally: Finally block is executing...\n",
      "Finally: Finally block always executes...\n"
     ]
    },
    {
     "name": "stdin",
     "output_type": "stream",
     "text": [
      "Please enter the first integer number:  900\n",
      "Please enter the second integer number:  0\n"
     ]
    },
    {
     "name": "stdout",
     "output_type": "stream",
     "text": [
      "NameError: Input numbers are out of range...\n",
      "NameError: Input Number is ABOVE 100...\n",
      "Finally: Finally block is executing...\n",
      "Finally: Finally block always executes...\n"
     ]
    },
    {
     "name": "stdin",
     "output_type": "stream",
     "text": [
      "Please enter the first integer number:  -900\n",
      "Please enter the second integer number:  20\n"
     ]
    },
    {
     "name": "stdout",
     "output_type": "stream",
     "text": [
      "NameError: Input numbers are out of range...\n",
      "NameError: Input Number is BELOW -100...\n",
      "Finally: Finally block is executing...\n",
      "Finally: Finally block always executes...\n"
     ]
    },
    {
     "name": "stdin",
     "output_type": "stream",
     "text": [
      "Please enter the first integer number:  100.5\n"
     ]
    },
    {
     "name": "stdout",
     "output_type": "stream",
     "text": [
      "ValueError: Please only give INTEGER input numbers...!!!\n",
      "ValueError: Type of the error is: <class 'ValueError'>...\n",
      "ValueError: Error message is: invalid literal for int() with base 10: '100.5'...\n",
      "Finally: Finally block is executing...\n",
      "Finally: Finally block always executes...\n"
     ]
    },
    {
     "name": "stdin",
     "output_type": "stream",
     "text": [
      "Please enter the first integer number:  hudred\n"
     ]
    },
    {
     "name": "stdout",
     "output_type": "stream",
     "text": [
      "ValueError: Please only give INTEGER input numbers...!!!\n",
      "ValueError: Type of the error is: <class 'ValueError'>...\n",
      "ValueError: Error message is: invalid literal for int() with base 10: 'hudred'...\n",
      "Finally: Finally block is executing...\n",
      "Finally: Finally block always executes...\n"
     ]
    },
    {
     "name": "stdin",
     "output_type": "stream",
     "text": [
      "Please enter the first integer number:  30\n",
      "Please enter the second integer number:  6\n"
     ]
    },
    {
     "name": "stdout",
     "output_type": "stream",
     "text": [
      "So 30 / 6 = 5.0...\n",
      "Else: Else block is executing...\n",
      "Else: Had a smooth execution...\n",
      "Finally: Finally block is executing...\n",
      "Finally: Finally block always executes...\n",
      "End of the program...\n"
     ]
    }
   ],
   "source": [
    "while (True):\n",
    "    try:\n",
    "        num1 = int(input(\"Please enter the first integer number: \"))\n",
    "        num2 = int(input(\"Please enter the second integer number: \"))\n",
    "        if (num1 < -100 or num2 < -100): raise NameError(\"Below-100\")\n",
    "        if (num1 > 100 or num2 > 100): raise NameError(\"Above100\")\n",
    "        result = num1 / num2\n",
    "        print (f\"So {num1} / {num2} = {result}...\")\n",
    "    except ValueError as ve:\n",
    "        print (\"ValueError: Please only give INTEGER input numbers...!!!\")\n",
    "        print (f\"ValueError: Type of the error is: {type(ve)}...\")\n",
    "        print (f\"ValueError: Error message is: {ve}...\")    \n",
    "    except ZeroDivisionError as zde:\n",
    "        print (\"ZeroDivisionError: Division by ZERO is Illegal...!!!\")\n",
    "        print (f\"ZeroDivisionError: Type of the error is: {type(zde)}...\")\n",
    "        print (f\"ZeroDivisionError: Error message is: {zde}...\")\n",
    "    except NameError as ne:\n",
    "        print (\"NameError: Input numbers are out of range...\")\n",
    "        if (str(ne) == \"Below-100\"): print (\"NameError: Input Number is BELOW -100...\")\n",
    "        if (str(ne) == \"Above100\"): print (\"NameError: Input Number is ABOVE 100...\")\n",
    "    except Exception as ex:\n",
    "        print (\"Exception: Some other EXCEPTION has occurred...!!!\")\n",
    "        print (f\"Exception: Type of the error is: {type(ex)}...\")\n",
    "        print (f\"Exception: Error message is: {ex}...\")\n",
    "    else:\n",
    "        print (\"Else: Else block is executing...\")\n",
    "        print (\"Else: Had a smooth execution...\")\n",
    "        break\n",
    "    finally:\n",
    "        print (\"Finally: Finally block is executing...\")\n",
    "        print (\"Finally: Finally block always executes...\")\n",
    "print (\"End of the program...\")"
   ]
  },
  {
   "cell_type": "code",
   "execution_count": null,
   "id": "14c54361-ee6d-4d2b-9342-cfb6350ae8b3",
   "metadata": {},
   "outputs": [],
   "source": []
  },
  {
   "cell_type": "code",
   "execution_count": null,
   "id": "a52b1061-360b-47d5-9cc6-6cfb70237b14",
   "metadata": {},
   "outputs": [],
   "source": []
  },
  {
   "cell_type": "code",
   "execution_count": null,
   "id": "14f81780-8a42-4fe7-946b-f220c5ba0550",
   "metadata": {},
   "outputs": [],
   "source": []
  },
  {
   "cell_type": "code",
   "execution_count": null,
   "id": "a7434d6b-9a0d-4346-837c-366291268d9c",
   "metadata": {},
   "outputs": [],
   "source": []
  },
  {
   "cell_type": "code",
   "execution_count": null,
   "id": "8244ad21-0f2d-4d9e-8c0e-169e2c455326",
   "metadata": {},
   "outputs": [],
   "source": []
  },
  {
   "cell_type": "code",
   "execution_count": null,
   "id": "592bdca5-4cc2-4aae-b67b-7c6fe33584b1",
   "metadata": {},
   "outputs": [],
   "source": []
  },
  {
   "cell_type": "code",
   "execution_count": null,
   "id": "431c02c2-3b9a-408b-8128-6c18101cd0eb",
   "metadata": {},
   "outputs": [],
   "source": []
  },
  {
   "cell_type": "code",
   "execution_count": null,
   "id": "48077fa0-852c-4e18-a0ac-70e7e5e727e9",
   "metadata": {},
   "outputs": [],
   "source": []
  },
  {
   "cell_type": "code",
   "execution_count": null,
   "id": "2ac5f441-9580-42c9-bbbf-38fd69eaa983",
   "metadata": {},
   "outputs": [],
   "source": []
  },
  {
   "cell_type": "code",
   "execution_count": null,
   "id": "94cdc10d-1ffd-420f-a4be-265bf6ef445c",
   "metadata": {},
   "outputs": [],
   "source": []
  },
  {
   "cell_type": "code",
   "execution_count": null,
   "id": "5b1802a6-304d-4d96-9fad-d8cda271b9c2",
   "metadata": {},
   "outputs": [],
   "source": []
  },
  {
   "cell_type": "code",
   "execution_count": null,
   "id": "1f2948f6-ad78-471e-a055-abcc19d3af50",
   "metadata": {},
   "outputs": [],
   "source": []
  },
  {
   "cell_type": "code",
   "execution_count": null,
   "id": "cedd4ee9-ea10-4739-8ab9-5276af4fe727",
   "metadata": {},
   "outputs": [],
   "source": []
  },
  {
   "cell_type": "code",
   "execution_count": null,
   "id": "eb8a8385-2593-4c41-b57c-af4a534b06e6",
   "metadata": {},
   "outputs": [],
   "source": []
  },
  {
   "cell_type": "code",
   "execution_count": null,
   "id": "90b41b2a-eaed-475b-8f4b-107f5b4c4a22",
   "metadata": {},
   "outputs": [],
   "source": []
  },
  {
   "cell_type": "code",
   "execution_count": null,
   "id": "fc0d6659-bc40-4984-b351-3c1a59f0bdc4",
   "metadata": {},
   "outputs": [],
   "source": []
  },
  {
   "cell_type": "code",
   "execution_count": null,
   "id": "8f12f775-c2d4-4fc0-be19-62aa57553ee8",
   "metadata": {},
   "outputs": [],
   "source": []
  },
  {
   "cell_type": "code",
   "execution_count": null,
   "id": "fe12c248-e304-41bb-b742-b3c5bb3a1ab9",
   "metadata": {},
   "outputs": [],
   "source": []
  },
  {
   "cell_type": "code",
   "execution_count": null,
   "id": "de46dfd9-14b2-4232-8384-3b92167b46c5",
   "metadata": {},
   "outputs": [],
   "source": []
  },
  {
   "cell_type": "code",
   "execution_count": null,
   "id": "dd3fc2a0-b422-45ee-a039-6f6b9d599741",
   "metadata": {},
   "outputs": [],
   "source": []
  },
  {
   "cell_type": "code",
   "execution_count": null,
   "id": "b32904f5-4fc1-4ff1-b966-31dae5560a3a",
   "metadata": {},
   "outputs": [],
   "source": []
  }
 ],
 "metadata": {
  "kernelspec": {
   "display_name": "Python 3",
   "language": "python",
   "name": "python3"
  },
  "language_info": {
   "codemirror_mode": {
    "name": "ipython",
    "version": 3
   },
   "file_extension": ".py",
   "mimetype": "text/x-python",
   "name": "python",
   "nbconvert_exporter": "python",
   "pygments_lexer": "ipython3",
   "version": "3.8.8"
  }
 },
 "nbformat": 4,
 "nbformat_minor": 5
}
