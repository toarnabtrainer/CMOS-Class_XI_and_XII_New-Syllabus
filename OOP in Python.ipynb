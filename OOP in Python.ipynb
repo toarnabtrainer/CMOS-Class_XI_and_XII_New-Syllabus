{
 "cells": [
  {
   "cell_type": "markdown",
   "id": "45332846-bd60-4a9b-83e4-e2afcbc290f4",
   "metadata": {},
   "source": [
    "### Object Oriented Programming in Python"
   ]
  },
  {
   "cell_type": "markdown",
   "id": "e6a637c9-07d6-4523-9321-4cbb2d96deb9",
   "metadata": {},
   "source": [
    "> Procedural languages lack encapsulation, difficult to manage when code size >= 10 KLOC, variables are unprotected, no automatic memory management by deleting deferenced variables. It should be noted that the class definition in Python cannot be empty. It should have at least a doc string which denotes definition of the class."
   ]
  },
  {
   "cell_type": "code",
   "execution_count": 2,
   "id": "a9b1edd8-0f88-42f0-9eea-fedcca4c7857",
   "metadata": {},
   "outputs": [
    {
     "name": "stdout",
     "output_type": "stream",
     "text": [
      "This is a doc string...\n",
      "This is a doc string...\n"
     ]
    }
   ],
   "source": [
    "class MyFirstClass:\n",
    "    \"\"\"This is a doc string...\"\"\"\n",
    "    \n",
    "ob1 = MyFirstClass()\n",
    "print (ob1.__doc__)\n",
    "print (MyFirstClass.__doc__)"
   ]
  },
  {
   "cell_type": "code",
   "execution_count": 3,
   "id": "791bed7f-bc7a-4352-bdca-bde31c11db8f",
   "metadata": {},
   "outputs": [
    {
     "name": "stdout",
     "output_type": "stream",
     "text": [
      "str(object='') -> str\n",
      "str(bytes_or_buffer[, encoding[, errors]]) -> str\n",
      "\n",
      "Create a new string object from the given object. If encoding or\n",
      "errors is specified, then the object must expose a data buffer\n",
      "that will be decoded using the given encoding and error handler.\n",
      "Otherwise, returns the result of object.__str__() (if defined)\n",
      "or repr(object).\n",
      "encoding defaults to sys.getdefaultencoding().\n",
      "errors defaults to 'strict'.\n"
     ]
    }
   ],
   "source": [
    "print (str.__doc__)"
   ]
  },
  {
   "cell_type": "code",
   "execution_count": 4,
   "id": "2bd2b036-3b24-41a9-8d93-cd3b6cecac04",
   "metadata": {},
   "outputs": [
    {
     "name": "stdout",
     "output_type": "stream",
     "text": [
      "int([x]) -> integer\n",
      "int(x, base=10) -> integer\n",
      "\n",
      "Convert a number or string to an integer, or return 0 if no arguments\n",
      "are given.  If x is a number, return x.__int__().  For floating point\n",
      "numbers, this truncates towards zero.\n",
      "\n",
      "If x is not a number or if base is given, then x must be a string,\n",
      "bytes, or bytearray instance representing an integer literal in the\n",
      "given base.  The literal can be preceded by '+' or '-' and be surrounded\n",
      "by whitespace.  The base defaults to 10.  Valid bases are 0 and 2-36.\n",
      "Base 0 means to interpret the base from the string as an integer literal.\n",
      ">>> int('0b100', base=0)\n",
      "4\n"
     ]
    }
   ],
   "source": [
    "print (int.__doc__)"
   ]
  },
  {
   "cell_type": "code",
   "execution_count": 7,
   "id": "8770cf94-76b3-44c3-b575-6db5c8b1f404",
   "metadata": {},
   "outputs": [],
   "source": [
    "class MyFirstClass:\n",
    "    pass\n",
    "\n",
    "ob1 = MyFirstClass()"
   ]
  },
  {
   "cell_type": "code",
   "execution_count": 16,
   "id": "b28cec4a-93d6-4ecf-9923-533bbfcf9857",
   "metadata": {},
   "outputs": [
    {
     "name": "stdout",
     "output_type": "stream",
     "text": [
      "This is a doc string...\n",
      "Executing the constructor method...\n",
      "Executing the display method...\n",
      "Class variables are 100...\n",
      "Class variables are 100...\n",
      "Instance variables are 111...\n",
      "self = <__main__.MyClass object at 0x0000026877A6C790>\n"
     ]
    }
   ],
   "source": [
    "class MyClass:\n",
    "    \"\"\"This is a doc string...\"\"\"    \n",
    "    class_var1 = 100    # class/static variables\n",
    "    def __init__(self, data1):    # constructor method\n",
    "        print (\"Executing the constructor method...\")\n",
    "        self.inst_var1 = data1   # instance variable\n",
    "    def display(self):\n",
    "        print (\"Executing the display method...\")\n",
    "        print (f\"Class variables are {MyClass.class_var1}...\")\n",
    "        print (f\"Class variables are {self.class_var1}...\")\n",
    "        print (f\"Instance variables are {self.inst_var1}...\")\n",
    "        print (f\"self = {self}\")\n",
    "        \n",
    "print (MyClass.__doc__)\n",
    "ob1 = MyClass(111)\n",
    "ob1.display()"
   ]
  },
  {
   "cell_type": "code",
   "execution_count": 20,
   "id": "45a75bb1-ebf5-4c91-90ed-cd315071a548",
   "metadata": {
    "tags": []
   },
   "outputs": [
    {
     "name": "stdout",
     "output_type": "stream",
     "text": [
      "This is a doc string...\n",
      "Executing the constructor method...\n",
      "Executing the display method...\n",
      "Class variables are 100...\n",
      "Class variables are 100...\n",
      "Instance variables are 111...\n",
      "self = <__main__.MyClass object at 0x00000268777C5C90>\n",
      "Updating class variables...\n",
      "\n",
      "Executing the constructor method...\n",
      "Executing the display method...\n",
      "Class variables are 150...\n",
      "Class variables are 150...\n",
      "Instance variables are 333...\n",
      "self = <__main__.MyClass object at 0x00000268778C2230>\n"
     ]
    }
   ],
   "source": [
    "class MyClass:\n",
    "    \"\"\"This is a doc string...\"\"\"\n",
    "    class_var1 = 100    # class/static variables\n",
    "    def __init__(self, data1):    # constructor method\n",
    "        print (\"Executing the constructor method...\")\n",
    "        self.inst_var1 = data1   # instance variable, self is an object binding variable\n",
    "    def display(self):\n",
    "        print (\"Executing the display method...\")\n",
    "        print (f\"Class variables are {MyClass.class_var1}...\")\n",
    "        print (f\"Class variables are {self.class_var1}...\")\n",
    "        print (f\"Instance variables are {self.inst_var1}...\")\n",
    "        print (\"self =\", self)\n",
    "    def update(self):\n",
    "        print (\"Updating class variables...\")\n",
    "        MyClass.class_var1 += 50\n",
    "\n",
    "print (MyClass.__doc__)\n",
    "ob1 = MyClass(111)\n",
    "ob1.display()\n",
    "ob1.update()\n",
    "print (\"\")\n",
    "ob2 = MyClass(333)\n",
    "ob2.display()"
   ]
  },
  {
   "cell_type": "code",
   "execution_count": 27,
   "id": "6c6fe91f-9005-4c65-abc9-6dc68837d142",
   "metadata": {},
   "outputs": [
    {
     "name": "stdout",
     "output_type": "stream",
     "text": [
      "This is a doc string...\n",
      "Executing the constructor method...\n",
      "Executing the display method...\n",
      "Class variables are 100...\n",
      "Class variables are 100...\n",
      "Instance variables are 111...\n",
      "self = <__main__.MyClass object at 0x00000268779FBEE0>\n",
      "Updating class variables...\n",
      "\n",
      "Executing the constructor method...\n",
      "Executing the display method...\n",
      "Class variables are 150...\n",
      "Class variables are 150...\n",
      "Instance variables are 333...\n",
      "self = <__main__.MyClass object at 0x00000268779FB910>\n"
     ]
    }
   ],
   "source": [
    "class MyClass:\n",
    "    \"\"\"This is a doc string...\"\"\"\n",
    "    class_var1 = 100    # class/static variables\n",
    "    def __init__(self, data1):    # constructor method\n",
    "        print (\"Executing the constructor method...\")\n",
    "        self.inst_var1 = data1   # instance variable, self is an object binding variable\n",
    "    def display(self):\n",
    "        print (\"Executing the display method...\")\n",
    "        print (f\"Class variables are {MyClass.class_var1}...\")\n",
    "        print (f\"Class variables are {self.class_var1}...\")\n",
    "        print (f\"Instance variables are {self.inst_var1}...\")\n",
    "        print (\"self =\", self)\n",
    "    def update(self):\n",
    "        print (\"Updating class variables...\")\n",
    "        MyClass.class_var1 += 50\n",
    "    def __del__(self):   # destructor method\n",
    "        print (\"Destructor method is executing...\")\n",
    "\n",
    "print (MyClass.__doc__)\n",
    "ob1 = MyClass(111)\n",
    "ob1.display()\n",
    "ob1.update()\n",
    "print (\"\")\n",
    "ob2 = MyClass(333)\n",
    "ob2.display()"
   ]
  },
  {
   "cell_type": "code",
   "execution_count": 28,
   "id": "66cade50-31dd-4f78-94db-e25108769aad",
   "metadata": {},
   "outputs": [
    {
     "name": "stdout",
     "output_type": "stream",
     "text": [
      "Executing the display method...\n",
      "Class variables are 150...\n",
      "Class variables are 150...\n",
      "Instance variables are 111...\n",
      "self = <__main__.MyClass object at 0x00000268779FBEE0>\n"
     ]
    }
   ],
   "source": [
    "ob1.display()"
   ]
  },
  {
   "cell_type": "code",
   "execution_count": 29,
   "id": "c5219c99-e90b-475f-9308-be73dea274c2",
   "metadata": {},
   "outputs": [
    {
     "name": "stdout",
     "output_type": "stream",
     "text": [
      "Executing the display method...\n",
      "Class variables are 150...\n",
      "Class variables are 150...\n",
      "Instance variables are 333...\n",
      "self = <__main__.MyClass object at 0x00000268779FB910>\n"
     ]
    }
   ],
   "source": [
    "ob2.display()"
   ]
  },
  {
   "cell_type": "code",
   "execution_count": 30,
   "id": "08a325d3-5f8a-4190-9092-5e6d8e01399a",
   "metadata": {},
   "outputs": [
    {
     "name": "stdout",
     "output_type": "stream",
     "text": [
      "Destructor method is executing...\n"
     ]
    }
   ],
   "source": [
    "del ob1"
   ]
  },
  {
   "cell_type": "code",
   "execution_count": 31,
   "id": "ee7acaea-5d87-4390-86e3-5a61da842c33",
   "metadata": {},
   "outputs": [
    {
     "name": "stdout",
     "output_type": "stream",
     "text": [
      "Destructor method is executing...\n"
     ]
    }
   ],
   "source": [
    "del ob2"
   ]
  },
  {
   "cell_type": "code",
   "execution_count": 32,
   "id": "41822118-f987-43b0-9bd4-6f37af86e6ca",
   "metadata": {},
   "outputs": [
    {
     "ename": "NameError",
     "evalue": "name 'ob1' is not defined",
     "output_type": "error",
     "traceback": [
      "\u001b[1;31m---------------------------------------------------------------------------\u001b[0m",
      "\u001b[1;31mNameError\u001b[0m                                 Traceback (most recent call last)",
      "Cell \u001b[1;32mIn[32], line 1\u001b[0m\n\u001b[1;32m----> 1\u001b[0m \u001b[43mob1\u001b[49m\u001b[38;5;241m.\u001b[39mdisplay()\n",
      "\u001b[1;31mNameError\u001b[0m: name 'ob1' is not defined"
     ]
    }
   ],
   "source": [
    "ob1.display()"
   ]
  },
  {
   "cell_type": "code",
   "execution_count": 34,
   "id": "d30c2ffc-f351-4870-b829-6d7240900dd9",
   "metadata": {},
   "outputs": [
    {
     "name": "stdout",
     "output_type": "stream",
     "text": [
      "So the number of objects defined = 1\n",
      "So the number of objects defined = 2\n",
      "So the number of objects defined = 3\n",
      "So the number of objects defined = 4\n"
     ]
    }
   ],
   "source": [
    "# keeping the count of number of objects created against a class\n",
    "class MyClass:\n",
    "    count = 0   # defining a class variable\n",
    "    def __init__(self):\n",
    "        MyClass.count += 1\n",
    "        \n",
    "ob1 = MyClass()\n",
    "print (\"So the number of objects defined =\", MyClass.count)\n",
    "ob2 = MyClass()\n",
    "print (\"So the number of objects defined =\", MyClass.count)\n",
    "ob3 = MyClass()\n",
    "print (\"So the number of objects defined =\", MyClass.count)\n",
    "ob4 = MyClass()\n",
    "print (\"So the number of objects defined =\", MyClass.count)"
   ]
  },
  {
   "cell_type": "code",
   "execution_count": 40,
   "id": "dcf697db-bfdd-4c87-9ecf-421f5194a56d",
   "metadata": {},
   "outputs": [
    {
     "name": "stdout",
     "output_type": "stream",
     "text": [
      "Executing instance method <__main__.MyClass object at 0x0000026876353A30>\n",
      "instVar = 100 and classVar = 222\n",
      "Executing class method <class '__main__.MyClass'>\n",
      "classVar = 333\n",
      "Executing class method <class '__main__.MyClass'>\n",
      "classVar = 333\n",
      "Executing static method\n",
      "classVar = 444\n",
      "Executing static method\n",
      "classVar = 444\n"
     ]
    }
   ],
   "source": [
    "# There are three different methods in Python: instance, class and static methods\n",
    "class MyClass:\n",
    "    classVar = 111       # class variable\n",
    "    # declaring instance method\n",
    "    def instMethod(self):\n",
    "        print (\"Executing instance method\", self)\n",
    "        self.instVar = 100    # instance variable\n",
    "        MyClass.classVar = 222\n",
    "        print (f\"instVar = {self.instVar} and classVar = {MyClass.classVar}\")\n",
    "    # declaring class method\n",
    "    @classmethod     # annotation or decorator\n",
    "    def classMethod(cla):\n",
    "        print (\"Executing class method\", cla)\n",
    "        cla.classVar = 333\n",
    "        print (f\"classVar = {MyClass.classVar}\")\n",
    "        # print (cla.instVar)\n",
    "    # declaring static method\n",
    "    @staticmethod     # annotation or decorator\n",
    "    def staticMethod():\n",
    "        print (\"Executing static method\")\n",
    "        MyClass.classVar = 444\n",
    "        print (f\"classVar = {MyClass.classVar}\")\n",
    "        \n",
    "ob1 = MyClass()\n",
    "ob1.instMethod()\n",
    "# MyClass.instMethod()\n",
    "ob1.classMethod()\n",
    "MyClass.classMethod()\n",
    "ob1.staticMethod()\n",
    "MyClass.staticMethod()"
   ]
  },
  {
   "cell_type": "code",
   "execution_count": 50,
   "id": "8649f848-ec12-433a-a65a-0566f699b70a",
   "metadata": {},
   "outputs": [
    {
     "name": "stdout",
     "output_type": "stream",
     "text": [
      "Public variable: 111\n",
      "Protected variable: 222\n",
      "Private variable: 333\n",
      "\n",
      "Public Method executing...\n",
      "Protected Method executing...\n",
      "Private Method executing...\n"
     ]
    }
   ],
   "source": [
    "# dealing with private, protected and public members...\n",
    "class MyClass:\n",
    "    def __init__(self):\n",
    "        self.publicVar = 111\n",
    "        self._protectedVar = 222\n",
    "        self.__privateVar = 333\n",
    "    def publicMethod(self):\n",
    "        return \"Public Method executing...\"\n",
    "    def _protectedMethod(self):\n",
    "        return \"Protected Method executing...\"\n",
    "    def __privateMethod(self):\n",
    "        return \"Private Method executing...\"\n",
    "        \n",
    "ob1 = MyClass()\n",
    "print (f\"Public variable: {ob1.publicVar}\")\n",
    "print (f\"Protected variable: {ob1._protectedVar}\")\n",
    "# print (f\"Private variable: {ob1.__privateVar}\")\n",
    "print (f\"Private variable: {ob1._MyClass__privateVar}\")\n",
    "print ()\n",
    "print (ob1.publicMethod())\n",
    "print (ob1._protectedMethod())\n",
    "# print (ob1.__privateMethod())\n",
    "print (ob1._MyClass__privateMethod())"
   ]
  },
  {
   "cell_type": "code",
   "execution_count": null,
   "id": "92acb698-1e55-4a0d-b70f-e324e1fa86ac",
   "metadata": {},
   "outputs": [],
   "source": []
  },
  {
   "cell_type": "code",
   "execution_count": null,
   "id": "52d614c1-0450-4e45-945e-4fdf106c635e",
   "metadata": {},
   "outputs": [],
   "source": []
  },
  {
   "cell_type": "code",
   "execution_count": null,
   "id": "a5261e5e-7a56-409f-9e50-0550e0c7d1b8",
   "metadata": {},
   "outputs": [],
   "source": []
  },
  {
   "cell_type": "code",
   "execution_count": null,
   "id": "c21c4fb5-c15d-46e6-80fa-833113b00eac",
   "metadata": {},
   "outputs": [],
   "source": []
  },
  {
   "cell_type": "code",
   "execution_count": null,
   "id": "222d4e89-45d8-46d3-a5de-ea398a213bd1",
   "metadata": {},
   "outputs": [],
   "source": []
  },
  {
   "cell_type": "code",
   "execution_count": null,
   "id": "44304900-2d11-4456-8772-d93cf8fa434d",
   "metadata": {},
   "outputs": [],
   "source": []
  },
  {
   "cell_type": "code",
   "execution_count": null,
   "id": "8a023df6-7a88-47fc-b29e-f5e0eacad9b4",
   "metadata": {},
   "outputs": [],
   "source": []
  },
  {
   "cell_type": "code",
   "execution_count": null,
   "id": "abb263ab-1b26-45cd-b0e8-865bf8852a1c",
   "metadata": {},
   "outputs": [],
   "source": []
  },
  {
   "cell_type": "code",
   "execution_count": null,
   "id": "ee96a63e-be7e-473b-9267-600d3a13da28",
   "metadata": {},
   "outputs": [],
   "source": []
  },
  {
   "cell_type": "code",
   "execution_count": null,
   "id": "995ab8be-79f4-4501-bf25-47523814adf0",
   "metadata": {},
   "outputs": [],
   "source": []
  },
  {
   "cell_type": "code",
   "execution_count": null,
   "id": "f32c3857-e9b0-4ac8-8d8e-210ec04abdd1",
   "metadata": {},
   "outputs": [],
   "source": []
  },
  {
   "cell_type": "code",
   "execution_count": null,
   "id": "f1fdcc50-09b4-4f21-a1b5-598315dcaea0",
   "metadata": {},
   "outputs": [],
   "source": []
  },
  {
   "cell_type": "code",
   "execution_count": null,
   "id": "27366f2e-e9e0-4fb2-b6d6-42d66aac30f5",
   "metadata": {},
   "outputs": [],
   "source": []
  },
  {
   "cell_type": "code",
   "execution_count": null,
   "id": "0f6c43ba-e8d3-40cb-b2e3-1102ed8e7868",
   "metadata": {},
   "outputs": [],
   "source": []
  },
  {
   "cell_type": "code",
   "execution_count": null,
   "id": "b58b4749-6a4e-4a39-b8db-9a80aaf96528",
   "metadata": {},
   "outputs": [],
   "source": []
  },
  {
   "cell_type": "code",
   "execution_count": null,
   "id": "2cdb9eb5-01d2-467e-9677-cdbd78f3be5c",
   "metadata": {},
   "outputs": [],
   "source": []
  },
  {
   "cell_type": "code",
   "execution_count": null,
   "id": "30936112-e622-47a0-b739-4dc97f84e4bd",
   "metadata": {},
   "outputs": [],
   "source": []
  },
  {
   "cell_type": "code",
   "execution_count": null,
   "id": "f59b1a37-d176-45dc-9212-6105de3b5e6c",
   "metadata": {},
   "outputs": [],
   "source": []
  },
  {
   "cell_type": "code",
   "execution_count": null,
   "id": "cbe78a13-1e88-4153-b499-ab783da23b7c",
   "metadata": {},
   "outputs": [],
   "source": []
  },
  {
   "cell_type": "code",
   "execution_count": null,
   "id": "762102bf-f90b-4fb8-b90d-027c95c9836e",
   "metadata": {},
   "outputs": [],
   "source": []
  },
  {
   "cell_type": "code",
   "execution_count": null,
   "id": "5f3eeace-b703-4bf4-b2c4-c8552610e3f0",
   "metadata": {},
   "outputs": [],
   "source": []
  },
  {
   "cell_type": "code",
   "execution_count": null,
   "id": "871e7068-670c-4198-92a5-250659493b16",
   "metadata": {},
   "outputs": [],
   "source": []
  },
  {
   "cell_type": "code",
   "execution_count": null,
   "id": "7b218d94-8dd4-45f1-aab1-4af0f86e25bc",
   "metadata": {},
   "outputs": [],
   "source": []
  },
  {
   "cell_type": "code",
   "execution_count": null,
   "id": "dca7d5bc-b4df-4dd3-aba9-992570294bee",
   "metadata": {},
   "outputs": [],
   "source": []
  }
 ],
 "metadata": {
  "kernelspec": {
   "display_name": "Python 3 (ipykernel)",
   "language": "python",
   "name": "python3"
  },
  "language_info": {
   "codemirror_mode": {
    "name": "ipython",
    "version": 3
   },
   "file_extension": ".py",
   "mimetype": "text/x-python",
   "name": "python",
   "nbconvert_exporter": "python",
   "pygments_lexer": "ipython3",
   "version": "3.10.9"
  }
 },
 "nbformat": 4,
 "nbformat_minor": 5
}
