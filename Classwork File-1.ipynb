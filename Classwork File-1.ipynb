{
 "cells": [
  {
   "cell_type": "code",
   "execution_count": 2,
   "id": "957a1185-2ab4-4160-a854-33ae0028bd1e",
   "metadata": {},
   "outputs": [],
   "source": [
    "# This is a comment line\n",
    "# ipynb stands for Interactive Python Note Book\n",
    "# pip stands for Preferred Installer Program\n",
    "# Ctrl+/ will make a block of code commented or uncommented"
   ]
  },
  {
   "cell_type": "code",
   "execution_count": 5,
   "id": "4b868b68-0d03-4f11-a2b5-fc428ce247b1",
   "metadata": {},
   "outputs": [
    {
     "name": "stdin",
     "output_type": "stream",
     "text": [
      "Please enter the first number:  100\n",
      "Please enter the second number:  200\n"
     ]
    },
    {
     "name": "stdout",
     "output_type": "stream",
     "text": [
      "100 <class 'str'> 2178279568688\n",
      "200 <class 'str'> 2178279568880\n",
      "Total = 100200\n",
      "End of the program...\n"
     ]
    }
   ],
   "source": [
    "num1 = input(\"Please enter the first number: \")\n",
    "num2 = input(\"Please enter the second number: \")\n",
    "print (num1, type(num1), id(num1))\n",
    "print (num2, type(num2), id(num2))\n",
    "total = num1 + num2\n",
    "print(\"Total =\", total)\n",
    "print (\"End of the program...\")"
   ]
  },
  {
   "cell_type": "code",
   "execution_count": 6,
   "id": "6761fdd8-6cdd-47be-b2da-ec02b857d28f",
   "metadata": {},
   "outputs": [
    {
     "name": "stdin",
     "output_type": "stream",
     "text": [
      "Please enter the first number:  100\n",
      "Please enter the second number:  200\n"
     ]
    },
    {
     "name": "stdout",
     "output_type": "stream",
     "text": [
      "100 <class 'int'> 140728369820560\n",
      "200 <class 'int'> 140728369823760\n",
      "Total = 300\n",
      "End of the program...\n"
     ]
    }
   ],
   "source": [
    "num1 = int(input(\"Please enter the first number: \"))\n",
    "num2 = int(input(\"Please enter the second number: \"))\n",
    "print (num1, type(num1), id(num1))\n",
    "print (num2, type(num2), id(num2))\n",
    "total = num1 + num2\n",
    "print(\"Total =\", total)\n",
    "print (\"End of the program...\")"
   ]
  },
  {
   "cell_type": "code",
   "execution_count": 19,
   "id": "ac17e913-4385-4a35-93b1-989560ce5a0d",
   "metadata": {},
   "outputs": [
    {
     "name": "stdout",
     "output_type": "stream",
     "text": [
      "So 100 + 200 = 300\n",
      "So 100 + 200 = 300\n",
      "So 100 + 200 = 300\n",
      "So 100 + 200 = 300\n",
      "So 100 + 200 = 300\n",
      "So 100 + 200 = 300\n",
      "So 100 + 200 = 300\n",
      "So 100 + 200 = 300\n",
      "So 100 + 200.000000 = 300\n",
      "So 100 + 200.000000 = 300\n",
      "So 100 +   200.00 = 300\n",
      "So 100 + 200 = 300\n"
     ]
    }
   ],
   "source": [
    "print (\"So\", num1, \"+\", num2, \"=\", total)\n",
    "print (\"So \" + str(num1) + \" + \" + str(num2) + \" = \" + str(total))\n",
    "print (\"So {} + {} = {}\".format(num1, num2, total))   # {} is called variable place holder\n",
    "print (\"So {0} + {1} = {2}\".format(num1, num2, total))   # is called indexed place holder\n",
    "print (\"So {2} + {1} = {0}\".format(total, num2, num1))   # is called indexed place holder\n",
    "print (\"So {fn} + {sn} = {tot}\".format(fn = num1, sn = num2, tot = total))   # is called labeled place holder\n",
    "print (\"So {fn} + {sn} = {tot}\".format(sn = num2, fn = num1, tot = total))   # is called labeled place holder\n",
    "print (\"So %d + %d = %d\"%(num1, num2, total))    # %d means decimal data type\n",
    "print (\"So %d + %f = %d\"%(num1, num2, total))    # %f means float data type\n",
    "print (\"So %d + %10.6f = %d\"%(num1, num2, total))    # %f means float data type\n",
    "print (\"So %d + %8.2f = %d\"%(num1, num2, total))    # %f means float data type\n",
    "print (f\"So {num1} + {num2} = {total}\")    # f stands for smart formatting, available from Python 3.7 version onwards"
   ]
  },
  {
   "cell_type": "code",
   "execution_count": 1,
   "id": "4872ea80-7fac-4a6e-a1b7-8ae48c7c0be6",
   "metadata": {},
   "outputs": [
    {
     "name": "stdout",
     "output_type": "stream",
     "text": [
      "100 <class 'int'> 140727945868176\n",
      "100.5 <class 'float'> 1473641802576\n",
      "Punch <class 'str'> 1473642539952\n",
      "P <class 'str'> 1473568587888\n",
      "Punch <class 'str'> 1473642539952\n",
      "P <class 'str'> 1473568587888\n",
      "True <class 'bool'> 140727945582416\n",
      "False <class 'bool'> 140727945582448\n"
     ]
    }
   ],
   "source": [
    "var1 = 100; print (var1, type(var1), id(var1))\n",
    "var1 = 100.5; print (var1, type(var1), id(var1))\n",
    "var1 = \"Punch\"; print (var1, type(var1), id(var1))\n",
    "var1 = \"P\"; print (var1, type(var1), id(var1))\n",
    "var1 = 'Punch'; print (var1, type(var1), id(var1))\n",
    "var1 = 'P'; print (var1, type(var1), id(var1))\n",
    "var1 = True; print (var1, type(var1), id(var1))\n",
    "var1 = False; print (var1, type(var1), id(var1))"
   ]
  },
  {
   "cell_type": "code",
   "execution_count": 3,
   "id": "acc2778a-e6fd-4d3d-9737-061f2ef4332f",
   "metadata": {},
   "outputs": [
    {
     "name": "stdout",
     "output_type": "stream",
     "text": [
      "100 <class 'int'> 140727945868176\n",
      "100 <class 'int'> 140727945868176\n",
      "100 <class 'int'> 140727945868176\n"
     ]
    }
   ],
   "source": [
    "var1 = 100; print (var1, type(var1), id(var1))\n",
    "var2 = 100; print (var2, type(var2), id(var2))\n",
    "var3 = var1; print (var3, type(var3), id(var3))"
   ]
  },
  {
   "cell_type": "code",
   "execution_count": 4,
   "id": "c962f765-362d-465e-a428-f8b6b16bdd28",
   "metadata": {},
   "outputs": [
    {
     "name": "stdout",
     "output_type": "stream",
     "text": [
      "500 <class 'int'> 1473642426736\n",
      "500 <class 'int'> 1473642426608\n",
      "500 <class 'int'> 1473642426736\n"
     ]
    }
   ],
   "source": [
    "var1 = 500; print (var1, type(var1), id(var1))\n",
    "var2 = 500; print (var2, type(var2), id(var2))\n",
    "var3 = var1; print (var3, type(var3), id(var3))"
   ]
  },
  {
   "cell_type": "code",
   "execution_count": 10,
   "id": "7544d486-f5f1-49a6-8f32-011b2580280e",
   "metadata": {},
   "outputs": [
    {
     "name": "stdout",
     "output_type": "stream",
     "text": [
      "-6 <class 'int'> 1473642427632\n",
      "-6 <class 'int'> 1473642428240\n",
      "-6 <class 'int'> 1473642427632\n"
     ]
    }
   ],
   "source": [
    "# If values assigned to the variables ranging from -5 to 256, will have same id for variables\n",
    "var1 = -6; print (var1, type(var1), id(var1))\n",
    "var2 = -6; print (var2, type(var2), id(var2))\n",
    "var3 = var1; print (var3, type(var3), id(var3))"
   ]
  },
  {
   "cell_type": "code",
   "execution_count": 12,
   "id": "d6032a67-6eb5-421a-ad02-122a72774737",
   "metadata": {},
   "outputs": [
    {
     "name": "stdout",
     "output_type": "stream",
     "text": [
      "-100\n",
      "140\n",
      "60\n",
      "4000\n",
      "2.5\n",
      "2\n",
      "20\n",
      "100000000\n"
     ]
    }
   ],
   "source": [
    "# Arithmetic Operators: + - * / // ** %\n",
    "# Conditional Operators: > >= < <= != ==\n",
    "# Logical Operators: and or not\n",
    "# Assignment Operator: =\n",
    "# Special Assignment Operators: += -= *= /= //= **= %=\n",
    "# Operators: Unary, Binary, Ternary\n",
    "# Unary Operators (Require only one operand): +100 -300\n",
    "# Binary Operators (Require only two operands): 700 + 100 900 - 300\n",
    "# Ternary Operator (Requires only three operands)\n",
    "\n",
    "# Artithmetic Operators\n",
    "print (-100)\n",
    "print (100 + 40)\n",
    "print (100 - 40)\n",
    "print (100 * 40)\n",
    "print (100 / 40)\n",
    "print (100 // 40)\n",
    "print (100 % 40)\n",
    "print (100 ** 4)"
   ]
  },
  {
   "cell_type": "code",
   "execution_count": 15,
   "id": "e0bbae0e-0dda-444e-9b4c-e2b1f57a0171",
   "metadata": {},
   "outputs": [
    {
     "name": "stdout",
     "output_type": "stream",
     "text": [
      "Even\n",
      "Odd\n",
      "Odd\n"
     ]
    }
   ],
   "source": [
    "# Ternary Operator (Requires only three operands)\n",
    "num1 = 100;\n",
    "result = \"Even\" if (num1 % 2 == 0) else \"Odd\"\n",
    "print (result)\n",
    "\n",
    "num1 = 101;\n",
    "result = \"Even\" if (num1 % 2 == 0) else \"Odd\"\n",
    "print (result)\n",
    "\n",
    "import numpy as np\n",
    "num = 101\n",
    "print (np.where(num % 2 == 0, \"Even\", \"Odd\"))"
   ]
  },
  {
   "cell_type": "code",
   "execution_count": 16,
   "id": "542f2115-6b6b-44fe-9178-8b9ec8cd5d72",
   "metadata": {},
   "outputs": [
    {
     "name": "stdout",
     "output_type": "stream",
     "text": [
      "A a\n"
     ]
    }
   ],
   "source": [
    "# Bitwise Operators: & | ~ ^\n",
    "#      A => 65 => 64 + 1 => 0100 0001\n",
    "#                        or 0010 0000 (32)\n",
    "#                           ---------\n",
    "# a => 97 => 64 + 32 + 1 => 0110 0001\n",
    "char1 = 'A'\n",
    "result = chr(ord(char1) | 32)\n",
    "print (char1, result)"
   ]
  },
  {
   "cell_type": "markdown",
   "id": "88bfec89-60e6-474a-8942-b4b6dde340d8",
   "metadata": {},
   "source": [
    "### Characters and ASCII Codes"
   ]
  },
  {
   "cell_type": "code",
   "execution_count": 18,
   "id": "8e00c37c-7749-44b0-ba90-fd183fcd5289",
   "metadata": {},
   "outputs": [
    {
     "name": "stdout",
     "output_type": "stream",
     "text": [
      "65 97 90 122\n",
      "A a Z z\n"
     ]
    }
   ],
   "source": [
    "# ASCII (American Standard Code for Information Interchange) Codes\n",
    "# ASCII Code is 8 bits code ranging from 0 to 255\n",
    "# It can be divided into two categories:\n",
    "# 1. Normal ASCII Codes (0 to 127) - Printable\n",
    "# 2. Extended ASCII Codes (128 to 255) - Non-Printable\n",
    "# A => 65, B => 66, Z => 90\n",
    "# a => 97, b => 98, z => 122\n",
    "# 0 => 48, 1 => 49, 9 => 57\n",
    "# Space Bar/Blank => 32, Enter => 13, Esc => 27, Back Space => 9, Tab => 8\n",
    "\n",
    "print (ord('A'), ord('a'), ord('Z'), ord('z')) # converts characters to ASCII Codes\n",
    "print (chr(65), chr(97), chr(90), chr(122)) # converts ASCII Codes to characters"
   ]
  },
  {
   "cell_type": "markdown",
   "id": "89f07365-cc05-4a97-80dc-102ea782deab",
   "metadata": {},
   "source": [
    "### Conditional Statements"
   ]
  },
  {
   "cell_type": "code",
   "execution_count": 26,
   "id": "a39bb137-2de8-4fed-b666-a0028f09a4f8",
   "metadata": {},
   "outputs": [
    {
     "ename": "IndentationError",
     "evalue": "unexpected indent (<ipython-input-26-b8d28b6662e4>, line 8)",
     "output_type": "error",
     "traceback": [
      "\u001b[1;36m  File \u001b[1;32m\"<ipython-input-26-b8d28b6662e4>\"\u001b[1;36m, line \u001b[1;32m8\u001b[0m\n\u001b[1;33m    print (\"So the maximum number is\", num1)\u001b[0m\n\u001b[1;37m    ^\u001b[0m\n\u001b[1;31mIndentationError\u001b[0m\u001b[1;31m:\u001b[0m unexpected indent\n"
     ]
    }
   ],
   "source": [
    "# Take three numbers from the user as input and find the maximum of these numbers\n",
    "num1 = int(input(\"Please enter the first integer: \"))\n",
    "num2 = int(input(\"Please enter the second integer: \"))\n",
    "num3 = int(input(\"Please enter the third integer: \"))\n",
    "if (num1 > num2):\n",
    "    if (num1 > num3):\n",
    "        print (\"The first number is the maximum number...\")\n",
    "        print (\"So the maximum number is\", num1)\n",
    "    else:\n",
    "        print (\"The third number is the maximum number...\")\n",
    "        print (\"So the maximum number is\", num3)\n",
    "elif (num2 > num3):\n",
    "    print (\"The second number is the maximum number...\")\n",
    "    print (\"So the maximum number is\", num2)\n",
    "else:\n",
    "    print (\"The third number is the maximum number...\")\n",
    "    print (\"So the maximum number is\", num3)\n",
    "print (\"End of the program...\")"
   ]
  },
  {
   "cell_type": "code",
   "execution_count": 30,
   "id": "7ecb21da-720e-485b-82df-cc2fde6b3330",
   "metadata": {},
   "outputs": [
    {
     "name": "stdout",
     "output_type": "stream",
     "text": [
      "M A I N  M E N U ...\n",
      "~~~~~~~~~~~~~~~~~~~~\n",
      "1 > A D D I T I O N  O P E R A T I O N ...\n",
      "2 > S U B T R A C T I O N  O P E R A T I O N ...\n",
      "3 > M U L T I P L I C A T I O N  O P E R A T I O N ...\n",
      "4 > D I V I S I O N  O P E R A T I O N ...\n"
     ]
    },
    {
     "name": "stdin",
     "output_type": "stream",
     "text": [
      "Please enter youe choice integer (1 to 4):  3\n",
      "Please enter the first integer:  10\n",
      "Please enter the second integer:  20\n"
     ]
    },
    {
     "name": "stdout",
     "output_type": "stream",
     "text": [
      "Performing the multiplication operation...\n",
      "So 10 * 20 = 200\n",
      "End of the program...\n"
     ]
    }
   ],
   "source": [
    "# Calculator Program\n",
    "print (\"M A I N  M E N U ...\")\n",
    "print (\"~~~~~~~~~~~~~~~~~~~~\")\n",
    "print (\"1 > A D D I T I O N  O P E R A T I O N ...\")\n",
    "print (\"2 > S U B T R A C T I O N  O P E R A T I O N ...\")\n",
    "print (\"3 > M U L T I P L I C A T I O N  O P E R A T I O N ...\")\n",
    "print (\"4 > D I V I S I O N  O P E R A T I O N ...\")\n",
    "choice = int(input(\"Please enter youe choice integer (1 to 4): \"))\n",
    "num1 = int(input(\"Please enter the first integer: \"))\n",
    "num2 = int(input(\"Please enter the second integer: \"))\n",
    "if (choice == 1):\n",
    "    print (\"Performing the addition operation...\")\n",
    "    result = num1 + num2\n",
    "    print (f\"So {num1} + {num2} = {result}\")\n",
    "elif (choice == 2):\n",
    "    print (\"Performing the subtraction operation...\")\n",
    "    result = num1 - num2\n",
    "    print (f\"So {num1} - {num2} = {result}\")\n",
    "elif (choice == 3):\n",
    "    print (\"Performing the multiplication operation...\")\n",
    "    result = num1 * num2\n",
    "    print (f\"So {num1} * {num2} = {result}\")\n",
    "elif (choice == 4):\n",
    "    print (\"Performing the division operation...\")\n",
    "    if (num2 == 0):\n",
    "        print (\"Division by ZERO is Illegal !!!\")\n",
    "        print (\"Division operation can not be carried out...\")\n",
    "    else:\n",
    "        result = num1 / num2\n",
    "        print (f\"So {num1} / {num2} = {result}\")\n",
    "else:\n",
    "    print (\"Invalid choice number has been provided...\")\n",
    "    print (\"No operation could get carried out...\")\n",
    "print (\"End of the program...\")"
   ]
  },
  {
   "cell_type": "code",
   "execution_count": 33,
   "id": "9526d9ba-6333-4c15-92c3-2ed533cdbe71",
   "metadata": {},
   "outputs": [
    {
     "name": "stdout",
     "output_type": "stream",
     "text": [
      "Hello Hello Hello \n",
      "Welcome Welcome Welcome Welcome Welcome Welcome Welcome Welcome Welcome Welcome \n",
      "Banana\n"
     ]
    }
   ],
   "source": [
    "print (\"Hello \" * 3)\n",
    "print (\"Welcome \" * 10)\n",
    "print (\"Ba\" + \"na\" * 2)"
   ]
  },
  {
   "cell_type": "markdown",
   "id": "b19399ac-0090-4a3f-aa95-f14ccbb19683",
   "metadata": {},
   "source": [
    "### Dealing with 'print' statement"
   ]
  },
  {
   "cell_type": "code",
   "execution_count": 36,
   "id": "2740bbc4-0318-49fb-bec5-89a76a0b43d5",
   "metadata": {},
   "outputs": [
    {
     "name": "stdout",
     "output_type": "stream",
     "text": [
      "Hello to all\n",
      "Good afternoon\n",
      "Hello - to all, Good afternoon\n"
     ]
    }
   ],
   "source": [
    "print (\"Hello\", \"to all\")\n",
    "print (\"Good afternoon\")\n",
    "\n",
    "print (\"Hello\", \"to all\", sep = \" - \", end = \", \")\n",
    "print (\"Good afternoon\")"
   ]
  },
  {
   "cell_type": "code",
   "execution_count": 35,
   "id": "816516d9-7460-4dd0-abee-6f2f80a75685",
   "metadata": {},
   "outputs": [
    {
     "name": "stdout",
     "output_type": "stream",
     "text": [
      "Help on built-in function print in module builtins:\n",
      "\n",
      "print(...)\n",
      "    print(value, ..., sep=' ', end='\\n', file=sys.stdout, flush=False)\n",
      "    \n",
      "    Prints the values to a stream, or to sys.stdout by default.\n",
      "    Optional keyword arguments:\n",
      "    file:  a file-like object (stream); defaults to the current sys.stdout.\n",
      "    sep:   string inserted between values, default a space.\n",
      "    end:   string appended after the last value, default a newline.\n",
      "    flush: whether to forcibly flush the stream.\n",
      "\n"
     ]
    }
   ],
   "source": [
    "help (print)    # ... ellipsis operator"
   ]
  },
  {
   "cell_type": "markdown",
   "id": "fed5b1bf-dc84-4a1b-af22-27d9edd926c3",
   "metadata": {},
   "source": [
    "### Python Loops"
   ]
  },
  {
   "cell_type": "code",
   "execution_count": 43,
   "id": "920b8907-a2c3-4fcc-92ab-618e89556966",
   "metadata": {},
   "outputs": [
    {
     "name": "stdout",
     "output_type": "stream",
     "text": [
      "1, 4, 7, \n",
      "count = 3\n"
     ]
    }
   ],
   "source": [
    "count = 0\n",
    "# for i in range(10):  # (0, 10, 1)\n",
    "# for i in range(1, 10):  # (1, 10, 1)\n",
    "# for i in range(-10, 10):  # (-10, 10, 1)\n",
    "# for i in range(10, -10, -1):\n",
    "for i in range(1, 10, 3):\n",
    "    print (i, end = \", \")\n",
    "    count += 1\n",
    "print (\"\\ncount =\", count)"
   ]
  },
  {
   "cell_type": "code",
   "execution_count": 46,
   "id": "35fef6ca-f0c8-4715-b698-5f03cdf0e84e",
   "metadata": {},
   "outputs": [
    {
     "name": "stdout",
     "output_type": "stream",
     "text": [
      "0, 1, 2, 3, 4, 5, 6, 7, 8, 9, \n",
      "Executing the BREAK block...\n",
      "\n",
      "End of the program...\n"
     ]
    }
   ],
   "source": [
    "# use of 'break' statement\n",
    "for i in range(10):\n",
    "    print (i, end = \", \")\n",
    "    if (i == 9):\n",
    "        print (\"\\nExecuting the BREAK block...\")\n",
    "        break # to check the help on break command use 'help(\"break\")'\n",
    "else:\n",
    "    print (\"\\nExecuting the ELSE block...\")\n",
    "    print (\"Had a smooth execution...\")\n",
    "print (\"\\nEnd of the program...\")"
   ]
  },
  {
   "cell_type": "code",
   "execution_count": 48,
   "id": "c82b8327-116e-424c-8f33-4fb381f0b494",
   "metadata": {},
   "outputs": [
    {
     "name": "stdin",
     "output_type": "stream",
     "text": [
      "Please enter one integer:  101\n"
     ]
    },
    {
     "name": "stdout",
     "output_type": "stream",
     "text": [
      "101 is a PRIME Number...\n",
      "End of the program...\n"
     ]
    }
   ],
   "source": [
    "# Check whether a number is a prime number or not\n",
    "num1 = int(input(\"Please enter one integer: \"))\n",
    "for i in range(2, num1):\n",
    "    if (num1 % i == 0):\n",
    "        print (f\"`is NOT a PRIME Number...\")\n",
    "        break\n",
    "else:\n",
    "    print (f\"{num1} is a PRIME Number...\")\n",
    "print (\"End of the program...\")"
   ]
  },
  {
   "cell_type": "code",
   "execution_count": 53,
   "id": "350392e2-7eb7-4def-be15-569880def4da",
   "metadata": {},
   "outputs": [
    {
     "name": "stdout",
     "output_type": "stream",
     "text": [
      "0, 1, 2, 3, \n",
      "Executing the continue statement for i = 4...\n",
      "5, \n",
      "Executing the continue statement for i = 6...\n",
      "7, 8, 9, \n",
      "Executing the ELSE block...\n",
      "Had a smooth execution...\n",
      "\n",
      "End of the program...\n"
     ]
    }
   ],
   "source": [
    "# use of 'continue' and 'pass' statements\n",
    "for i in range(10):\n",
    "    if (i == 4 or i == 6):\n",
    "        print (f\"\\nExecuting the continue statement for i = {i}...\")\n",
    "        continue\n",
    "    else:\n",
    "        # pass      # statement place holder\n",
    "        print (i, end = \", \")\n",
    "else:\n",
    "    print (\"\\nExecuting the ELSE block...\")\n",
    "    print (\"Had a smooth execution...\")\n",
    "#print (\"\\nEnd of the program...\")"
   ]
  },
  {
   "cell_type": "markdown",
   "id": "dcb01d0c-cdfa-45bf-9b3c-e4bf9161f29b",
   "metadata": {},
   "source": [
    "### While loop construct"
   ]
  },
  {
   "cell_type": "code",
   "execution_count": 56,
   "id": "ea5be571-5177-4371-b1e5-d8c0f5f18a18",
   "metadata": {},
   "outputs": [
    {
     "name": "stdout",
     "output_type": "stream",
     "text": [
      "Executing for i = 1...\n",
      "Executing for i = 2...\n",
      "Executing for i = 3...\n",
      "Executing for i = 4...\n",
      "Executing for i = 5...\n",
      "Executing for i = 6...\n",
      "Executing for i = 7...\n",
      "Executing for i = 8...\n",
      "Executing for i = 9...\n",
      "Executing for i = 10...\n",
      "Loop got executed for 10 number of times..\n",
      "End of the loop...\n"
     ]
    }
   ],
   "source": [
    "count = 0\n",
    "i = 1\n",
    "while (i <= 10):\n",
    "    print (f\"Executing for i = {i}...\")\n",
    "    i += 1\n",
    "    count += 1\n",
    "else:\n",
    "    print (f\"Loop got executed for {count} number of times..\")\n",
    "print (\"End of the loop...\")"
   ]
  },
  {
   "cell_type": "code",
   "execution_count": null,
   "id": "3e6bfb8b-4d87-40db-9419-8c32016d11d0",
   "metadata": {},
   "outputs": [],
   "source": [
    "n = 6            i    .    *\n",
    "               ---------------\n",
    ".....*           1    5    1       (i, n)\n",
    "....***          2    4    3  . => (n - i)\n",
    "...*****         3    3    5\n",
    "..*******        4    2    7  * => 2 * i - 1\n",
    ".*********       5    1    9\n",
    "***********      6    0   11\n",
    "               ---------------\n",
    "               Tracing Table"
   ]
  },
  {
   "cell_type": "code",
   "execution_count": 59,
   "id": "fac9b28e-23f1-4e8e-8a25-e5c6c0797fa1",
   "metadata": {},
   "outputs": [
    {
     "name": "stdin",
     "output_type": "stream",
     "text": [
      "Please enter the number of layers:  6\n"
     ]
    },
    {
     "name": "stdout",
     "output_type": "stream",
     "text": [
      ".....*\n",
      "....***\n",
      "...*****\n",
      "..*******\n",
      ".*********\n",
      "***********\n",
      "End of the program...\n"
     ]
    }
   ],
   "source": [
    "n = int(input(\"Please enter the number of layers: \"))\n",
    "for i in range(1, n + 1):\n",
    "    print (\".\" * (n - i) + \"*\" * (2 * i - 1))\n",
    "print (\"End of the program...\")"
   ]
  },
  {
   "cell_type": "code",
   "execution_count": null,
   "id": "ccb51e3d-a40a-48a8-b5d1-83d51ea00f77",
   "metadata": {},
   "outputs": [],
   "source": [
    "n = 11 (OOD Number of Layers)  m = (n + 1) // 2 = 6\n",
    "\n",
    "                 i    .    *\n",
    "               ---------------\n",
    "***********      1    0   11       (i, n, m)\n",
    ".*********       2    1    9  . => (i - 1)\n",
    "..*******        3    2    7\n",
    "...*****         4    3    5  * => (2 * (m - i) + 1)\n",
    "....***          5    4    3\n",
    ".....*         __6____5____1__\n",
    "....***          7    4    3\n",
    "...*****         8    3    5  . => (n - i)\n",
    "..*******        9    2    7\n",
    ".*********      10    1    9  * => (2 * (i - m) + 1)\n",
    "***********     11    0   11\n",
    "               ---------------"
   ]
  },
  {
   "cell_type": "code",
   "execution_count": 64,
   "id": "a1b9cbff-b968-4901-a540-a1f8cac203f1",
   "metadata": {},
   "outputs": [
    {
     "name": "stdin",
     "output_type": "stream",
     "text": [
      "Please enter the ODD number of layers:  12\n",
      "Please enter the ODD number of layers:  18\n",
      "Please enter the ODD number of layers:  20\n",
      "Please enter the ODD number of layers:  11\n"
     ]
    },
    {
     "name": "stdout",
     "output_type": "stream",
     "text": [
      "***********\n",
      ".*********\n",
      "..*******\n",
      "...*****\n",
      "....***\n",
      ".....*\n",
      "....***\n",
      "...*****\n",
      "..*******\n",
      ".*********\n",
      "***********\n",
      "End of the program...\n"
     ]
    }
   ],
   "source": [
    "while (True):\n",
    "    n = int(input(\"Please enter the ODD number of layers: \"))\n",
    "    if (n % 2 == 1): break\n",
    "m = (n + 1) // 2\n",
    "for i in range(1, n + 1):\n",
    "    if (i <= m): \n",
    "        b = (i - 1)\n",
    "        s = (2 * (m - i) + 1)\n",
    "    else:\n",
    "        b = (n - i)\n",
    "        s = (2 * (i - m) + 1)\n",
    "    print (\".\" * b + \"*\" * s)\n",
    "print (\"End of the program...\")"
   ]
  },
  {
   "cell_type": "code",
   "execution_count": 65,
   "id": "66eb82a3-0fca-4a23-a811-98bd65bcc1be",
   "metadata": {},
   "outputs": [
    {
     "name": "stdout",
     "output_type": "stream",
     "text": [
      "Visit Doctor...\n",
      "Good Morning...\n",
      "Day Number -> 1 and Medicine Number -> 1...\n",
      "Day Number -> 1 and Medicine Number -> 2...\n",
      "Day Number -> 1 and Medicine Number -> 3...\n",
      "Good Night...\n",
      "----------------------------------------------------------------\n",
      "Good Morning...\n",
      "Day Number -> 2 and Medicine Number -> 1...\n",
      "Day Number -> 2 and Medicine Number -> 2...\n",
      "Day Number -> 2 and Medicine Number -> 3...\n",
      "Good Night...\n",
      "----------------------------------------------------------------\n",
      "Good Morning...\n",
      "Day Number -> 3 and Medicine Number -> 1...\n",
      "Day Number -> 3 and Medicine Number -> 2...\n",
      "Day Number -> 3 and Medicine Number -> 3...\n",
      "Good Night...\n",
      "----------------------------------------------------------------\n",
      "Good Morning...\n",
      "Day Number -> 4 and Medicine Number -> 1...\n",
      "Day Number -> 4 and Medicine Number -> 2...\n",
      "Day Number -> 4 and Medicine Number -> 3...\n",
      "Good Night...\n",
      "----------------------------------------------------------------\n",
      "Good Morning...\n",
      "Day Number -> 5 and Medicine Number -> 1...\n",
      "Day Number -> 5 and Medicine Number -> 2...\n",
      "Day Number -> 5 and Medicine Number -> 3...\n",
      "Good Night...\n",
      "----------------------------------------------------------------\n",
      "Medicount = 15\n",
      "Thanks to Doctor...\n"
     ]
    }
   ],
   "source": [
    "# example of nested loop\n",
    "print (\"Visit Doctor...\") # 1 time\n",
    "medicount = 0 # 1 time\n",
    "for day in range(1, 6):\n",
    "    print (\"Good Morning...\") # 5 times\n",
    "    for medi in range(1, 4):\n",
    "        print (f\"Day Number -> {day} and Medicine Number -> {medi}...\") # 15 times\n",
    "        medicount += 1 # 15 times\n",
    "    print (\"Good Night...\") # 5 times\n",
    "    print (\"----------------------------------------------------------------\") # 5 times\n",
    "print (\"Medicount =\", medicount) # 1 time\n",
    "print (\"Thanks to Doctor...\") # 1 time"
   ]
  },
  {
   "cell_type": "markdown",
   "id": "9d99f1a5-438a-4b7c-9f96-c42cd6d17e24",
   "metadata": {},
   "source": [
    "### Expression evaluation"
   ]
  },
  {
   "cell_type": "code",
   "execution_count": 1,
   "id": "1c88d162-5a9d-4c58-b21a-f2c7c56a8cf4",
   "metadata": {},
   "outputs": [
    {
     "name": "stdin",
     "output_type": "stream",
     "text": [
      "Please enter your expression... 100 + (2 * 3 + 500) * 10\n"
     ]
    },
    {
     "name": "stdout",
     "output_type": "stream",
     "text": [
      "Result against the expression 100 + (2 * 3 + 500) * 10 is 5160...\n",
      "End of the program...\n"
     ]
    }
   ],
   "source": [
    "myexpr = input(\"Please enter your expression...\") # input: 100 + (2 * 3 + 500) * 10\n",
    "result = eval(myexpr)\n",
    "print (f\"Result against the expression {myexpr} is {result}...\")\n",
    "print (\"End of the program...\")"
   ]
  },
  {
   "cell_type": "code",
   "execution_count": null,
   "id": "f39a7e0b-45ea-4275-9ec6-363133cb212f",
   "metadata": {},
   "outputs": [],
   "source": []
  },
  {
   "cell_type": "code",
   "execution_count": null,
   "id": "3144d297-bef0-41a1-a6ca-98a19cb5a33b",
   "metadata": {},
   "outputs": [],
   "source": []
  },
  {
   "cell_type": "code",
   "execution_count": null,
   "id": "28895323-82b5-4757-8da7-13f2f7300835",
   "metadata": {},
   "outputs": [],
   "source": []
  }
 ],
 "metadata": {
  "kernelspec": {
   "display_name": "Python 3",
   "language": "python",
   "name": "python3"
  },
  "language_info": {
   "codemirror_mode": {
    "name": "ipython",
    "version": 3
   },
   "file_extension": ".py",
   "mimetype": "text/x-python",
   "name": "python",
   "nbconvert_exporter": "python",
   "pygments_lexer": "ipython3",
   "version": "3.8.8"
  }
 },
 "nbformat": 4,
 "nbformat_minor": 5
}
