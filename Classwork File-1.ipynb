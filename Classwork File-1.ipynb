{
 "cells": [
  {
   "cell_type": "code",
   "execution_count": 2,
   "id": "957a1185-2ab4-4160-a854-33ae0028bd1e",
   "metadata": {},
   "outputs": [],
   "source": [
    "# This is a comment line\n",
    "# ipynb stands for Interactive Python Note Book\n",
    "# pip stands for Preferred Installer Program\n",
    "# Ctrl+/ will make a block of code commented or uncommented"
   ]
  },
  {
   "cell_type": "code",
   "execution_count": 5,
   "id": "4b868b68-0d03-4f11-a2b5-fc428ce247b1",
   "metadata": {},
   "outputs": [
    {
     "name": "stdin",
     "output_type": "stream",
     "text": [
      "Please enter the first number:  100\n",
      "Please enter the second number:  200\n"
     ]
    },
    {
     "name": "stdout",
     "output_type": "stream",
     "text": [
      "100 <class 'str'> 2178279568688\n",
      "200 <class 'str'> 2178279568880\n",
      "Total = 100200\n",
      "End of the program...\n"
     ]
    }
   ],
   "source": [
    "num1 = input(\"Please enter the first number: \")\n",
    "num2 = input(\"Please enter the second number: \")\n",
    "print (num1, type(num1), id(num1))\n",
    "print (num2, type(num2), id(num2))\n",
    "total = num1 + num2\n",
    "print(\"Total =\", total)\n",
    "print (\"End of the program...\")"
   ]
  },
  {
   "cell_type": "code",
   "execution_count": 6,
   "id": "6761fdd8-6cdd-47be-b2da-ec02b857d28f",
   "metadata": {},
   "outputs": [
    {
     "name": "stdin",
     "output_type": "stream",
     "text": [
      "Please enter the first number:  100\n",
      "Please enter the second number:  200\n"
     ]
    },
    {
     "name": "stdout",
     "output_type": "stream",
     "text": [
      "100 <class 'int'> 140728369820560\n",
      "200 <class 'int'> 140728369823760\n",
      "Total = 300\n",
      "End of the program...\n"
     ]
    }
   ],
   "source": [
    "num1 = int(input(\"Please enter the first number: \"))\n",
    "num2 = int(input(\"Please enter the second number: \"))\n",
    "print (num1, type(num1), id(num1))\n",
    "print (num2, type(num2), id(num2))\n",
    "total = num1 + num2\n",
    "print(\"Total =\", total)\n",
    "print (\"End of the program...\")"
   ]
  },
  {
   "cell_type": "code",
   "execution_count": 19,
   "id": "ac17e913-4385-4a35-93b1-989560ce5a0d",
   "metadata": {},
   "outputs": [
    {
     "name": "stdout",
     "output_type": "stream",
     "text": [
      "So 100 + 200 = 300\n",
      "So 100 + 200 = 300\n",
      "So 100 + 200 = 300\n",
      "So 100 + 200 = 300\n",
      "So 100 + 200 = 300\n",
      "So 100 + 200 = 300\n",
      "So 100 + 200 = 300\n",
      "So 100 + 200 = 300\n",
      "So 100 + 200.000000 = 300\n",
      "So 100 + 200.000000 = 300\n",
      "So 100 +   200.00 = 300\n",
      "So 100 + 200 = 300\n"
     ]
    }
   ],
   "source": [
    "print (\"So\", num1, \"+\", num2, \"=\", total)\n",
    "print (\"So \" + str(num1) + \" + \" + str(num2) + \" = \" + str(total))\n",
    "print (\"So {} + {} = {}\".format(num1, num2, total))   # {} is called variable place holder\n",
    "print (\"So {0} + {1} = {2}\".format(num1, num2, total))   # is called indexed place holder\n",
    "print (\"So {2} + {1} = {0}\".format(total, num2, num1))   # is called indexed place holder\n",
    "print (\"So {fn} + {sn} = {tot}\".format(fn = num1, sn = num2, tot = total))   # is called labeled place holder\n",
    "print (\"So {fn} + {sn} = {tot}\".format(sn = num2, fn = num1, tot = total))   # is called labeled place holder\n",
    "print (\"So %d + %d = %d\"%(num1, num2, total))    # %d means decimal data type\n",
    "print (\"So %d + %f = %d\"%(num1, num2, total))    # %f means float data type\n",
    "print (\"So %d + %10.6f = %d\"%(num1, num2, total))    # %f means float data type\n",
    "print (\"So %d + %8.2f = %d\"%(num1, num2, total))    # %f means float data type\n",
    "print (f\"So {num1} + {num2} = {total}\")    # f stands for smart formatting, available from Python 3.7 version onwards"
   ]
  },
  {
   "cell_type": "code",
   "execution_count": null,
   "id": "4872ea80-7fac-4a6e-a1b7-8ae48c7c0be6",
   "metadata": {},
   "outputs": [],
   "source": []
  },
  {
   "cell_type": "code",
   "execution_count": null,
   "id": "acc2778a-e6fd-4d3d-9737-061f2ef4332f",
   "metadata": {},
   "outputs": [],
   "source": []
  },
  {
   "cell_type": "code",
   "execution_count": null,
   "id": "c962f765-362d-465e-a428-f8b6b16bdd28",
   "metadata": {},
   "outputs": [],
   "source": []
  },
  {
   "cell_type": "code",
   "execution_count": null,
   "id": "7544d486-f5f1-49a6-8f32-011b2580280e",
   "metadata": {},
   "outputs": [],
   "source": []
  },
  {
   "cell_type": "code",
   "execution_count": null,
   "id": "d6032a67-6eb5-421a-ad02-122a72774737",
   "metadata": {},
   "outputs": [],
   "source": []
  },
  {
   "cell_type": "code",
   "execution_count": null,
   "id": "e0bbae0e-0dda-444e-9b4c-e2b1f57a0171",
   "metadata": {},
   "outputs": [],
   "source": []
  },
  {
   "cell_type": "code",
   "execution_count": null,
   "id": "542f2115-6b6b-44fe-9178-8b9ec8cd5d72",
   "metadata": {},
   "outputs": [],
   "source": []
  },
  {
   "cell_type": "code",
   "execution_count": null,
   "id": "31b99a75-acc0-4d5b-a00b-24ac7097b429",
   "metadata": {},
   "outputs": [],
   "source": []
  },
  {
   "cell_type": "code",
   "execution_count": null,
   "id": "8e00c37c-7749-44b0-ba90-fd183fcd5289",
   "metadata": {},
   "outputs": [],
   "source": []
  },
  {
   "cell_type": "code",
   "execution_count": null,
   "id": "a39bb137-2de8-4fed-b666-a0028f09a4f8",
   "metadata": {},
   "outputs": [],
   "source": []
  },
  {
   "cell_type": "code",
   "execution_count": null,
   "id": "7ecb21da-720e-485b-82df-cc2fde6b3330",
   "metadata": {},
   "outputs": [],
   "source": []
  },
  {
   "cell_type": "code",
   "execution_count": null,
   "id": "9526d9ba-6333-4c15-92c3-2ed533cdbe71",
   "metadata": {},
   "outputs": [],
   "source": []
  },
  {
   "cell_type": "code",
   "execution_count": null,
   "id": "5faadffc-8886-43d4-91f9-17c156fcf4b8",
   "metadata": {},
   "outputs": [],
   "source": []
  },
  {
   "cell_type": "code",
   "execution_count": null,
   "id": "2740bbc4-0318-49fb-bec5-89a76a0b43d5",
   "metadata": {},
   "outputs": [],
   "source": []
  },
  {
   "cell_type": "code",
   "execution_count": null,
   "id": "816516d9-7460-4dd0-abee-6f2f80a75685",
   "metadata": {},
   "outputs": [],
   "source": []
  },
  {
   "cell_type": "code",
   "execution_count": null,
   "id": "ca5ac1d1-b633-4212-99e0-5d3a62c54060",
   "metadata": {},
   "outputs": [],
   "source": []
  },
  {
   "cell_type": "code",
   "execution_count": null,
   "id": "920b8907-a2c3-4fcc-92ab-618e89556966",
   "metadata": {},
   "outputs": [],
   "source": []
  },
  {
   "cell_type": "code",
   "execution_count": null,
   "id": "35fef6ca-f0c8-4715-b698-5f03cdf0e84e",
   "metadata": {},
   "outputs": [],
   "source": []
  },
  {
   "cell_type": "code",
   "execution_count": null,
   "id": "c82b8327-116e-424c-8f33-4fb381f0b494",
   "metadata": {},
   "outputs": [],
   "source": []
  },
  {
   "cell_type": "code",
   "execution_count": null,
   "id": "350392e2-7eb7-4def-be15-569880def4da",
   "metadata": {},
   "outputs": [],
   "source": []
  },
  {
   "cell_type": "code",
   "execution_count": null,
   "id": "1f28be0d-eaea-4172-9ab9-1c29b8a2a0d1",
   "metadata": {},
   "outputs": [],
   "source": []
  },
  {
   "cell_type": "code",
   "execution_count": null,
   "id": "ea5be571-5177-4371-b1e5-d8c0f5f18a18",
   "metadata": {},
   "outputs": [],
   "source": []
  },
  {
   "cell_type": "code",
   "execution_count": null,
   "id": "3e6bfb8b-4d87-40db-9419-8c32016d11d0",
   "metadata": {},
   "outputs": [],
   "source": []
  },
  {
   "cell_type": "code",
   "execution_count": null,
   "id": "fac9b28e-23f1-4e8e-8a25-e5c6c0797fa1",
   "metadata": {},
   "outputs": [],
   "source": []
  },
  {
   "cell_type": "code",
   "execution_count": null,
   "id": "ccb51e3d-a40a-48a8-b5d1-83d51ea00f77",
   "metadata": {},
   "outputs": [],
   "source": []
  },
  {
   "cell_type": "code",
   "execution_count": null,
   "id": "a1b9cbff-b968-4901-a540-a1f8cac203f1",
   "metadata": {},
   "outputs": [],
   "source": []
  },
  {
   "cell_type": "code",
   "execution_count": null,
   "id": "66eb82a3-0fca-4a23-a811-98bd65bcc1be",
   "metadata": {},
   "outputs": [],
   "source": []
  },
  {
   "cell_type": "code",
   "execution_count": null,
   "id": "e959c54d-95c8-4fbd-bbe3-351df7a823ff",
   "metadata": {},
   "outputs": [],
   "source": []
  },
  {
   "cell_type": "code",
   "execution_count": null,
   "id": "1c88d162-5a9d-4c58-b21a-f2c7c56a8cf4",
   "metadata": {},
   "outputs": [],
   "source": []
  },
  {
   "cell_type": "code",
   "execution_count": null,
   "id": "f39a7e0b-45ea-4275-9ec6-363133cb212f",
   "metadata": {},
   "outputs": [],
   "source": []
  },
  {
   "cell_type": "code",
   "execution_count": null,
   "id": "3144d297-bef0-41a1-a6ca-98a19cb5a33b",
   "metadata": {},
   "outputs": [],
   "source": []
  },
  {
   "cell_type": "code",
   "execution_count": null,
   "id": "28895323-82b5-4757-8da7-13f2f7300835",
   "metadata": {},
   "outputs": [],
   "source": []
  }
 ],
 "metadata": {
  "kernelspec": {
   "display_name": "Python 3",
   "language": "python",
   "name": "python3"
  },
  "language_info": {
   "codemirror_mode": {
    "name": "ipython",
    "version": 3
   },
   "file_extension": ".py",
   "mimetype": "text/x-python",
   "name": "python",
   "nbconvert_exporter": "python",
   "pygments_lexer": "ipython3",
   "version": "3.8.8"
  }
 },
 "nbformat": 4,
 "nbformat_minor": 5
}
