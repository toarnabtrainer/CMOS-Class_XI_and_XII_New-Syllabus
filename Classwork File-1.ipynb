{
 "cells": [
  {
   "cell_type": "code",
   "execution_count": 2,
   "id": "957a1185-2ab4-4160-a854-33ae0028bd1e",
   "metadata": {},
   "outputs": [],
   "source": [
    "# This is a comment line\n",
    "# ipynb stands for Interactive Python Note Book\n",
    "# pip stands for Preferred Installer Program\n",
    "# Ctrl+/ will make a block of code commented or uncommented"
   ]
  },
  {
   "cell_type": "code",
   "execution_count": 5,
   "id": "4b868b68-0d03-4f11-a2b5-fc428ce247b1",
   "metadata": {},
   "outputs": [
    {
     "name": "stdin",
     "output_type": "stream",
     "text": [
      "Please enter the first number:  100\n",
      "Please enter the second number:  200\n"
     ]
    },
    {
     "name": "stdout",
     "output_type": "stream",
     "text": [
      "100 <class 'str'> 2178279568688\n",
      "200 <class 'str'> 2178279568880\n",
      "Total = 100200\n",
      "End of the program...\n"
     ]
    }
   ],
   "source": [
    "num1 = input(\"Please enter the first number: \")\n",
    "num2 = input(\"Please enter the second number: \")\n",
    "print (num1, type(num1), id(num1))\n",
    "print (num2, type(num2), id(num2))\n",
    "total = num1 + num2\n",
    "print(\"Total =\", total)\n",
    "print (\"End of the program...\")"
   ]
  },
  {
   "cell_type": "code",
   "execution_count": 6,
   "id": "6761fdd8-6cdd-47be-b2da-ec02b857d28f",
   "metadata": {},
   "outputs": [
    {
     "name": "stdin",
     "output_type": "stream",
     "text": [
      "Please enter the first number:  100\n",
      "Please enter the second number:  200\n"
     ]
    },
    {
     "name": "stdout",
     "output_type": "stream",
     "text": [
      "100 <class 'int'> 140728369820560\n",
      "200 <class 'int'> 140728369823760\n",
      "Total = 300\n",
      "End of the program...\n"
     ]
    }
   ],
   "source": [
    "num1 = int(input(\"Please enter the first number: \"))\n",
    "num2 = int(input(\"Please enter the second number: \"))\n",
    "print (num1, type(num1), id(num1))\n",
    "print (num2, type(num2), id(num2))\n",
    "total = num1 + num2\n",
    "print(\"Total =\", total)\n",
    "print (\"End of the program...\")"
   ]
  },
  {
   "cell_type": "code",
   "execution_count": 19,
   "id": "ac17e913-4385-4a35-93b1-989560ce5a0d",
   "metadata": {},
   "outputs": [
    {
     "name": "stdout",
     "output_type": "stream",
     "text": [
      "So 100 + 200 = 300\n",
      "So 100 + 200 = 300\n",
      "So 100 + 200 = 300\n",
      "So 100 + 200 = 300\n",
      "So 100 + 200 = 300\n",
      "So 100 + 200 = 300\n",
      "So 100 + 200 = 300\n",
      "So 100 + 200 = 300\n",
      "So 100 + 200.000000 = 300\n",
      "So 100 + 200.000000 = 300\n",
      "So 100 +   200.00 = 300\n",
      "So 100 + 200 = 300\n"
     ]
    }
   ],
   "source": [
    "print (\"So\", num1, \"+\", num2, \"=\", total)\n",
    "print (\"So \" + str(num1) + \" + \" + str(num2) + \" = \" + str(total))\n",
    "print (\"So {} + {} = {}\".format(num1, num2, total))   # {} is called variable place holder\n",
    "print (\"So {0} + {1} = {2}\".format(num1, num2, total))   # is called indexed place holder\n",
    "print (\"So {2} + {1} = {0}\".format(total, num2, num1))   # is called indexed place holder\n",
    "print (\"So {fn} + {sn} = {tot}\".format(fn = num1, sn = num2, tot = total))   # is called labeled place holder\n",
    "print (\"So {fn} + {sn} = {tot}\".format(sn = num2, fn = num1, tot = total))   # is called labeled place holder\n",
    "print (\"So %d + %d = %d\"%(num1, num2, total))    # %d means decimal data type\n",
    "print (\"So %d + %f = %d\"%(num1, num2, total))    # %f means float data type\n",
    "print (\"So %d + %10.6f = %d\"%(num1, num2, total))    # %f means float data type\n",
    "print (\"So %d + %8.2f = %d\"%(num1, num2, total))    # %f means float data type\n",
    "print (f\"So {num1} + {num2} = {total}\")    # f stands for smart formatting, available from Python 3.7 version onwards"
   ]
  },
  {
   "cell_type": "code",
   "execution_count": 1,
   "id": "4872ea80-7fac-4a6e-a1b7-8ae48c7c0be6",
   "metadata": {},
   "outputs": [
    {
     "name": "stdout",
     "output_type": "stream",
     "text": [
      "100 <class 'int'> 140727945868176\n",
      "100.5 <class 'float'> 1473641802576\n",
      "Punch <class 'str'> 1473642539952\n",
      "P <class 'str'> 1473568587888\n",
      "Punch <class 'str'> 1473642539952\n",
      "P <class 'str'> 1473568587888\n",
      "True <class 'bool'> 140727945582416\n",
      "False <class 'bool'> 140727945582448\n"
     ]
    }
   ],
   "source": [
    "var1 = 100; print (var1, type(var1), id(var1))\n",
    "var1 = 100.5; print (var1, type(var1), id(var1))\n",
    "var1 = \"Punch\"; print (var1, type(var1), id(var1))\n",
    "var1 = \"P\"; print (var1, type(var1), id(var1))\n",
    "var1 = 'Punch'; print (var1, type(var1), id(var1))\n",
    "var1 = 'P'; print (var1, type(var1), id(var1))\n",
    "var1 = True; print (var1, type(var1), id(var1))\n",
    "var1 = False; print (var1, type(var1), id(var1))"
   ]
  },
  {
   "cell_type": "code",
   "execution_count": 3,
   "id": "acc2778a-e6fd-4d3d-9737-061f2ef4332f",
   "metadata": {},
   "outputs": [
    {
     "name": "stdout",
     "output_type": "stream",
     "text": [
      "100 <class 'int'> 140727945868176\n",
      "100 <class 'int'> 140727945868176\n",
      "100 <class 'int'> 140727945868176\n"
     ]
    }
   ],
   "source": [
    "var1 = 100; print (var1, type(var1), id(var1))\n",
    "var2 = 100; print (var2, type(var2), id(var2))\n",
    "var3 = var1; print (var3, type(var3), id(var3))"
   ]
  },
  {
   "cell_type": "code",
   "execution_count": 4,
   "id": "c962f765-362d-465e-a428-f8b6b16bdd28",
   "metadata": {},
   "outputs": [
    {
     "name": "stdout",
     "output_type": "stream",
     "text": [
      "500 <class 'int'> 1473642426736\n",
      "500 <class 'int'> 1473642426608\n",
      "500 <class 'int'> 1473642426736\n"
     ]
    }
   ],
   "source": [
    "var1 = 500; print (var1, type(var1), id(var1))\n",
    "var2 = 500; print (var2, type(var2), id(var2))\n",
    "var3 = var1; print (var3, type(var3), id(var3))"
   ]
  },
  {
   "cell_type": "code",
   "execution_count": 10,
   "id": "7544d486-f5f1-49a6-8f32-011b2580280e",
   "metadata": {},
   "outputs": [
    {
     "name": "stdout",
     "output_type": "stream",
     "text": [
      "-6 <class 'int'> 1473642427632\n",
      "-6 <class 'int'> 1473642428240\n",
      "-6 <class 'int'> 1473642427632\n"
     ]
    }
   ],
   "source": [
    "# If values assigned to the variables ranging from -5 to 256, will have same id for variables\n",
    "var1 = -6; print (var1, type(var1), id(var1))\n",
    "var2 = -6; print (var2, type(var2), id(var2))\n",
    "var3 = var1; print (var3, type(var3), id(var3))"
   ]
  },
  {
   "cell_type": "code",
   "execution_count": 12,
   "id": "d6032a67-6eb5-421a-ad02-122a72774737",
   "metadata": {},
   "outputs": [
    {
     "name": "stdout",
     "output_type": "stream",
     "text": [
      "-100\n",
      "140\n",
      "60\n",
      "4000\n",
      "2.5\n",
      "2\n",
      "20\n",
      "100000000\n"
     ]
    }
   ],
   "source": [
    "# Arithmetic Operators: + - * / // ** %\n",
    "# Conditional Operators: > >= < <= != ==\n",
    "# Logical Operators: and or not\n",
    "# Assignment Operator: =\n",
    "# Special Assignment Operators: += -= *= /= //= **= %=\n",
    "# Operators: Unary, Binary, Ternary\n",
    "# Unary Operators (Require only one operand): +100 -300\n",
    "# Binary Operators (Require only two operands): 700 + 100 900 - 300\n",
    "# Ternary Operator (Requires only three operands)\n",
    "\n",
    "# Artithmetic Operators\n",
    "print (-100)\n",
    "print (100 + 40)\n",
    "print (100 - 40)\n",
    "print (100 * 40)\n",
    "print (100 / 40)\n",
    "print (100 // 40)\n",
    "print (100 % 40)\n",
    "print (100 ** 4)"
   ]
  },
  {
   "cell_type": "code",
   "execution_count": 15,
   "id": "e0bbae0e-0dda-444e-9b4c-e2b1f57a0171",
   "metadata": {},
   "outputs": [
    {
     "name": "stdout",
     "output_type": "stream",
     "text": [
      "Even\n",
      "Odd\n",
      "Odd\n"
     ]
    }
   ],
   "source": [
    "# Ternary Operator (Requires only three operands)\n",
    "num1 = 100;\n",
    "result = \"Even\" if (num1 % 2 == 0) else \"Odd\"\n",
    "print (result)\n",
    "\n",
    "num1 = 101;\n",
    "result = \"Even\" if (num1 % 2 == 0) else \"Odd\"\n",
    "print (result)\n",
    "\n",
    "import numpy as np\n",
    "num = 101\n",
    "print (np.where(num % 2 == 0, \"Even\", \"Odd\"))"
   ]
  },
  {
   "cell_type": "code",
   "execution_count": 16,
   "id": "542f2115-6b6b-44fe-9178-8b9ec8cd5d72",
   "metadata": {},
   "outputs": [
    {
     "name": "stdout",
     "output_type": "stream",
     "text": [
      "A a\n"
     ]
    }
   ],
   "source": [
    "# Bitwise Operators: & | ~ ^\n",
    "#      A => 65 => 64 + 1 => 0100 0001\n",
    "#                        or 0010 0000 (32)\n",
    "#                           ---------\n",
    "# a => 97 => 64 + 32 + 1 => 0110 0001\n",
    "char1 = 'A'\n",
    "result = chr(ord(char1) | 32)\n",
    "print (char1, result)"
   ]
  },
  {
   "cell_type": "markdown",
   "id": "88bfec89-60e6-474a-8942-b4b6dde340d8",
   "metadata": {},
   "source": [
    "### Characters and ASCII Codes"
   ]
  },
  {
   "cell_type": "code",
   "execution_count": 18,
   "id": "8e00c37c-7749-44b0-ba90-fd183fcd5289",
   "metadata": {},
   "outputs": [
    {
     "name": "stdout",
     "output_type": "stream",
     "text": [
      "65 97 90 122\n",
      "A a Z z\n"
     ]
    }
   ],
   "source": [
    "# ASCII (American Standard Code for Information Interchange) Codes\n",
    "# ASCII Code is 8 bits code ranging from 0 to 255\n",
    "# It can be divided into two categories:\n",
    "# 1. Normal ASCII Codes (0 to 127) - Printable\n",
    "# 2. Extended ASCII Codes (128 to 255) - Non-Printable\n",
    "# A => 65, B => 66, Z => 90\n",
    "# a => 97, b => 98, z => 122\n",
    "# 0 => 48, 1 => 49, 9 => 57\n",
    "# Space Bar/Blank => 32, Enter => 13, Esc => 27, Back Space => 9, Tab => 8\n",
    "\n",
    "print (ord('A'), ord('a'), ord('Z'), ord('z')) # converts characters to ASCII Codes\n",
    "print (chr(65), chr(97), chr(90), chr(122)) # converts ASCII Codes to characters"
   ]
  },
  {
   "cell_type": "markdown",
   "id": "89f07365-cc05-4a97-80dc-102ea782deab",
   "metadata": {},
   "source": [
    "### Conditional Statements"
   ]
  },
  {
   "cell_type": "code",
   "execution_count": 26,
   "id": "a39bb137-2de8-4fed-b666-a0028f09a4f8",
   "metadata": {},
   "outputs": [
    {
     "ename": "IndentationError",
     "evalue": "unexpected indent (<ipython-input-26-b8d28b6662e4>, line 8)",
     "output_type": "error",
     "traceback": [
      "\u001b[1;36m  File \u001b[1;32m\"<ipython-input-26-b8d28b6662e4>\"\u001b[1;36m, line \u001b[1;32m8\u001b[0m\n\u001b[1;33m    print (\"So the maximum number is\", num1)\u001b[0m\n\u001b[1;37m    ^\u001b[0m\n\u001b[1;31mIndentationError\u001b[0m\u001b[1;31m:\u001b[0m unexpected indent\n"
     ]
    }
   ],
   "source": [
    "# Take three numbers from the user as input and find the maximum of these numbers\n",
    "num1 = int(input(\"Please enter the first integer: \"))\n",
    "num2 = int(input(\"Please enter the second integer: \"))\n",
    "num3 = int(input(\"Please enter the third integer: \"))\n",
    "if (num1 > num2):\n",
    "    if (num1 > num3):\n",
    "        print (\"The first number is the maximum number...\")\n",
    "        print (\"So the maximum number is\", num1)\n",
    "    else:\n",
    "        print (\"The third number is the maximum number...\")\n",
    "        print (\"So the maximum number is\", num3)\n",
    "elif (num2 > num3):\n",
    "    print (\"The second number is the maximum number...\")\n",
    "    print (\"So the maximum number is\", num2)\n",
    "else:\n",
    "    print (\"The third number is the maximum number...\")\n",
    "    print (\"So the maximum number is\", num3)\n",
    "print (\"End of the program...\")"
   ]
  },
  {
   "cell_type": "code",
   "execution_count": 30,
   "id": "7ecb21da-720e-485b-82df-cc2fde6b3330",
   "metadata": {},
   "outputs": [
    {
     "name": "stdout",
     "output_type": "stream",
     "text": [
      "M A I N  M E N U ...\n",
      "~~~~~~~~~~~~~~~~~~~~\n",
      "1 > A D D I T I O N  O P E R A T I O N ...\n",
      "2 > S U B T R A C T I O N  O P E R A T I O N ...\n",
      "3 > M U L T I P L I C A T I O N  O P E R A T I O N ...\n",
      "4 > D I V I S I O N  O P E R A T I O N ...\n"
     ]
    },
    {
     "name": "stdin",
     "output_type": "stream",
     "text": [
      "Please enter youe choice integer (1 to 4):  3\n",
      "Please enter the first integer:  10\n",
      "Please enter the second integer:  20\n"
     ]
    },
    {
     "name": "stdout",
     "output_type": "stream",
     "text": [
      "Performing the multiplication operation...\n",
      "So 10 * 20 = 200\n",
      "End of the program...\n"
     ]
    }
   ],
   "source": [
    "# Calculator Program\n",
    "print (\"M A I N  M E N U ...\")\n",
    "print (\"~~~~~~~~~~~~~~~~~~~~\")\n",
    "print (\"1 > A D D I T I O N  O P E R A T I O N ...\")\n",
    "print (\"2 > S U B T R A C T I O N  O P E R A T I O N ...\")\n",
    "print (\"3 > M U L T I P L I C A T I O N  O P E R A T I O N ...\")\n",
    "print (\"4 > D I V I S I O N  O P E R A T I O N ...\")\n",
    "choice = int(input(\"Please enter youe choice integer (1 to 4): \"))\n",
    "num1 = int(input(\"Please enter the first integer: \"))\n",
    "num2 = int(input(\"Please enter the second integer: \"))\n",
    "if (choice == 1):\n",
    "    print (\"Performing the addition operation...\")\n",
    "    result = num1 + num2\n",
    "    print (f\"So {num1} + {num2} = {result}\")\n",
    "elif (choice == 2):\n",
    "    print (\"Performing the subtraction operation...\")\n",
    "    result = num1 - num2\n",
    "    print (f\"So {num1} - {num2} = {result}\")\n",
    "elif (choice == 3):\n",
    "    print (\"Performing the multiplication operation...\")\n",
    "    result = num1 * num2\n",
    "    print (f\"So {num1} * {num2} = {result}\")\n",
    "elif (choice == 4):\n",
    "    print (\"Performing the division operation...\")\n",
    "    if (num2 == 0):\n",
    "        print (\"Division by ZERO is Illegal !!!\")\n",
    "        print (\"Division operation can not be carried out...\")\n",
    "    else:\n",
    "        result = num1 / num2\n",
    "        print (f\"So {num1} / {num2} = {result}\")\n",
    "else:\n",
    "    print (\"Invalid choice number has been provided...\")\n",
    "    print (\"No operation could get carried out...\")\n",
    "print (\"End of the program...\")"
   ]
  },
  {
   "cell_type": "code",
   "execution_count": 33,
   "id": "9526d9ba-6333-4c15-92c3-2ed533cdbe71",
   "metadata": {},
   "outputs": [
    {
     "name": "stdout",
     "output_type": "stream",
     "text": [
      "Hello Hello Hello \n",
      "Welcome Welcome Welcome Welcome Welcome Welcome Welcome Welcome Welcome Welcome \n",
      "Banana\n"
     ]
    }
   ],
   "source": [
    "print (\"Hello \" * 3)\n",
    "print (\"Welcome \" * 10)\n",
    "print (\"Ba\" + \"na\" * 2)"
   ]
  },
  {
   "cell_type": "markdown",
   "id": "b19399ac-0090-4a3f-aa95-f14ccbb19683",
   "metadata": {},
   "source": [
    "### Dealing with 'print' statement"
   ]
  },
  {
   "cell_type": "code",
   "execution_count": 36,
   "id": "2740bbc4-0318-49fb-bec5-89a76a0b43d5",
   "metadata": {},
   "outputs": [
    {
     "name": "stdout",
     "output_type": "stream",
     "text": [
      "Hello to all\n",
      "Good afternoon\n",
      "Hello - to all, Good afternoon\n"
     ]
    }
   ],
   "source": [
    "print (\"Hello\", \"to all\")\n",
    "print (\"Good afternoon\")\n",
    "\n",
    "print (\"Hello\", \"to all\", sep = \" - \", end = \", \")\n",
    "print (\"Good afternoon\")"
   ]
  },
  {
   "cell_type": "code",
   "execution_count": 35,
   "id": "816516d9-7460-4dd0-abee-6f2f80a75685",
   "metadata": {},
   "outputs": [
    {
     "name": "stdout",
     "output_type": "stream",
     "text": [
      "Help on built-in function print in module builtins:\n",
      "\n",
      "print(...)\n",
      "    print(value, ..., sep=' ', end='\\n', file=sys.stdout, flush=False)\n",
      "    \n",
      "    Prints the values to a stream, or to sys.stdout by default.\n",
      "    Optional keyword arguments:\n",
      "    file:  a file-like object (stream); defaults to the current sys.stdout.\n",
      "    sep:   string inserted between values, default a space.\n",
      "    end:   string appended after the last value, default a newline.\n",
      "    flush: whether to forcibly flush the stream.\n",
      "\n"
     ]
    }
   ],
   "source": [
    "help (print)    # ... ellipsis operator"
   ]
  },
  {
   "cell_type": "markdown",
   "id": "fed5b1bf-dc84-4a1b-af22-27d9edd926c3",
   "metadata": {},
   "source": [
    "### Python Loops"
   ]
  },
  {
   "cell_type": "code",
   "execution_count": 43,
   "id": "920b8907-a2c3-4fcc-92ab-618e89556966",
   "metadata": {},
   "outputs": [
    {
     "name": "stdout",
     "output_type": "stream",
     "text": [
      "1, 4, 7, \n",
      "count = 3\n"
     ]
    }
   ],
   "source": [
    "count = 0\n",
    "# for i in range(10):  # (0, 10, 1)\n",
    "# for i in range(1, 10):  # (1, 10, 1)\n",
    "# for i in range(-10, 10):  # (-10, 10, 1)\n",
    "# for i in range(10, -10, -1):\n",
    "for i in range(1, 10, 3):\n",
    "    print (i, end = \", \")\n",
    "    count += 1\n",
    "print (\"\\ncount =\", count)"
   ]
  },
  {
   "cell_type": "code",
   "execution_count": 46,
   "id": "35fef6ca-f0c8-4715-b698-5f03cdf0e84e",
   "metadata": {},
   "outputs": [
    {
     "name": "stdout",
     "output_type": "stream",
     "text": [
      "0, 1, 2, 3, 4, 5, 6, 7, 8, 9, \n",
      "Executing the BREAK block...\n",
      "\n",
      "End of the program...\n"
     ]
    }
   ],
   "source": [
    "# use of 'break' statement\n",
    "for i in range(10):\n",
    "    print (i, end = \", \")\n",
    "    if (i == 9):\n",
    "        print (\"\\nExecuting the BREAK block...\")\n",
    "        break # to check the help on break command use 'help(\"break\")'\n",
    "else:\n",
    "    print (\"\\nExecuting the ELSE block...\")\n",
    "    print (\"Had a smooth execution...\")\n",
    "print (\"\\nEnd of the program...\")"
   ]
  },
  {
   "cell_type": "code",
   "execution_count": 48,
   "id": "c82b8327-116e-424c-8f33-4fb381f0b494",
   "metadata": {},
   "outputs": [
    {
     "name": "stdin",
     "output_type": "stream",
     "text": [
      "Please enter one integer:  101\n"
     ]
    },
    {
     "name": "stdout",
     "output_type": "stream",
     "text": [
      "101 is a PRIME Number...\n",
      "End of the program...\n"
     ]
    }
   ],
   "source": [
    "# Check whether a number is a prime number or not\n",
    "num1 = int(input(\"Please enter one integer: \"))\n",
    "for i in range(2, num1):\n",
    "    if (num1 % i == 0):\n",
    "        print (f\"`is NOT a PRIME Number...\")\n",
    "        break\n",
    "else:\n",
    "    print (f\"{num1} is a PRIME Number...\")\n",
    "print (\"End of the program...\")"
   ]
  },
  {
   "cell_type": "code",
   "execution_count": 53,
   "id": "350392e2-7eb7-4def-be15-569880def4da",
   "metadata": {},
   "outputs": [
    {
     "name": "stdout",
     "output_type": "stream",
     "text": [
      "0, 1, 2, 3, \n",
      "Executing the continue statement for i = 4...\n",
      "5, \n",
      "Executing the continue statement for i = 6...\n",
      "7, 8, 9, \n",
      "Executing the ELSE block...\n",
      "Had a smooth execution...\n",
      "\n",
      "End of the program...\n"
     ]
    }
   ],
   "source": [
    "# use of 'continue' and 'pass' statements\n",
    "for i in range(10):\n",
    "    if (i == 4 or i == 6):\n",
    "        print (f\"\\nExecuting the continue statement for i = {i}...\")\n",
    "        continue\n",
    "    else:\n",
    "        # pass      # statement place holder\n",
    "        print (i, end = \", \")\n",
    "else:\n",
    "    print (\"\\nExecuting the ELSE block...\")\n",
    "    print (\"Had a smooth execution...\")\n",
    "#print (\"\\nEnd of the program...\")"
   ]
  },
  {
   "cell_type": "markdown",
   "id": "dcb01d0c-cdfa-45bf-9b3c-e4bf9161f29b",
   "metadata": {},
   "source": [
    "### While loop construct"
   ]
  },
  {
   "cell_type": "code",
   "execution_count": 56,
   "id": "ea5be571-5177-4371-b1e5-d8c0f5f18a18",
   "metadata": {},
   "outputs": [
    {
     "name": "stdout",
     "output_type": "stream",
     "text": [
      "Executing for i = 1...\n",
      "Executing for i = 2...\n",
      "Executing for i = 3...\n",
      "Executing for i = 4...\n",
      "Executing for i = 5...\n",
      "Executing for i = 6...\n",
      "Executing for i = 7...\n",
      "Executing for i = 8...\n",
      "Executing for i = 9...\n",
      "Executing for i = 10...\n",
      "Loop got executed for 10 number of times..\n",
      "End of the loop...\n"
     ]
    }
   ],
   "source": [
    "count = 0\n",
    "i = 1\n",
    "while (i <= 10):\n",
    "    print (f\"Executing for i = {i}...\")\n",
    "    i += 1\n",
    "    count += 1\n",
    "else:\n",
    "    print (f\"Loop got executed for {count} number of times..\")\n",
    "print (\"End of the loop...\")"
   ]
  },
  {
   "cell_type": "code",
   "execution_count": null,
   "id": "3e6bfb8b-4d87-40db-9419-8c32016d11d0",
   "metadata": {},
   "outputs": [],
   "source": [
    "n = 6            i    .    *\n",
    "               ---------------\n",
    ".....*           1    5    1       (i, n)\n",
    "....***          2    4    3  . => (n - i)\n",
    "...*****         3    3    5\n",
    "..*******        4    2    7  * => 2 * i - 1\n",
    ".*********       5    1    9\n",
    "***********      6    0   11\n",
    "               ---------------\n",
    "               Tracing Table"
   ]
  },
  {
   "cell_type": "code",
   "execution_count": 59,
   "id": "fac9b28e-23f1-4e8e-8a25-e5c6c0797fa1",
   "metadata": {},
   "outputs": [
    {
     "name": "stdin",
     "output_type": "stream",
     "text": [
      "Please enter the number of layers:  6\n"
     ]
    },
    {
     "name": "stdout",
     "output_type": "stream",
     "text": [
      ".....*\n",
      "....***\n",
      "...*****\n",
      "..*******\n",
      ".*********\n",
      "***********\n",
      "End of the program...\n"
     ]
    }
   ],
   "source": [
    "n = int(input(\"Please enter the number of layers: \"))\n",
    "for i in range(1, n + 1):\n",
    "    print (\".\" * (n - i) + \"*\" * (2 * i - 1))\n",
    "print (\"End of the program...\")"
   ]
  },
  {
   "cell_type": "code",
   "execution_count": null,
   "id": "ccb51e3d-a40a-48a8-b5d1-83d51ea00f77",
   "metadata": {},
   "outputs": [],
   "source": [
    "n = 11 (OOD Number of Layers)  m = (n + 1) // 2 = 6\n",
    "\n",
    "                 i    .    *\n",
    "               ---------------\n",
    "***********      1    0   11       (i, n, m)\n",
    ".*********       2    1    9  . => (i - 1)\n",
    "..*******        3    2    7\n",
    "...*****         4    3    5  * => (2 * (m - i) + 1)\n",
    "....***          5    4    3\n",
    ".....*         __6____5____1__\n",
    "....***          7    4    3\n",
    "...*****         8    3    5  . => (n - i)\n",
    "..*******        9    2    7\n",
    ".*********      10    1    9  * => (2 * (i - m) + 1)\n",
    "***********     11    0   11\n",
    "               ---------------"
   ]
  },
  {
   "cell_type": "code",
   "execution_count": 64,
   "id": "a1b9cbff-b968-4901-a540-a1f8cac203f1",
   "metadata": {},
   "outputs": [
    {
     "name": "stdin",
     "output_type": "stream",
     "text": [
      "Please enter the ODD number of layers:  12\n",
      "Please enter the ODD number of layers:  18\n",
      "Please enter the ODD number of layers:  20\n",
      "Please enter the ODD number of layers:  11\n"
     ]
    },
    {
     "name": "stdout",
     "output_type": "stream",
     "text": [
      "***********\n",
      ".*********\n",
      "..*******\n",
      "...*****\n",
      "....***\n",
      ".....*\n",
      "....***\n",
      "...*****\n",
      "..*******\n",
      ".*********\n",
      "***********\n",
      "End of the program...\n"
     ]
    }
   ],
   "source": [
    "while (True):\n",
    "    n = int(input(\"Please enter the ODD number of layers: \"))\n",
    "    if (n % 2 == 1): break\n",
    "m = (n + 1) // 2\n",
    "for i in range(1, n + 1):\n",
    "    if (i <= m): \n",
    "        b = (i - 1)\n",
    "        s = (2 * (m - i) + 1)\n",
    "    else:\n",
    "        b = (n - i)\n",
    "        s = (2 * (i - m) + 1)\n",
    "    print (\".\" * b + \"*\" * s)\n",
    "print (\"End of the program...\")"
   ]
  },
  {
   "cell_type": "code",
   "execution_count": 65,
   "id": "66eb82a3-0fca-4a23-a811-98bd65bcc1be",
   "metadata": {},
   "outputs": [
    {
     "name": "stdout",
     "output_type": "stream",
     "text": [
      "Visit Doctor...\n",
      "Good Morning...\n",
      "Day Number -> 1 and Medicine Number -> 1...\n",
      "Day Number -> 1 and Medicine Number -> 2...\n",
      "Day Number -> 1 and Medicine Number -> 3...\n",
      "Good Night...\n",
      "----------------------------------------------------------------\n",
      "Good Morning...\n",
      "Day Number -> 2 and Medicine Number -> 1...\n",
      "Day Number -> 2 and Medicine Number -> 2...\n",
      "Day Number -> 2 and Medicine Number -> 3...\n",
      "Good Night...\n",
      "----------------------------------------------------------------\n",
      "Good Morning...\n",
      "Day Number -> 3 and Medicine Number -> 1...\n",
      "Day Number -> 3 and Medicine Number -> 2...\n",
      "Day Number -> 3 and Medicine Number -> 3...\n",
      "Good Night...\n",
      "----------------------------------------------------------------\n",
      "Good Morning...\n",
      "Day Number -> 4 and Medicine Number -> 1...\n",
      "Day Number -> 4 and Medicine Number -> 2...\n",
      "Day Number -> 4 and Medicine Number -> 3...\n",
      "Good Night...\n",
      "----------------------------------------------------------------\n",
      "Good Morning...\n",
      "Day Number -> 5 and Medicine Number -> 1...\n",
      "Day Number -> 5 and Medicine Number -> 2...\n",
      "Day Number -> 5 and Medicine Number -> 3...\n",
      "Good Night...\n",
      "----------------------------------------------------------------\n",
      "Medicount = 15\n",
      "Thanks to Doctor...\n"
     ]
    }
   ],
   "source": [
    "# example of nested loop\n",
    "print (\"Visit Doctor...\") # 1 time\n",
    "medicount = 0 # 1 time\n",
    "for day in range(1, 6):\n",
    "    print (\"Good Morning...\") # 5 times\n",
    "    for medi in range(1, 4):\n",
    "        print (f\"Day Number -> {day} and Medicine Number -> {medi}...\") # 15 times\n",
    "        medicount += 1 # 15 times\n",
    "    print (\"Good Night...\") # 5 times\n",
    "    print (\"----------------------------------------------------------------\") # 5 times\n",
    "print (\"Medicount =\", medicount) # 1 time\n",
    "print (\"Thanks to Doctor...\") # 1 time"
   ]
  },
  {
   "cell_type": "markdown",
   "id": "9d99f1a5-438a-4b7c-9f96-c42cd6d17e24",
   "metadata": {},
   "source": [
    "### Expression evaluation"
   ]
  },
  {
   "cell_type": "code",
   "execution_count": 1,
   "id": "1c88d162-5a9d-4c58-b21a-f2c7c56a8cf4",
   "metadata": {},
   "outputs": [
    {
     "name": "stdin",
     "output_type": "stream",
     "text": [
      "Please enter your expression... 100 + (2 * 3 + 500) * 10\n"
     ]
    },
    {
     "name": "stdout",
     "output_type": "stream",
     "text": [
      "Result against the expression 100 + (2 * 3 + 500) * 10 is 5160...\n",
      "End of the program...\n"
     ]
    }
   ],
   "source": [
    "myexpr = input(\"Please enter your expression...\") # input: 100 + (2 * 3 + 500) * 10\n",
    "result = eval(myexpr)\n",
    "print (f\"Result against the expression {myexpr} is {result}...\")\n",
    "print (\"End of the program...\")"
   ]
  },
  {
   "cell_type": "markdown",
   "id": "093abf72-3427-4516-a1e3-7f20538a9db4",
   "metadata": {},
   "source": [
    "### Python Inbuilt Collections"
   ]
  },
  {
   "cell_type": "code",
   "execution_count": 2,
   "id": "a4b8327a-7f32-4c57-a1de-58622a00d118",
   "metadata": {},
   "outputs": [
    {
     "name": "stdout",
     "output_type": "stream",
     "text": [
      "[100, 2.45, True, 'Food', 201] 5 <class 'list'> 2844043508608\n",
      "(100, 2.45, True, 'Food', 201) 5 <class 'tuple'> 2844043511264\n",
      "{'name': 'Bidisha', 'location': 'Noida', 'job': 'Developer', 'company': 'Accenture'} 4 <class 'dict'> 2844042461056\n",
      "{True, 2.45, 100, 201, 'Food', 'Delhi'} 6 <class 'set'> 2844043588096\n",
      "frozenset({True, 2.45, 100, 201, 'Food', 'Delhi'}) 6 <class 'frozenset'> 2844042963200\n"
     ]
    }
   ],
   "source": [
    "# different inbuilt collections\n",
    "list1 = [100, 2.45, True, \"Food\", 201]   # mutable\n",
    "print (list1, len(list1), type(list1), id(list1))\n",
    "tuple1 = (100, 2.45, True, \"Food\", 201)   # immutable, read only\n",
    "print (tuple1, len(tuple1), type(tuple1), id(tuple1))\n",
    "dict1 = {'name':'Bidisha', 'location':'Noida', 'job':'Developer', 'company':'Accenture'} # mutable\n",
    "print (dict1, len(dict1), type(dict1), id(dict1))\n",
    "set1 = {\"Delhi\", 100, 2.45, True, \"Food\", 201, True, \"Food\", 201}   # mutable\n",
    "print (set1, len(set1), type(set1), id(set1))\n",
    "fset1 = frozenset([\"Delhi\", 100, 2.45, True, \"Food\", 201, True, \"Food\", 201]) # immutable, read only\n",
    "print (fset1, len(fset1), type(fset1), id(fset1))"
   ]
  },
  {
   "cell_type": "markdown",
   "id": "3f69c909-6a9f-4dff-8471-72cfe28e11e6",
   "metadata": {},
   "source": [
    "### Importing Modules: Math Module"
   ]
  },
  {
   "cell_type": "code",
   "execution_count": 3,
   "id": "052445a3-87c7-48eb-8004-d72454553707",
   "metadata": {},
   "outputs": [],
   "source": [
    "# importing required modules\n",
    "import math"
   ]
  },
  {
   "cell_type": "code",
   "execution_count": 4,
   "id": "71b503a7-718f-4bc6-854b-2e683e14eaf4",
   "metadata": {},
   "outputs": [
    {
     "name": "stdout",
     "output_type": "stream",
     "text": [
      "0.0 1.0 0.0 0.0 1.0 0.0\n",
      "10.0 10.0 31.622776601683793 31.622776601683793\n",
      "3.141592653589793 2.718281828459045 6.283185307179586\n",
      "5 5 40 18000.0\n",
      "4.605170185988092 4.605170185988092 10.0 10.0 2.9999999999999996 3.0\n"
     ]
    }
   ],
   "source": [
    "print (math.sin(0), math.cos(0), math.tan(0), math.sinh(0), math.cosh(0), math.asin(0))\n",
    "print (math.sqrt(100), 100 ** 0.5, math.sqrt(1000), 1000 ** 0.5)\n",
    "print (math.pi, math.e, math.tau)\n",
    "print (math.gcd(100, 5), math.gcd(100, 45), math.gcd(1000, 720),(1000 * 720)/math.gcd(1000,720))\n",
    "print (math.log(100), math.log(100, math.e), math.log(1024, 2), math.log2(1024),\n",
    "       math.log(1000, 10), math.log10(1000))"
   ]
  },
  {
   "cell_type": "code",
   "execution_count": 5,
   "id": "8ec8f522-904b-483f-9513-9a10502e3cf0",
   "metadata": {},
   "outputs": [
    {
     "name": "stdout",
     "output_type": "stream",
     "text": [
      "Help on built-in function log in module math:\n",
      "\n",
      "log(...)\n",
      "    log(x, [base=math.e])\n",
      "    Return the logarithm of x to the given base.\n",
      "    \n",
      "    If the base not specified, returns the natural logarithm (base e) of x.\n",
      "\n"
     ]
    }
   ],
   "source": [
    "help(math.log)"
   ]
  },
  {
   "cell_type": "code",
   "execution_count": 6,
   "id": "0e994856-8586-4617-b48c-01a2cfb59c84",
   "metadata": {
    "scrolled": true,
    "tags": []
   },
   "outputs": [
    {
     "name": "stdout",
     "output_type": "stream",
     "text": [
      "Help on built-in module math:\n",
      "\n",
      "NAME\n",
      "    math\n",
      "\n",
      "DESCRIPTION\n",
      "    This module provides access to the mathematical functions\n",
      "    defined by the C standard.\n",
      "\n",
      "FUNCTIONS\n",
      "    acos(x, /)\n",
      "        Return the arc cosine (measured in radians) of x.\n",
      "    \n",
      "    acosh(x, /)\n",
      "        Return the inverse hyperbolic cosine of x.\n",
      "    \n",
      "    asin(x, /)\n",
      "        Return the arc sine (measured in radians) of x.\n",
      "    \n",
      "    asinh(x, /)\n",
      "        Return the inverse hyperbolic sine of x.\n",
      "    \n",
      "    atan(x, /)\n",
      "        Return the arc tangent (measured in radians) of x.\n",
      "    \n",
      "    atan2(y, x, /)\n",
      "        Return the arc tangent (measured in radians) of y/x.\n",
      "        \n",
      "        Unlike atan(y/x), the signs of both x and y are considered.\n",
      "    \n",
      "    atanh(x, /)\n",
      "        Return the inverse hyperbolic tangent of x.\n",
      "    \n",
      "    ceil(x, /)\n",
      "        Return the ceiling of x as an Integral.\n",
      "        \n",
      "        This is the smallest integer >= x.\n",
      "    \n",
      "    comb(n, k, /)\n",
      "        Number of ways to choose k items from n items without repetition and without order.\n",
      "        \n",
      "        Evaluates to n! / (k! * (n - k)!) when k <= n and evaluates\n",
      "        to zero when k > n.\n",
      "        \n",
      "        Also called the binomial coefficient because it is equivalent\n",
      "        to the coefficient of k-th term in polynomial expansion of the\n",
      "        expression (1 + x)**n.\n",
      "        \n",
      "        Raises TypeError if either of the arguments are not integers.\n",
      "        Raises ValueError if either of the arguments are negative.\n",
      "    \n",
      "    copysign(x, y, /)\n",
      "        Return a float with the magnitude (absolute value) of x but the sign of y.\n",
      "        \n",
      "        On platforms that support signed zeros, copysign(1.0, -0.0)\n",
      "        returns -1.0.\n",
      "    \n",
      "    cos(x, /)\n",
      "        Return the cosine of x (measured in radians).\n",
      "    \n",
      "    cosh(x, /)\n",
      "        Return the hyperbolic cosine of x.\n",
      "    \n",
      "    degrees(x, /)\n",
      "        Convert angle x from radians to degrees.\n",
      "    \n",
      "    dist(p, q, /)\n",
      "        Return the Euclidean distance between two points p and q.\n",
      "        \n",
      "        The points should be specified as sequences (or iterables) of\n",
      "        coordinates.  Both inputs must have the same dimension.\n",
      "        \n",
      "        Roughly equivalent to:\n",
      "            sqrt(sum((px - qx) ** 2.0 for px, qx in zip(p, q)))\n",
      "    \n",
      "    erf(x, /)\n",
      "        Error function at x.\n",
      "    \n",
      "    erfc(x, /)\n",
      "        Complementary error function at x.\n",
      "    \n",
      "    exp(x, /)\n",
      "        Return e raised to the power of x.\n",
      "    \n",
      "    expm1(x, /)\n",
      "        Return exp(x)-1.\n",
      "        \n",
      "        This function avoids the loss of precision involved in the direct evaluation of exp(x)-1 for small x.\n",
      "    \n",
      "    fabs(x, /)\n",
      "        Return the absolute value of the float x.\n",
      "    \n",
      "    factorial(x, /)\n",
      "        Find x!.\n",
      "        \n",
      "        Raise a ValueError if x is negative or non-integral.\n",
      "    \n",
      "    floor(x, /)\n",
      "        Return the floor of x as an Integral.\n",
      "        \n",
      "        This is the largest integer <= x.\n",
      "    \n",
      "    fmod(x, y, /)\n",
      "        Return fmod(x, y), according to platform C.\n",
      "        \n",
      "        x % y may differ.\n",
      "    \n",
      "    frexp(x, /)\n",
      "        Return the mantissa and exponent of x, as pair (m, e).\n",
      "        \n",
      "        m is a float and e is an int, such that x = m * 2.**e.\n",
      "        If x is 0, m and e are both 0.  Else 0.5 <= abs(m) < 1.0.\n",
      "    \n",
      "    fsum(seq, /)\n",
      "        Return an accurate floating point sum of values in the iterable seq.\n",
      "        \n",
      "        Assumes IEEE-754 floating point arithmetic.\n",
      "    \n",
      "    gamma(x, /)\n",
      "        Gamma function at x.\n",
      "    \n",
      "    gcd(x, y, /)\n",
      "        greatest common divisor of x and y\n",
      "    \n",
      "    hypot(...)\n",
      "        hypot(*coordinates) -> value\n",
      "        \n",
      "        Multidimensional Euclidean distance from the origin to a point.\n",
      "        \n",
      "        Roughly equivalent to:\n",
      "            sqrt(sum(x**2 for x in coordinates))\n",
      "        \n",
      "        For a two dimensional point (x, y), gives the hypotenuse\n",
      "        using the Pythagorean theorem:  sqrt(x*x + y*y).\n",
      "        \n",
      "        For example, the hypotenuse of a 3/4/5 right triangle is:\n",
      "        \n",
      "            >>> hypot(3.0, 4.0)\n",
      "            5.0\n",
      "    \n",
      "    isclose(a, b, *, rel_tol=1e-09, abs_tol=0.0)\n",
      "        Determine whether two floating point numbers are close in value.\n",
      "        \n",
      "          rel_tol\n",
      "            maximum difference for being considered \"close\", relative to the\n",
      "            magnitude of the input values\n",
      "          abs_tol\n",
      "            maximum difference for being considered \"close\", regardless of the\n",
      "            magnitude of the input values\n",
      "        \n",
      "        Return True if a is close in value to b, and False otherwise.\n",
      "        \n",
      "        For the values to be considered close, the difference between them\n",
      "        must be smaller than at least one of the tolerances.\n",
      "        \n",
      "        -inf, inf and NaN behave similarly to the IEEE 754 Standard.  That\n",
      "        is, NaN is not close to anything, even itself.  inf and -inf are\n",
      "        only close to themselves.\n",
      "    \n",
      "    isfinite(x, /)\n",
      "        Return True if x is neither an infinity nor a NaN, and False otherwise.\n",
      "    \n",
      "    isinf(x, /)\n",
      "        Return True if x is a positive or negative infinity, and False otherwise.\n",
      "    \n",
      "    isnan(x, /)\n",
      "        Return True if x is a NaN (not a number), and False otherwise.\n",
      "    \n",
      "    isqrt(n, /)\n",
      "        Return the integer part of the square root of the input.\n",
      "    \n",
      "    ldexp(x, i, /)\n",
      "        Return x * (2**i).\n",
      "        \n",
      "        This is essentially the inverse of frexp().\n",
      "    \n",
      "    lgamma(x, /)\n",
      "        Natural logarithm of absolute value of Gamma function at x.\n",
      "    \n",
      "    log(...)\n",
      "        log(x, [base=math.e])\n",
      "        Return the logarithm of x to the given base.\n",
      "        \n",
      "        If the base not specified, returns the natural logarithm (base e) of x.\n",
      "    \n",
      "    log10(x, /)\n",
      "        Return the base 10 logarithm of x.\n",
      "    \n",
      "    log1p(x, /)\n",
      "        Return the natural logarithm of 1+x (base e).\n",
      "        \n",
      "        The result is computed in a way which is accurate for x near zero.\n",
      "    \n",
      "    log2(x, /)\n",
      "        Return the base 2 logarithm of x.\n",
      "    \n",
      "    modf(x, /)\n",
      "        Return the fractional and integer parts of x.\n",
      "        \n",
      "        Both results carry the sign of x and are floats.\n",
      "    \n",
      "    perm(n, k=None, /)\n",
      "        Number of ways to choose k items from n items without repetition and with order.\n",
      "        \n",
      "        Evaluates to n! / (n - k)! when k <= n and evaluates\n",
      "        to zero when k > n.\n",
      "        \n",
      "        If k is not specified or is None, then k defaults to n\n",
      "        and the function returns n!.\n",
      "        \n",
      "        Raises TypeError if either of the arguments are not integers.\n",
      "        Raises ValueError if either of the arguments are negative.\n",
      "    \n",
      "    pow(x, y, /)\n",
      "        Return x**y (x to the power of y).\n",
      "    \n",
      "    prod(iterable, /, *, start=1)\n",
      "        Calculate the product of all the elements in the input iterable.\n",
      "        \n",
      "        The default start value for the product is 1.\n",
      "        \n",
      "        When the iterable is empty, return the start value.  This function is\n",
      "        intended specifically for use with numeric values and may reject\n",
      "        non-numeric types.\n",
      "    \n",
      "    radians(x, /)\n",
      "        Convert angle x from degrees to radians.\n",
      "    \n",
      "    remainder(x, y, /)\n",
      "        Difference between x and the closest integer multiple of y.\n",
      "        \n",
      "        Return x - n*y where n*y is the closest integer multiple of y.\n",
      "        In the case where x is exactly halfway between two multiples of\n",
      "        y, the nearest even value of n is used. The result is always exact.\n",
      "    \n",
      "    sin(x, /)\n",
      "        Return the sine of x (measured in radians).\n",
      "    \n",
      "    sinh(x, /)\n",
      "        Return the hyperbolic sine of x.\n",
      "    \n",
      "    sqrt(x, /)\n",
      "        Return the square root of x.\n",
      "    \n",
      "    tan(x, /)\n",
      "        Return the tangent of x (measured in radians).\n",
      "    \n",
      "    tanh(x, /)\n",
      "        Return the hyperbolic tangent of x.\n",
      "    \n",
      "    trunc(x, /)\n",
      "        Truncates the Real x to the nearest Integral toward 0.\n",
      "        \n",
      "        Uses the __trunc__ magic method.\n",
      "\n",
      "DATA\n",
      "    e = 2.718281828459045\n",
      "    inf = inf\n",
      "    nan = nan\n",
      "    pi = 3.141592653589793\n",
      "    tau = 6.283185307179586\n",
      "\n",
      "FILE\n",
      "    (built-in)\n",
      "\n",
      "\n"
     ]
    }
   ],
   "source": [
    "help(math)"
   ]
  },
  {
   "cell_type": "code",
   "execution_count": 7,
   "id": "b49a47e6-d719-41a1-9926-aaac0e8266f6",
   "metadata": {},
   "outputs": [
    {
     "name": "stdout",
     "output_type": "stream",
     "text": [
      "120 720\n",
      "10000.0 10000 10000.0\n",
      "10 10 11 11\n"
     ]
    }
   ],
   "source": [
    "print (math.factorial(5), math.factorial(6))\n",
    "print (math.pow(100, 2), 100 ** 2, 100.0 ** 2)\n",
    "print (math.floor(10.1), math.floor(10.9), math.ceil(10.1), math.ceil(10.9))"
   ]
  },
  {
   "cell_type": "code",
   "execution_count": 9,
   "id": "0c9a40c3-9ad7-4497-82b2-c18124c7d1a5",
   "metadata": {},
   "outputs": [
    {
     "name": "stdout",
     "output_type": "stream",
     "text": [
      "100.4987562112089\n",
      "100.4987562112089\n",
      "Help on built-in function pow in module math:\n",
      "\n",
      "pow(x, y, /)\n",
      "    Return x**y (x to the power of y).\n",
      "\n"
     ]
    }
   ],
   "source": [
    "print (math.dist((100, 30), (200, 40)))   # calculating Eucledian distance\n",
    "print (math.sqrt((100 - 200) ** 2 + (30 - 40) ** 2))\n",
    "help(math.pow)"
   ]
  },
  {
   "cell_type": "code",
   "execution_count": 10,
   "id": "ff7da7b7-88db-484c-9692-258b2f1eb4f2",
   "metadata": {},
   "outputs": [
    {
     "name": "stdout",
     "output_type": "stream",
     "text": [
      "                                  2023\n",
      "\n",
      "      January                   February                   March\n",
      "Mo Tu We Th Fr Sa Su      Mo Tu We Th Fr Sa Su      Mo Tu We Th Fr Sa Su\n",
      "                   1             1  2  3  4  5             1  2  3  4  5\n",
      " 2  3  4  5  6  7  8       6  7  8  9 10 11 12       6  7  8  9 10 11 12\n",
      " 9 10 11 12 13 14 15      13 14 15 16 17 18 19      13 14 15 16 17 18 19\n",
      "16 17 18 19 20 21 22      20 21 22 23 24 25 26      20 21 22 23 24 25 26\n",
      "23 24 25 26 27 28 29      27 28                     27 28 29 30 31\n",
      "30 31\n",
      "\n",
      "       April                      May                       June\n",
      "Mo Tu We Th Fr Sa Su      Mo Tu We Th Fr Sa Su      Mo Tu We Th Fr Sa Su\n",
      "                1  2       1  2  3  4  5  6  7                1  2  3  4\n",
      " 3  4  5  6  7  8  9       8  9 10 11 12 13 14       5  6  7  8  9 10 11\n",
      "10 11 12 13 14 15 16      15 16 17 18 19 20 21      12 13 14 15 16 17 18\n",
      "17 18 19 20 21 22 23      22 23 24 25 26 27 28      19 20 21 22 23 24 25\n",
      "24 25 26 27 28 29 30      29 30 31                  26 27 28 29 30\n",
      "\n",
      "        July                     August                  September\n",
      "Mo Tu We Th Fr Sa Su      Mo Tu We Th Fr Sa Su      Mo Tu We Th Fr Sa Su\n",
      "                1  2          1  2  3  4  5  6                   1  2  3\n",
      " 3  4  5  6  7  8  9       7  8  9 10 11 12 13       4  5  6  7  8  9 10\n",
      "10 11 12 13 14 15 16      14 15 16 17 18 19 20      11 12 13 14 15 16 17\n",
      "17 18 19 20 21 22 23      21 22 23 24 25 26 27      18 19 20 21 22 23 24\n",
      "24 25 26 27 28 29 30      28 29 30 31               25 26 27 28 29 30\n",
      "31\n",
      "\n",
      "      October                   November                  December\n",
      "Mo Tu We Th Fr Sa Su      Mo Tu We Th Fr Sa Su      Mo Tu We Th Fr Sa Su\n",
      "                   1             1  2  3  4  5                   1  2  3\n",
      " 2  3  4  5  6  7  8       6  7  8  9 10 11 12       4  5  6  7  8  9 10\n",
      " 9 10 11 12 13 14 15      13 14 15 16 17 18 19      11 12 13 14 15 16 17\n",
      "16 17 18 19 20 21 22      20 21 22 23 24 25 26      18 19 20 21 22 23 24\n",
      "23 24 25 26 27 28 29      27 28 29 30               25 26 27 28 29 30 31\n",
      "30 31\n"
     ]
    }
   ],
   "source": [
    "import calendar\n",
    "calendar.prcal(2023)"
   ]
  },
  {
   "cell_type": "markdown",
   "id": "10e28b2d-5ee2-4f5e-9c2c-d1fce2aaba3d",
   "metadata": {},
   "source": [
    "### String Processing"
   ]
  },
  {
   "cell_type": "code",
   "execution_count": null,
   "id": "6202dc16-d117-494a-aad8-bd267c0f2cdb",
   "metadata": {},
   "outputs": [],
   "source": [
    "index left to right ->  0   1   2   3   4   5   6   7   8   9\n",
    "               mystr =  u   n   i   v   e   r   s   i   t   y\n",
    "index right to left ->-10  -9  -8  -7  -6  -5  -4  -3  -2  -1 "
   ]
  },
  {
   "cell_type": "code",
   "execution_count": 13,
   "id": "e001ed13-211c-4061-bf8e-5d94abc1d5bd",
   "metadata": {},
   "outputs": [
    {
     "name": "stdout",
     "output_type": "stream",
     "text": [
      "university 10 <class 'str'> 2844043238768\n",
      "v v i i r r\n",
      "niversi niversi niversi niversi ytisrevinu\n",
      "uiest nvriy\n"
     ]
    }
   ],
   "source": [
    "mystr = \"university\"\n",
    "print (mystr, len(mystr), type(mystr), id(mystr))\n",
    "print (mystr[3], mystr[-7], mystr[7], mystr[-3], mystr[5], mystr[-5]) # indexing\n",
    "print (mystr[1:8], mystr[-9:-2], mystr[1:-2], mystr[-9:8], mystr[::-1]) # slicing or sub-string retrieval\n",
    "print (mystr[::2], mystr[1::2])"
   ]
  },
  {
   "cell_type": "code",
   "execution_count": 16,
   "id": "1b4dfc7f-666c-477c-a5bb-5cd7a638dbe6",
   "metadata": {},
   "outputs": [
    {
     "name": "stdout",
     "output_type": "stream",
     "text": [
      "caLCuTTa unIVerSitY 19 <class 'str'> 2844061539104\n",
      "CALCUTTA UNIVERSITY\n",
      "calcutta university\n",
      "Calcutta University\n",
      "Calcutta university\n",
      "CAlcUttA UNivERsITy\n",
      "           caLCuTTa unIVerSitY           \n",
      "               CALCUTTA UNIVERSITY                \n"
     ]
    }
   ],
   "source": [
    "mystr = \"caLCuTTa unIVerSitY\"\n",
    "print (mystr, len(mystr), type(mystr), id(mystr))\n",
    "print (mystr.upper())\n",
    "print (mystr.lower())\n",
    "print (mystr.title())\n",
    "print (mystr.capitalize())\n",
    "print (mystr.swapcase())\n",
    "print (mystr.center(41))\n",
    "print (mystr.upper().center(50))"
   ]
  },
  {
   "cell_type": "code",
   "execution_count": 17,
   "id": "01cf8c74-76b8-4665-9b39-1ead1f586fde",
   "metadata": {},
   "outputs": [
    {
     "name": "stdout",
     "output_type": "stream",
     "text": [
      "caLCuTTa unIVerSitY 19 <class 'str'> 2844061536464\n",
      "caLCuTTa 8 <class 'str'> 2844058440176\n"
     ]
    }
   ],
   "source": [
    "mystr = \"caLCuTTa unIVerSitY\"\n",
    "print (mystr, len(mystr), type(mystr), id(mystr))\n",
    "mystr = \"caLCuTTa\"\n",
    "print (mystr, len(mystr), type(mystr), id(mystr))"
   ]
  },
  {
   "cell_type": "code",
   "execution_count": 22,
   "id": "ce2940f8-9c1c-4d8e-90e4-19d95d38f760",
   "metadata": {},
   "outputs": [
    {
     "name": "stdout",
     "output_type": "stream",
     "text": [
      "4 4 11 -1\n",
      "4 4 11\n"
     ]
    },
    {
     "ename": "ValueError",
     "evalue": "substring not found",
     "output_type": "error",
     "traceback": [
      "\u001b[1;31m---------------------------------------------------------------------------\u001b[0m",
      "\u001b[1;31mValueError\u001b[0m                                Traceback (most recent call last)",
      "\u001b[1;32m<ipython-input-22-1eacdd6080c3>\u001b[0m in \u001b[0;36m<module>\u001b[1;34m\u001b[0m\n\u001b[0;32m      3\u001b[0m \u001b[1;33m\u001b[0m\u001b[0m\n\u001b[0;32m      4\u001b[0m \u001b[0mprint\u001b[0m \u001b[1;33m(\u001b[0m\u001b[0mmystr\u001b[0m\u001b[1;33m.\u001b[0m\u001b[0mindex\u001b[0m\u001b[1;33m(\u001b[0m\u001b[1;34m\"ity\"\u001b[0m\u001b[1;33m)\u001b[0m\u001b[1;33m,\u001b[0m \u001b[0mmystr\u001b[0m\u001b[1;33m.\u001b[0m\u001b[0mindex\u001b[0m\u001b[1;33m(\u001b[0m\u001b[1;34m\"i\"\u001b[0m\u001b[1;33m,\u001b[0m \u001b[1;36m3\u001b[0m\u001b[1;33m)\u001b[0m\u001b[1;33m,\u001b[0m \u001b[0mmystr\u001b[0m\u001b[1;33m.\u001b[0m\u001b[0mindex\u001b[0m\u001b[1;33m(\u001b[0m\u001b[1;34m\"i\"\u001b[0m\u001b[1;33m,\u001b[0m \u001b[1;36m5\u001b[0m\u001b[1;33m)\u001b[0m\u001b[1;33m)\u001b[0m\u001b[1;33m\u001b[0m\u001b[1;33m\u001b[0m\u001b[0m\n\u001b[1;32m----> 5\u001b[1;33m \u001b[0mprint\u001b[0m \u001b[1;33m(\u001b[0m\u001b[0mmystr\u001b[0m\u001b[1;33m.\u001b[0m\u001b[0mindex\u001b[0m\u001b[1;33m(\u001b[0m\u001b[1;34m\"ins\"\u001b[0m\u001b[1;33m,\u001b[0m \u001b[1;36m11\u001b[0m\u001b[1;33m,\u001b[0m \u001b[1;36m13\u001b[0m\u001b[1;33m)\u001b[0m\u001b[1;33m)\u001b[0m\u001b[1;33m\u001b[0m\u001b[1;33m\u001b[0m\u001b[0m\n\u001b[0m\u001b[0;32m      6\u001b[0m \u001b[0mprint\u001b[0m \u001b[1;33m(\u001b[0m\u001b[1;34m\"End of the code...\"\u001b[0m\u001b[1;33m)\u001b[0m\u001b[1;33m\u001b[0m\u001b[1;33m\u001b[0m\u001b[0m\n",
      "\u001b[1;31mValueError\u001b[0m: substring not found"
     ]
    }
   ],
   "source": [
    "mystr = \"charity begins at home\"\n",
    "print (mystr.find(\"ity\"), mystr.find(\"i\", 3), mystr.find(\"i\", 5), mystr.find(\"ins\", 11, 13))\n",
    "\n",
    "print (mystr.index(\"ity\"), mystr.index(\"i\", 3), mystr.index(\"i\", 5))\n",
    "print (mystr.index(\"ins\", 11, 13))\n",
    "print (\"End of the code...\")"
   ]
  },
  {
   "cell_type": "code",
   "execution_count": 23,
   "id": "af1dcd57-f588-4811-9bb5-41340593d674",
   "metadata": {},
   "outputs": [
    {
     "name": "stdout",
     "output_type": "stream",
     "text": [
      "4 4 11\n",
      "Unsuccessful searching has taken place...\n",
      "End of the program...\n"
     ]
    }
   ],
   "source": [
    "try:\n",
    "    mystr = \"charity begins at home\"\n",
    "    print (mystr.index(\"ity\"), mystr.index(\"i\", 3), mystr.index(\"i\", 5))\n",
    "    print (mystr.index(\"ins\", 11, 13))\n",
    "except ValueError as ve:\n",
    "    print (\"Unsuccessful searching has taken place...\")\n",
    "print (\"End of the program...\")"
   ]
  },
  {
   "cell_type": "code",
   "execution_count": 26,
   "id": "48d707a0-df2a-4d06-b001-eb4ea9a57b05",
   "metadata": {},
   "outputs": [
    {
     "name": "stdout",
     "output_type": "stream",
     "text": [
      "    calcutta    university      31 <class 'str'> 2844063413712\n",
      "calcutta    university 22\n",
      "calcutta    university      27\n",
      "    calcutta    university 26\n",
      "calcutta    university calcutta    university      27\n"
     ]
    }
   ],
   "source": [
    "mystr = \"    calcutta    university     \"\n",
    "print (mystr, len(mystr), type(mystr), id(mystr))\n",
    "print (mystr.strip(), len(mystr.strip()))\n",
    "print (mystr.lstrip(), len(mystr.lstrip()))\n",
    "print (mystr.rstrip(), len(mystr.rstrip()))\n",
    "print (mystr.strip(\" \"), mystr.lstrip(\" \"), len(mystr.lstrip(\" \")))"
   ]
  },
  {
   "cell_type": "code",
   "execution_count": 28,
   "id": "7249a9e0-0b21-4c4e-bbe1-0a86409d74d1",
   "metadata": {},
   "outputs": [
    {
     "name": "stdout",
     "output_type": "stream",
     "text": [
      "calcutta#@#@university 22\n",
      "calcutta#@#@university#@@@# 27\n",
      "##@@calcutta#@#@university 26\n"
     ]
    }
   ],
   "source": [
    "mystr = \"##@@calcutta#@#@university#@@@#\"\n",
    "print (mystr.strip(\"@#\"), len(mystr.strip(\"@#\")))\n",
    "print (mystr.lstrip(\"@#\"), len(mystr.lstrip(\"@#\")))\n",
    "print (mystr.rstrip(\"@#\"), len(mystr.rstrip(\"@#\")))"
   ]
  },
  {
   "cell_type": "code",
   "execution_count": 31,
   "id": "887b845c-81a3-4be2-b9fa-8bfe2a04e2e6",
   "metadata": {},
   "outputs": [
    {
     "name": "stdout",
     "output_type": "stream",
     "text": [
      "True False\n",
      "True True\n",
      "True False True\n"
     ]
    }
   ],
   "source": [
    "mystr = \"charity begins at home\"\n",
    "print (mystr.startswith(\"cha\"), mystr.startswith(\"beg\"))\n",
    "print (mystr.startswith(\"beg\", 8), mystr.startswith(\"beg\", 8, 20))\n",
    "print (mystr.endswith(\"ome\"), mystr.endswith(\"gins\"), mystr.endswith(\"gins\", 0, 14))"
   ]
  },
  {
   "cell_type": "code",
   "execution_count": 33,
   "id": "d64fe1e3-a4d0-4073-a278-3715c5bcae88",
   "metadata": {},
   "outputs": [
    {
     "name": "stdout",
     "output_type": "stream",
     "text": [
      "m\n",
      "a\n",
      "d\n",
      "a\n",
      "m\n",
      "\n",
      "0 m\n",
      "1 a\n",
      "2 d\n",
      "3 a\n",
      "4 m\n"
     ]
    }
   ],
   "source": [
    "mystr = \"madam\"    # Reading character by character from a string\n",
    "for ch in mystr:\n",
    "    print (ch)\n",
    "print ()\n",
    "for i in range(len(mystr)):   # range(5) => [0, 1, 2, 3, 4]\n",
    "    print (i, mystr[i])"
   ]
  },
  {
   "cell_type": "code",
   "execution_count": 36,
   "id": "596b7b06-3f96-4104-ab67-809dd5de9737",
   "metadata": {},
   "outputs": [
    {
     "name": "stdout",
     "output_type": "stream",
     "text": [
      "charity begins at home 22 <class 'str'> 2844062208448\n",
      "['charity', 'begins', 'at', 'home']\n",
      "['charity', 'begins', 'at', 'home']\n",
      "['char', 'ty beg', 'ns at home']\n"
     ]
    }
   ],
   "source": [
    "mystr = \"charity begins at home\"\n",
    "print (mystr, len(mystr), type(mystr), id(mystr))\n",
    "var1 = mystr.split()\n",
    "print (var1)\n",
    "var1 = mystr.split(\" \")\n",
    "print (var1)\n",
    "var1 = mystr.split(\"i\")\n",
    "print (var1)"
   ]
  },
  {
   "cell_type": "code",
   "execution_count": 44,
   "id": "6f4880ce-df6c-40f9-98d8-da82d1a0f56c",
   "metadata": {},
   "outputs": [
    {
     "name": "stdin",
     "output_type": "stream",
     "text": [
      "Enter your all numbers:  22 44 33 55 44 77 88\n"
     ]
    },
    {
     "name": "stdout",
     "output_type": "stream",
     "text": [
      "[22, 44, 33, 55, 44, 77, 88] <class 'list'>\n"
     ]
    }
   ],
   "source": [
    "list_num = [int(x) for x in input(\"Enter your all numbers: \").split()]\n",
    "# list_num = input(\"Enter your all numbers: \").split()\n",
    "print (list_num, type(list_num))"
   ]
  },
  {
   "cell_type": "code",
   "execution_count": 47,
   "id": "cb6cb79a-4a1f-4955-a648-912fff8c27e9",
   "metadata": {},
   "outputs": [
    {
     "name": "stdout",
     "output_type": "stream",
     "text": [
      "['charity', 'begins', 'at', 'home'] 4 <class 'list'> 2844060154368\n",
      "charity begins at home\n",
      "charity - begins - at - home\n",
      "charity, begins, at, home\n"
     ]
    }
   ],
   "source": [
    "list1 = ['charity', 'begins', 'at', 'home']\n",
    "print (list1, len(list1), type(list1), id(list1))\n",
    "mystr = \" \".join(list1)\n",
    "print (mystr)\n",
    "mystr = \" - \".join(list1)\n",
    "print (mystr)\n",
    "mystr = \", \".join(list1)\n",
    "print (mystr)"
   ]
  },
  {
   "cell_type": "code",
   "execution_count": 54,
   "id": "72464902-ec7f-4b81-8687-3afebdca4152",
   "metadata": {},
   "outputs": [
    {
     "name": "stdout",
     "output_type": "stream",
     "text": [
      "True True True False False\n",
      "True\n"
     ]
    }
   ],
   "source": [
    "# mystr = \"university\"\n",
    "# mystr = \"1234\"    # isdecimal() subset of isdigit() subset of isnumeric()\n",
    "# mystr = \"0xab\"\n",
    "# mystr = \"university1234\"\n",
    "# mystr = \"university@1234\"\n",
    "mystr = \"四\"  # go to Google Translator and translate digit 4 to Chinese digit symbol\n",
    "print (mystr.isalpha(), mystr.isalnum(), mystr.isnumeric(), mystr.isdigit(), mystr.isdecimal())\n",
    "print (\"   \".isspace())"
   ]
  },
  {
   "cell_type": "code",
   "execution_count": 57,
   "id": "496e8085-7f01-4020-8023-01214f6f9bc4",
   "metadata": {},
   "outputs": [
    {
     "name": "stdout",
     "output_type": "stream",
     "text": [
      "2 1 0\n",
      "unxversxty\n",
      "university\n",
      "unxversxty\n"
     ]
    }
   ],
   "source": [
    "mystr = \"university\"\n",
    "print (mystr.count(\"i\"), mystr.count(\"v\"), mystr.count(\"I\"))\n",
    "print (mystr.replace(\"i\", \"x\"))\n",
    "print (mystr)\n",
    "mystr = mystr.replace(\"i\", \"x\")\n",
    "print (mystr)"
   ]
  },
  {
   "cell_type": "code",
   "execution_count": 58,
   "id": "271eb40f-f7ef-4d4d-a332-a6baf2b95140",
   "metadata": {},
   "outputs": [
    {
     "name": "stdout",
     "output_type": "stream",
     "text": [
      "mississippi <class 'str'>\n",
      "['m', 'i', 's', 's', 'i', 's', 's', 'i', 'p', 'p', 'i']\n",
      "('m', 'i', 's', 's', 'i', 's', 's', 'i', 'p', 'p', 'i')\n",
      "{'m', 'i', 's', 'p'}\n",
      "frozenset({'m', 'i', 's', 'p'})\n"
     ]
    }
   ],
   "source": [
    "mystr = \"mississippi\"\n",
    "print (mystr, type(mystr))\n",
    "print (list(mystr))\n",
    "print (tuple(mystr))\n",
    "print (set(mystr))\n",
    "print (frozenset(mystr))"
   ]
  },
  {
   "cell_type": "code",
   "execution_count": 59,
   "id": "7da81e80-314c-484a-83ec-05cdf1a84908",
   "metadata": {
    "scrolled": true,
    "tags": []
   },
   "outputs": [
    {
     "name": "stdout",
     "output_type": "stream",
     "text": [
      "Help on class str in module builtins:\n",
      "\n",
      "class str(object)\n",
      " |  str(object='') -> str\n",
      " |  str(bytes_or_buffer[, encoding[, errors]]) -> str\n",
      " |  \n",
      " |  Create a new string object from the given object. If encoding or\n",
      " |  errors is specified, then the object must expose a data buffer\n",
      " |  that will be decoded using the given encoding and error handler.\n",
      " |  Otherwise, returns the result of object.__str__() (if defined)\n",
      " |  or repr(object).\n",
      " |  encoding defaults to sys.getdefaultencoding().\n",
      " |  errors defaults to 'strict'.\n",
      " |  \n",
      " |  Methods defined here:\n",
      " |  \n",
      " |  __add__(self, value, /)\n",
      " |      Return self+value.\n",
      " |  \n",
      " |  __contains__(self, key, /)\n",
      " |      Return key in self.\n",
      " |  \n",
      " |  __eq__(self, value, /)\n",
      " |      Return self==value.\n",
      " |  \n",
      " |  __format__(self, format_spec, /)\n",
      " |      Return a formatted version of the string as described by format_spec.\n",
      " |  \n",
      " |  __ge__(self, value, /)\n",
      " |      Return self>=value.\n",
      " |  \n",
      " |  __getattribute__(self, name, /)\n",
      " |      Return getattr(self, name).\n",
      " |  \n",
      " |  __getitem__(self, key, /)\n",
      " |      Return self[key].\n",
      " |  \n",
      " |  __getnewargs__(...)\n",
      " |  \n",
      " |  __gt__(self, value, /)\n",
      " |      Return self>value.\n",
      " |  \n",
      " |  __hash__(self, /)\n",
      " |      Return hash(self).\n",
      " |  \n",
      " |  __iter__(self, /)\n",
      " |      Implement iter(self).\n",
      " |  \n",
      " |  __le__(self, value, /)\n",
      " |      Return self<=value.\n",
      " |  \n",
      " |  __len__(self, /)\n",
      " |      Return len(self).\n",
      " |  \n",
      " |  __lt__(self, value, /)\n",
      " |      Return self<value.\n",
      " |  \n",
      " |  __mod__(self, value, /)\n",
      " |      Return self%value.\n",
      " |  \n",
      " |  __mul__(self, value, /)\n",
      " |      Return self*value.\n",
      " |  \n",
      " |  __ne__(self, value, /)\n",
      " |      Return self!=value.\n",
      " |  \n",
      " |  __repr__(self, /)\n",
      " |      Return repr(self).\n",
      " |  \n",
      " |  __rmod__(self, value, /)\n",
      " |      Return value%self.\n",
      " |  \n",
      " |  __rmul__(self, value, /)\n",
      " |      Return value*self.\n",
      " |  \n",
      " |  __sizeof__(self, /)\n",
      " |      Return the size of the string in memory, in bytes.\n",
      " |  \n",
      " |  __str__(self, /)\n",
      " |      Return str(self).\n",
      " |  \n",
      " |  capitalize(self, /)\n",
      " |      Return a capitalized version of the string.\n",
      " |      \n",
      " |      More specifically, make the first character have upper case and the rest lower\n",
      " |      case.\n",
      " |  \n",
      " |  casefold(self, /)\n",
      " |      Return a version of the string suitable for caseless comparisons.\n",
      " |  \n",
      " |  center(self, width, fillchar=' ', /)\n",
      " |      Return a centered string of length width.\n",
      " |      \n",
      " |      Padding is done using the specified fill character (default is a space).\n",
      " |  \n",
      " |  count(...)\n",
      " |      S.count(sub[, start[, end]]) -> int\n",
      " |      \n",
      " |      Return the number of non-overlapping occurrences of substring sub in\n",
      " |      string S[start:end].  Optional arguments start and end are\n",
      " |      interpreted as in slice notation.\n",
      " |  \n",
      " |  encode(self, /, encoding='utf-8', errors='strict')\n",
      " |      Encode the string using the codec registered for encoding.\n",
      " |      \n",
      " |      encoding\n",
      " |        The encoding in which to encode the string.\n",
      " |      errors\n",
      " |        The error handling scheme to use for encoding errors.\n",
      " |        The default is 'strict' meaning that encoding errors raise a\n",
      " |        UnicodeEncodeError.  Other possible values are 'ignore', 'replace' and\n",
      " |        'xmlcharrefreplace' as well as any other name registered with\n",
      " |        codecs.register_error that can handle UnicodeEncodeErrors.\n",
      " |  \n",
      " |  endswith(...)\n",
      " |      S.endswith(suffix[, start[, end]]) -> bool\n",
      " |      \n",
      " |      Return True if S ends with the specified suffix, False otherwise.\n",
      " |      With optional start, test S beginning at that position.\n",
      " |      With optional end, stop comparing S at that position.\n",
      " |      suffix can also be a tuple of strings to try.\n",
      " |  \n",
      " |  expandtabs(self, /, tabsize=8)\n",
      " |      Return a copy where all tab characters are expanded using spaces.\n",
      " |      \n",
      " |      If tabsize is not given, a tab size of 8 characters is assumed.\n",
      " |  \n",
      " |  find(...)\n",
      " |      S.find(sub[, start[, end]]) -> int\n",
      " |      \n",
      " |      Return the lowest index in S where substring sub is found,\n",
      " |      such that sub is contained within S[start:end].  Optional\n",
      " |      arguments start and end are interpreted as in slice notation.\n",
      " |      \n",
      " |      Return -1 on failure.\n",
      " |  \n",
      " |  format(...)\n",
      " |      S.format(*args, **kwargs) -> str\n",
      " |      \n",
      " |      Return a formatted version of S, using substitutions from args and kwargs.\n",
      " |      The substitutions are identified by braces ('{' and '}').\n",
      " |  \n",
      " |  format_map(...)\n",
      " |      S.format_map(mapping) -> str\n",
      " |      \n",
      " |      Return a formatted version of S, using substitutions from mapping.\n",
      " |      The substitutions are identified by braces ('{' and '}').\n",
      " |  \n",
      " |  index(...)\n",
      " |      S.index(sub[, start[, end]]) -> int\n",
      " |      \n",
      " |      Return the lowest index in S where substring sub is found,\n",
      " |      such that sub is contained within S[start:end].  Optional\n",
      " |      arguments start and end are interpreted as in slice notation.\n",
      " |      \n",
      " |      Raises ValueError when the substring is not found.\n",
      " |  \n",
      " |  isalnum(self, /)\n",
      " |      Return True if the string is an alpha-numeric string, False otherwise.\n",
      " |      \n",
      " |      A string is alpha-numeric if all characters in the string are alpha-numeric and\n",
      " |      there is at least one character in the string.\n",
      " |  \n",
      " |  isalpha(self, /)\n",
      " |      Return True if the string is an alphabetic string, False otherwise.\n",
      " |      \n",
      " |      A string is alphabetic if all characters in the string are alphabetic and there\n",
      " |      is at least one character in the string.\n",
      " |  \n",
      " |  isascii(self, /)\n",
      " |      Return True if all characters in the string are ASCII, False otherwise.\n",
      " |      \n",
      " |      ASCII characters have code points in the range U+0000-U+007F.\n",
      " |      Empty string is ASCII too.\n",
      " |  \n",
      " |  isdecimal(self, /)\n",
      " |      Return True if the string is a decimal string, False otherwise.\n",
      " |      \n",
      " |      A string is a decimal string if all characters in the string are decimal and\n",
      " |      there is at least one character in the string.\n",
      " |  \n",
      " |  isdigit(self, /)\n",
      " |      Return True if the string is a digit string, False otherwise.\n",
      " |      \n",
      " |      A string is a digit string if all characters in the string are digits and there\n",
      " |      is at least one character in the string.\n",
      " |  \n",
      " |  isidentifier(self, /)\n",
      " |      Return True if the string is a valid Python identifier, False otherwise.\n",
      " |      \n",
      " |      Call keyword.iskeyword(s) to test whether string s is a reserved identifier,\n",
      " |      such as \"def\" or \"class\".\n",
      " |  \n",
      " |  islower(self, /)\n",
      " |      Return True if the string is a lowercase string, False otherwise.\n",
      " |      \n",
      " |      A string is lowercase if all cased characters in the string are lowercase and\n",
      " |      there is at least one cased character in the string.\n",
      " |  \n",
      " |  isnumeric(self, /)\n",
      " |      Return True if the string is a numeric string, False otherwise.\n",
      " |      \n",
      " |      A string is numeric if all characters in the string are numeric and there is at\n",
      " |      least one character in the string.\n",
      " |  \n",
      " |  isprintable(self, /)\n",
      " |      Return True if the string is printable, False otherwise.\n",
      " |      \n",
      " |      A string is printable if all of its characters are considered printable in\n",
      " |      repr() or if it is empty.\n",
      " |  \n",
      " |  isspace(self, /)\n",
      " |      Return True if the string is a whitespace string, False otherwise.\n",
      " |      \n",
      " |      A string is whitespace if all characters in the string are whitespace and there\n",
      " |      is at least one character in the string.\n",
      " |  \n",
      " |  istitle(self, /)\n",
      " |      Return True if the string is a title-cased string, False otherwise.\n",
      " |      \n",
      " |      In a title-cased string, upper- and title-case characters may only\n",
      " |      follow uncased characters and lowercase characters only cased ones.\n",
      " |  \n",
      " |  isupper(self, /)\n",
      " |      Return True if the string is an uppercase string, False otherwise.\n",
      " |      \n",
      " |      A string is uppercase if all cased characters in the string are uppercase and\n",
      " |      there is at least one cased character in the string.\n",
      " |  \n",
      " |  join(self, iterable, /)\n",
      " |      Concatenate any number of strings.\n",
      " |      \n",
      " |      The string whose method is called is inserted in between each given string.\n",
      " |      The result is returned as a new string.\n",
      " |      \n",
      " |      Example: '.'.join(['ab', 'pq', 'rs']) -> 'ab.pq.rs'\n",
      " |  \n",
      " |  ljust(self, width, fillchar=' ', /)\n",
      " |      Return a left-justified string of length width.\n",
      " |      \n",
      " |      Padding is done using the specified fill character (default is a space).\n",
      " |  \n",
      " |  lower(self, /)\n",
      " |      Return a copy of the string converted to lowercase.\n",
      " |  \n",
      " |  lstrip(self, chars=None, /)\n",
      " |      Return a copy of the string with leading whitespace removed.\n",
      " |      \n",
      " |      If chars is given and not None, remove characters in chars instead.\n",
      " |  \n",
      " |  partition(self, sep, /)\n",
      " |      Partition the string into three parts using the given separator.\n",
      " |      \n",
      " |      This will search for the separator in the string.  If the separator is found,\n",
      " |      returns a 3-tuple containing the part before the separator, the separator\n",
      " |      itself, and the part after it.\n",
      " |      \n",
      " |      If the separator is not found, returns a 3-tuple containing the original string\n",
      " |      and two empty strings.\n",
      " |  \n",
      " |  replace(self, old, new, count=-1, /)\n",
      " |      Return a copy with all occurrences of substring old replaced by new.\n",
      " |      \n",
      " |        count\n",
      " |          Maximum number of occurrences to replace.\n",
      " |          -1 (the default value) means replace all occurrences.\n",
      " |      \n",
      " |      If the optional argument count is given, only the first count occurrences are\n",
      " |      replaced.\n",
      " |  \n",
      " |  rfind(...)\n",
      " |      S.rfind(sub[, start[, end]]) -> int\n",
      " |      \n",
      " |      Return the highest index in S where substring sub is found,\n",
      " |      such that sub is contained within S[start:end].  Optional\n",
      " |      arguments start and end are interpreted as in slice notation.\n",
      " |      \n",
      " |      Return -1 on failure.\n",
      " |  \n",
      " |  rindex(...)\n",
      " |      S.rindex(sub[, start[, end]]) -> int\n",
      " |      \n",
      " |      Return the highest index in S where substring sub is found,\n",
      " |      such that sub is contained within S[start:end].  Optional\n",
      " |      arguments start and end are interpreted as in slice notation.\n",
      " |      \n",
      " |      Raises ValueError when the substring is not found.\n",
      " |  \n",
      " |  rjust(self, width, fillchar=' ', /)\n",
      " |      Return a right-justified string of length width.\n",
      " |      \n",
      " |      Padding is done using the specified fill character (default is a space).\n",
      " |  \n",
      " |  rpartition(self, sep, /)\n",
      " |      Partition the string into three parts using the given separator.\n",
      " |      \n",
      " |      This will search for the separator in the string, starting at the end. If\n",
      " |      the separator is found, returns a 3-tuple containing the part before the\n",
      " |      separator, the separator itself, and the part after it.\n",
      " |      \n",
      " |      If the separator is not found, returns a 3-tuple containing two empty strings\n",
      " |      and the original string.\n",
      " |  \n",
      " |  rsplit(self, /, sep=None, maxsplit=-1)\n",
      " |      Return a list of the words in the string, using sep as the delimiter string.\n",
      " |      \n",
      " |        sep\n",
      " |          The delimiter according which to split the string.\n",
      " |          None (the default value) means split according to any whitespace,\n",
      " |          and discard empty strings from the result.\n",
      " |        maxsplit\n",
      " |          Maximum number of splits to do.\n",
      " |          -1 (the default value) means no limit.\n",
      " |      \n",
      " |      Splits are done starting at the end of the string and working to the front.\n",
      " |  \n",
      " |  rstrip(self, chars=None, /)\n",
      " |      Return a copy of the string with trailing whitespace removed.\n",
      " |      \n",
      " |      If chars is given and not None, remove characters in chars instead.\n",
      " |  \n",
      " |  split(self, /, sep=None, maxsplit=-1)\n",
      " |      Return a list of the words in the string, using sep as the delimiter string.\n",
      " |      \n",
      " |      sep\n",
      " |        The delimiter according which to split the string.\n",
      " |        None (the default value) means split according to any whitespace,\n",
      " |        and discard empty strings from the result.\n",
      " |      maxsplit\n",
      " |        Maximum number of splits to do.\n",
      " |        -1 (the default value) means no limit.\n",
      " |  \n",
      " |  splitlines(self, /, keepends=False)\n",
      " |      Return a list of the lines in the string, breaking at line boundaries.\n",
      " |      \n",
      " |      Line breaks are not included in the resulting list unless keepends is given and\n",
      " |      true.\n",
      " |  \n",
      " |  startswith(...)\n",
      " |      S.startswith(prefix[, start[, end]]) -> bool\n",
      " |      \n",
      " |      Return True if S starts with the specified prefix, False otherwise.\n",
      " |      With optional start, test S beginning at that position.\n",
      " |      With optional end, stop comparing S at that position.\n",
      " |      prefix can also be a tuple of strings to try.\n",
      " |  \n",
      " |  strip(self, chars=None, /)\n",
      " |      Return a copy of the string with leading and trailing whitespace removed.\n",
      " |      \n",
      " |      If chars is given and not None, remove characters in chars instead.\n",
      " |  \n",
      " |  swapcase(self, /)\n",
      " |      Convert uppercase characters to lowercase and lowercase characters to uppercase.\n",
      " |  \n",
      " |  title(self, /)\n",
      " |      Return a version of the string where each word is titlecased.\n",
      " |      \n",
      " |      More specifically, words start with uppercased characters and all remaining\n",
      " |      cased characters have lower case.\n",
      " |  \n",
      " |  translate(self, table, /)\n",
      " |      Replace each character in the string using the given translation table.\n",
      " |      \n",
      " |        table\n",
      " |          Translation table, which must be a mapping of Unicode ordinals to\n",
      " |          Unicode ordinals, strings, or None.\n",
      " |      \n",
      " |      The table must implement lookup/indexing via __getitem__, for instance a\n",
      " |      dictionary or list.  If this operation raises LookupError, the character is\n",
      " |      left untouched.  Characters mapped to None are deleted.\n",
      " |  \n",
      " |  upper(self, /)\n",
      " |      Return a copy of the string converted to uppercase.\n",
      " |  \n",
      " |  zfill(self, width, /)\n",
      " |      Pad a numeric string with zeros on the left, to fill a field of the given width.\n",
      " |      \n",
      " |      The string is never truncated.\n",
      " |  \n",
      " |  ----------------------------------------------------------------------\n",
      " |  Static methods defined here:\n",
      " |  \n",
      " |  __new__(*args, **kwargs) from builtins.type\n",
      " |      Create and return a new object.  See help(type) for accurate signature.\n",
      " |  \n",
      " |  maketrans(...)\n",
      " |      Return a translation table usable for str.translate().\n",
      " |      \n",
      " |      If there is only one argument, it must be a dictionary mapping Unicode\n",
      " |      ordinals (integers) or characters to Unicode ordinals, strings or None.\n",
      " |      Character keys will be then converted to ordinals.\n",
      " |      If there are two arguments, they must be strings of equal length, and\n",
      " |      in the resulting dictionary, each character in x will be mapped to the\n",
      " |      character at the same position in y. If there is a third argument, it\n",
      " |      must be a string, whose characters will be mapped to None in the result.\n",
      "\n"
     ]
    }
   ],
   "source": [
    "help(str)"
   ]
  },
  {
   "cell_type": "markdown",
   "id": "bd80b06d-8f4b-48dd-af43-81aaf8cd8662",
   "metadata": {},
   "source": [
    "### Class Assignment-1"
   ]
  },
  {
   "cell_type": "code",
   "execution_count": null,
   "id": "42ce81b4-01a8-45e1-b92b-f8b6938c43e8",
   "metadata": {},
   "outputs": [],
   "source": [
    "# Input: moHan dAs kaRAM chANd ganDhi\n",
    "# Output: M D K C Gandhi"
   ]
  },
  {
   "cell_type": "markdown",
   "id": "800745c0-1243-462d-a11e-b72516b7255b",
   "metadata": {},
   "source": [
    "### Class Assignment-2"
   ]
  },
  {
   "cell_type": "code",
   "execution_count": null,
   "id": "b3dfee80-03ca-4438-a53b-fe8400e49cd9",
   "metadata": {},
   "outputs": [],
   "source": [
    "# Input: moHan dAs kaRAM chANd ganDhi\n",
    "# Output: M. D. K. C. Gandhi"
   ]
  },
  {
   "cell_type": "markdown",
   "id": "2388ebcb-5d93-48ba-aa04-ee29e06c44be",
   "metadata": {},
   "source": [
    "### Class Assignment-3"
   ]
  },
  {
   "cell_type": "code",
   "execution_count": null,
   "id": "73394be0-020c-47e1-8165-f4fe93550810",
   "metadata": {},
   "outputs": [],
   "source": [
    "Find the sum of first n terms of the following series, where n will be the user input -\n",
    "total =   1 + 2 + 3 + 4 + 10 + 5 + 6 + 7 + 8 + 26 + 9 + 10 + ... n terms\n",
    "term no.  1   2   3   4   5    6   7   8   9   10  11   12     \n",
    "if n = 4 then output = 10\n",
    "if n = 5 then output = 20\n",
    "if n = 10 then output = 72\n",
    "if n = 11 then output = 81\n",
    "\n",
    "Can you find the value of the 99th term of the series? Answer: ???"
   ]
  },
  {
   "cell_type": "code",
   "execution_count": null,
   "id": "cd2ce721-96a7-401e-a91e-a368ddd3fb46",
   "metadata": {},
   "outputs": [],
   "source": [
    "n = 6              i   .  FS    SS\n",
    "               -----------------------\n",
    ".....1             1   5  1-1   --        . => (n - i)\n",
    "....121            2   4  1-2   1-1       FS => 1 to i\n",
    "...12321           3   3  1-3   2-1       SS => (i - 1) to 1 step -1\n",
    "..1234321          4   2  1-4   3-1\n",
    ".123454321         5   1  1-5   4-1\n",
    "12345654321        6   0  1-6   5-1\n",
    "               -----------------------"
   ]
  },
  {
   "cell_type": "markdown",
   "id": "dbaed981-ae29-40c6-89cc-17c2a04f271a",
   "metadata": {},
   "source": [
    "### User Defined Function (UDF)"
   ]
  },
  {
   "cell_type": "code",
   "execution_count": 3,
   "id": "59ce133f-7311-4bac-9e4d-622a92495607",
   "metadata": {},
   "outputs": [
    {
     "name": "stdout",
     "output_type": "stream",
     "text": [
      "<class 'function'> 1903632127168\n",
      "Welcome Welcome Welcome Welcome Welcome \n",
      "Welcome Welcome Welcome Welcome Welcome \n",
      "Welcome Welcome Welcome Welcome Welcome \n"
     ]
    }
   ],
   "source": [
    "def funct1():\n",
    "    print (\"Welcome \" * 5)\n",
    "    \n",
    "print (type(funct1), id(funct1))\n",
    "funct1()\n",
    "funct1()\n",
    "funct1()"
   ]
  },
  {
   "cell_type": "code",
   "execution_count": 5,
   "id": "c6585ce5-7e42-4838-aa2b-148e218ba16c",
   "metadata": {},
   "outputs": [
    {
     "name": "stdout",
     "output_type": "stream",
     "text": [
      "Hello Hello Hello Hello Hello Hello Hello Hello Hello Hello \n",
      "Welcome Welcome Welcome Welcome Welcome \n"
     ]
    }
   ],
   "source": [
    "def funct2(msg, times):   # msg and times are called as positional parameters\n",
    "    print (msg * times)\n",
    "    \n",
    "funct2 (\"Hello \", 10)   # \"Hello \" and 10 are called as positional arguments\n",
    "funct2 (\"Welcome \", 5) "
   ]
  },
  {
   "cell_type": "code",
   "execution_count": 7,
   "id": "a962132a-ceaa-4363-916d-a21f208b3796",
   "metadata": {},
   "outputs": [
    {
     "name": "stdout",
     "output_type": "stream",
     "text": [
      "Hello Hello Hello \n",
      "Hi !!!  Hi !!!  Hi !!!  Hi !!!  Hi !!!  \n"
     ]
    }
   ],
   "source": [
    "def funct3(msg, times):\n",
    "    return msg * times\n",
    "\n",
    "result = funct3(\"Hello \", 3)\n",
    "print (result)\n",
    "result = funct3(\"Hi !!!  \", 5)\n",
    "print (result)"
   ]
  },
  {
   "cell_type": "code",
   "execution_count": 16,
   "id": "29241c94-4524-4f25-9b32-6f7eceb9247d",
   "metadata": {},
   "outputs": [
    {
     "name": "stdout",
     "output_type": "stream",
     "text": [
      "par1 = 100, par2 = 200 and par3 = 300...\n",
      "par1 = 100, par2 = 200 and par3 = 333...\n",
      "par1 = 100, par2 = 222 and par3 = 333...\n",
      "par1 = 111, par2 = 222 and par3 = 333...\n",
      "par1 = 100, par2 = 200 and par3 = 333...\n",
      "par1 = 100, par2 = 222 and par3 = 300...\n"
     ]
    }
   ],
   "source": [
    "# function with default arguments\n",
    "def funct4(par1 = 111, par2 = 222, par3 = 333):\n",
    "    print (f\"par1 = {par1}, par2 = {par2} and par3 = {par3}...\")\n",
    "    \n",
    "funct4(100, 200, 300)\n",
    "funct4(100, 200)\n",
    "funct4(100)\n",
    "funct4()\n",
    "funct4(par2 = 200, par1 = 100)\n",
    "funct4(par3 = 300, par1 = 100)"
   ]
  },
  {
   "cell_type": "code",
   "execution_count": 19,
   "id": "4950f881-4ad3-4167-9b4e-72ec166f6f44",
   "metadata": {},
   "outputs": [
    {
     "name": "stdout",
     "output_type": "stream",
     "text": [
      "500\n",
      "200\n"
     ]
    }
   ],
   "source": [
    "def funct5(num1, num2 = None):\n",
    "    # if (num2 == None):\n",
    "    if (num2 is None):\n",
    "        return 2 * num1\n",
    "    else:\n",
    "        return num1 + num2\n",
    "    \n",
    "print (funct5(100, 400))\n",
    "print (funct5(100))"
   ]
  },
  {
   "cell_type": "code",
   "execution_count": 22,
   "id": "a13b0d2f-3915-4409-8da7-07f72a41c576",
   "metadata": {},
   "outputs": [
    {
     "name": "stdout",
     "output_type": "stream",
     "text": [
      "Total = 140, Difference = 60, Product = 4000 and Quotient = 2.5...\n",
      "(140, 60, 4000, 2.5) <class 'tuple'> 4\n",
      "Total = 140, Difference = 60, Product = 4000 and Quotient = 2.5...\n"
     ]
    }
   ],
   "source": [
    "# function returning multiple arguments\n",
    "def funct6(num1, num2): \n",
    "    total = num1 + num2\n",
    "    difference = num1 - num2\n",
    "    product = num1 * num2\n",
    "    quotient = num1 / num2\n",
    "    return total, difference, product, quotient\n",
    "\n",
    "tt, dd, pp, qq = funct6(100, 40)\n",
    "print (f\"Total = {tt}, Difference = {dd}, Product = {pp} and Quotient = {qq}...\")\n",
    "\n",
    "result = funct6(100, 40)\n",
    "print (result, type(result), len(result))\n",
    "print (f\"Total = {result[0]}, Difference = {result[1]}, Product = {result[2]} and Quotient = {result[3]}...\")"
   ]
  },
  {
   "cell_type": "code",
   "execution_count": 23,
   "id": "02170f56-381a-4882-96a2-b7e945c99451",
   "metadata": {},
   "outputs": [
    {
     "name": "stdout",
     "output_type": "stream",
     "text": [
      "('Amitava', 'Developer', 65000) 3 <class 'tuple'> 1903650073728\n",
      "('Amitava', 'Developer', 65000, 'Pune') 4 <class 'tuple'> 1903644356912\n",
      "('Amitava', 'Developer', 65000, 'Pune', 'Masters') 5 <class 'tuple'> 1903650144320\n"
     ]
    }
   ],
   "source": [
    "# function with variable number of arguments\n",
    "def funct7(*arg):    # *arg means forcefully defining arg as a tuple type collection object\n",
    "    print (arg, len(arg), type(arg), id(arg))\n",
    "    \n",
    "funct7(\"Amitava\", \"Developer\", 65000)\n",
    "funct7(\"Amitava\", \"Developer\", 65000, \"Pune\")\n",
    "funct7(\"Amitava\", \"Developer\", 65000, \"Pune\", \"Masters\")"
   ]
  },
  {
   "cell_type": "code",
   "execution_count": 24,
   "id": "c614f66f-008c-4c4d-b8aa-3502d40ff239",
   "metadata": {},
   "outputs": [
    {
     "name": "stdout",
     "output_type": "stream",
     "text": [
      "{'name': 'Amitava', 'job': 'Developer', 'salary': 65000, 'location': 'Pune'} 4 <class 'dict'> 1903657825344\n",
      "{'name': 'Amitava', 'job': 'Developer', 'salary': 65000, 'location': 'Pune', 'qualification': 'ME'} 5 <class 'dict'> 1903649211392\n"
     ]
    }
   ],
   "source": [
    "# function with variable number of arguments\n",
    "def funct8(**kwarg):     # **kwarg means forcefully defining kwarg as a dictionary type key-word argument\n",
    "    print (kwarg, len(kwarg), type(kwarg), id(kwarg))\n",
    "    \n",
    "funct8(name = \"Amitava\", job = \"Developer\", salary = 65000, location = \"Pune\")\n",
    "funct8(name = \"Amitava\", job = \"Developer\", salary = 65000, location = \"Pune\", qualification = \"ME\")"
   ]
  },
  {
   "cell_type": "code",
   "execution_count": 26,
   "id": "df85dbd2-7f06-4c98-9c0c-678c41592d61",
   "metadata": {},
   "outputs": [
    {
     "name": "stdout",
     "output_type": "stream",
     "text": [
      "('Amitava', 'Developer', 65000) 3 <class 'tuple'> 1903648372800\n",
      "{'location': 'Pune', 'qualification': 'Masters', 'hobby': 'drawing'} 3 <class 'dict'> 1903650214720\n",
      "\n",
      "('Amitava', 'Developer', 65000) 3 <class 'tuple'> 1903649708032\n",
      "{} 0 <class 'dict'> 1903650215168\n",
      "\n",
      "() 0 <class 'tuple'> 1903556755520\n",
      "{'location': 'Pune', 'qualification': 'Masters', 'hobby': 'drawing'} 3 <class 'dict'> 1903650212352\n"
     ]
    }
   ],
   "source": [
    "# function with variable number of arguments\n",
    "def funct9(*arg, **kwarg):\n",
    "    print (arg, len(arg), type(arg), id(arg))\n",
    "    print (kwarg, len(kwarg), type(kwarg), id(kwarg))\n",
    "    \n",
    "funct9(\"Amitava\", \"Developer\", 65000, location = \"Pune\", qualification = \"Masters\", hobby='drawing')\n",
    "print ()\n",
    "funct9(\"Amitava\", \"Developer\", 65000)\n",
    "print ()\n",
    "funct9(location = \"Pune\", qualification = \"Masters\", hobby = 'drawing')"
   ]
  },
  {
   "cell_type": "code",
   "execution_count": 31,
   "id": "dd5d3171-8c49-4c3a-976a-6d395229b5f8",
   "metadata": {},
   "outputs": [
    {
     "name": "stdout",
     "output_type": "stream",
     "text": [
      "Executing for i = 2...\n",
      "Executing for i = 3...\n",
      "Executing for i = 4...\n",
      "So factorial of 5 is 120...\n"
     ]
    }
   ],
   "source": [
    "# non-recursive factorial calculating function\n",
    "# 5! = 1 * 2 * 3 * 4 * 5 = 5 * 4 * 3 * 2 * 1 = 120\n",
    "def factorial_nr(num):\n",
    "    if (num == 0 or num == 1): return 1\n",
    "    fact = num\n",
    "    for i in range(2, num):\n",
    "        print (f\"Executing for i = {i}...\")\n",
    "        fact *= i\n",
    "    return fact\n",
    "\n",
    "n = 5\n",
    "result = factorial_nr(n)\n",
    "print (f\"So factorial of {n} is {result}...\")"
   ]
  },
  {
   "cell_type": "code",
   "execution_count": 32,
   "id": "ee813a2d-6b5b-47d9-a969-1cccaf88d9f7",
   "metadata": {},
   "outputs": [
    {
     "name": "stdout",
     "output_type": "stream",
     "text": [
      "So factorial of 5 is 120...\n"
     ]
    }
   ],
   "source": [
    "# recursive factorial calculating function\n",
    "# 5! = 1 * 2 * 3 * 4 * 5 = 5 * 4 * 3 * 2 * 1 = 120\n",
    "def factorial_r(num):\n",
    "    if (num == 0 or num == 1): return 1  # base case: for certain input values outputs are pre-known, and where recursion terminates\n",
    "    return num * factorial_r(num - 1)    # reursive case: the function will call itself\n",
    "\n",
    "n = 5\n",
    "result = factorial_r(n)\n",
    "print (f\"So factorial of {n} is {result}...\")"
   ]
  },
  {
   "cell_type": "code",
   "execution_count": null,
   "id": "87d5ddbf-0d83-4fe1-b097-fdee1e257ab2",
   "metadata": {},
   "outputs": [],
   "source": [
    "5! = 5 * 4!\n",
    "         4 * 3!\n",
    "             3 * 2!\n",
    "                 2 * 1!\n",
    "                     1\n",
    "                 2\n",
    "             6\n",
    "         24\n",
    "     120"
   ]
  },
  {
   "cell_type": "markdown",
   "id": "44d8416b-accb-4d9f-82fc-99eb2da51898",
   "metadata": {},
   "source": [
    "#### Lambda Function\n",
    "> In Python programming, a lambda function is a small anonymous function that can have any number of arguments, but can only have one expression. The expression is evaluated and returned as the function result. Lambda functions are commonly used in combination with higher-order functions such as map(), filter(), and reduce().\n",
    "\n",
    "Some of the properties of lambda functions in Python programming include:\n",
    "* **Anonymous:** Lambda functions are anonymous, meaning they do not have a name like regular functions. They are defined using the keyword \"lambda\" followed by the arguments and the expression.\n",
    "* **Single Expression:** A lambda function can only contain a single expression that is evaluated and returned as the function result. This means that it cannot contain multiple statements or control flow structures.\n",
    "* **Concise:** Lambda functions are concise and can be defined in a single line of code. This makes them useful for defining simple functions on-the-fly.\n",
    "* **Immutable:** Lambda functions are immutable, meaning they cannot be modified once defined. This means that you cannot change the behavior of a lambda function after it has been defined.\n",
    "* **Higher-order Functions:** Lambda functions are often used in combination with higher-order functions such as map(), filter(), and reduce(). These functions take other functions as arguments and return new functions as results.\n",
    "* **Memory-efficient:** Lambda functions are memory-efficient since they are defined on-the-fly and do not require a separate function definition. This can be useful when working with large data sets or when memory usage is a concern."
   ]
  },
  {
   "cell_type": "code",
   "execution_count": 33,
   "id": "06f2337c-0403-4339-a320-7d8b145c1322",
   "metadata": {},
   "outputs": [
    {
     "name": "stdout",
     "output_type": "stream",
     "text": [
      "25 <function <lambda> at 0x000001BB3A4F8F70> <class 'function'> 1903648804720\n",
      "36\n"
     ]
    }
   ],
   "source": [
    "# lambda function\n",
    "my_square = lambda num: num * num\n",
    "\n",
    "print (my_square(5), my_square, type(my_square), id(my_square))\n",
    "result = my_square(6)\n",
    "print (result)"
   ]
  },
  {
   "cell_type": "code",
   "execution_count": 34,
   "id": "394135a3-9aee-4796-a500-7e775d786b28",
   "metadata": {},
   "outputs": [
    {
     "name": "stdout",
     "output_type": "stream",
     "text": [
      "900 <function <lambda> at 0x000001BB3A4F8E50> <class 'function'> 1903648804432\n",
      "800\n"
     ]
    }
   ],
   "source": [
    "my_addition = lambda num1, num2: num1 + num2\n",
    "\n",
    "print (my_addition(500, 400), my_addition, type(my_addition), id(my_addition))\n",
    "result = my_addition(300, 500)\n",
    "print (result)"
   ]
  },
  {
   "cell_type": "code",
   "execution_count": 35,
   "id": "eb82edca-8e12-452b-bec2-e6c5a2020ee8",
   "metadata": {},
   "outputs": [
    {
     "name": "stdout",
     "output_type": "stream",
     "text": [
      "120 <function <lambda> at 0x000001BB3A62AC10> <class 'function'> 1903650057232\n",
      "720\n"
     ]
    }
   ],
   "source": [
    "# recursive factorial calculation with lambda function\n",
    "my_factorial = lambda num1: 1 if (num1 == 0 or num1 == 1) else num1 * my_factorial(num1 - 1)\n",
    "print (my_factorial(5), my_factorial, type(my_factorial), id(my_factorial))\n",
    "result = my_factorial(6)\n",
    "print (result)"
   ]
  },
  {
   "cell_type": "code",
   "execution_count": 36,
   "id": "a3184b07-4039-4def-b717-c9f70f3a7fe4",
   "metadata": {},
   "outputs": [
    {
     "name": "stdout",
     "output_type": "stream",
     "text": [
      "30\n",
      "80\n",
      "150\n"
     ]
    }
   ],
   "source": [
    "def funct10(num):\n",
    "    myproduct = lambda n: n * num\n",
    "    return myproduct\n",
    "\n",
    "var10 = funct10(10)\n",
    "var20 = funct10(20)\n",
    "print (var10(3))\n",
    "print (var20(4))\n",
    "print (funct10(30)(5))"
   ]
  },
  {
   "cell_type": "code",
   "execution_count": 38,
   "id": "7d239ab8-7250-4e3c-bd10-4111c7e8aeae",
   "metadata": {},
   "outputs": [
    {
     "name": "stdout",
     "output_type": "stream",
     "text": [
      "500 1903658322384\n",
      "100 140706672554896\n",
      "500 1903658322384\n"
     ]
    }
   ],
   "source": [
    "# using the 'global' keyword\n",
    "def funct11():\n",
    "    i = 100\n",
    "    print (i, id(i))\n",
    "    \n",
    "i = 500\n",
    "print (i, id(i))\n",
    "funct11()\n",
    "print (i, id(i))"
   ]
  },
  {
   "cell_type": "code",
   "execution_count": 40,
   "id": "ff5fc54f-3ab3-4c1a-a24e-03db3ec35e0b",
   "metadata": {},
   "outputs": [
    {
     "name": "stdout",
     "output_type": "stream",
     "text": [
      "500 1903658322608\n",
      "100 140706672554896\n",
      "100 140706672554896\n"
     ]
    }
   ],
   "source": [
    "# using the 'global' keyword\n",
    "def funct11():\n",
    "    global i\n",
    "    i = 100\n",
    "    print (i, id(i))\n",
    "    \n",
    "i = 500\n",
    "print (i, id(i))\n",
    "funct11()\n",
    "print (i, id(i))"
   ]
  },
  {
   "cell_type": "code",
   "execution_count": null,
   "id": "97e31d0c-7c4d-4619-a73b-bf8f40b9a64b",
   "metadata": {},
   "outputs": [],
   "source": []
  },
  {
   "cell_type": "code",
   "execution_count": null,
   "id": "18c139b2-e6a3-42d6-8910-63863c336628",
   "metadata": {},
   "outputs": [],
   "source": []
  },
  {
   "cell_type": "code",
   "execution_count": null,
   "id": "bc15aa48-64df-4316-ab09-658172349af0",
   "metadata": {},
   "outputs": [],
   "source": []
  },
  {
   "cell_type": "code",
   "execution_count": null,
   "id": "cf0ed672-f915-4c03-bd36-7774085e7d80",
   "metadata": {},
   "outputs": [],
   "source": []
  },
  {
   "cell_type": "code",
   "execution_count": null,
   "id": "be61ef12-aeba-43d9-8643-f43d71ae88ae",
   "metadata": {},
   "outputs": [],
   "source": []
  },
  {
   "cell_type": "code",
   "execution_count": null,
   "id": "03d284c6-f4a5-4ce5-9eaf-3d7d91c1f735",
   "metadata": {},
   "outputs": [],
   "source": []
  },
  {
   "cell_type": "code",
   "execution_count": null,
   "id": "94985fd1-bf1b-4412-b9b8-99bac2929992",
   "metadata": {},
   "outputs": [],
   "source": []
  },
  {
   "cell_type": "code",
   "execution_count": null,
   "id": "b246ce4d-6551-4ddb-a6aa-acad2e0869bf",
   "metadata": {},
   "outputs": [],
   "source": []
  },
  {
   "cell_type": "code",
   "execution_count": null,
   "id": "20933a0b-224b-45d8-8554-7ed9221a779b",
   "metadata": {},
   "outputs": [],
   "source": []
  },
  {
   "cell_type": "code",
   "execution_count": null,
   "id": "194845fa-1fac-4ed9-9f75-464294c28f58",
   "metadata": {},
   "outputs": [],
   "source": []
  },
  {
   "cell_type": "code",
   "execution_count": null,
   "id": "e344bbff-476e-4257-bc16-f079a79ead53",
   "metadata": {},
   "outputs": [],
   "source": []
  },
  {
   "cell_type": "code",
   "execution_count": null,
   "id": "3aebcc52-e656-4c1f-aefd-fa4efda66d83",
   "metadata": {},
   "outputs": [],
   "source": []
  },
  {
   "cell_type": "code",
   "execution_count": null,
   "id": "f2c7a9ac-cb59-4dea-a2c3-74c3dd08ca48",
   "metadata": {},
   "outputs": [],
   "source": []
  },
  {
   "cell_type": "code",
   "execution_count": null,
   "id": "5e955457-012b-4dd2-a5d0-67f08365b579",
   "metadata": {},
   "outputs": [],
   "source": []
  },
  {
   "cell_type": "code",
   "execution_count": null,
   "id": "3144d297-bef0-41a1-a6ca-98a19cb5a33b",
   "metadata": {},
   "outputs": [],
   "source": []
  },
  {
   "cell_type": "code",
   "execution_count": null,
   "id": "28895323-82b5-4757-8da7-13f2f7300835",
   "metadata": {},
   "outputs": [],
   "source": []
  }
 ],
 "metadata": {
  "kernelspec": {
   "display_name": "Python 3",
   "language": "python",
   "name": "python3"
  },
  "language_info": {
   "codemirror_mode": {
    "name": "ipython",
    "version": 3
   },
   "file_extension": ".py",
   "mimetype": "text/x-python",
   "name": "python",
   "nbconvert_exporter": "python",
   "pygments_lexer": "ipython3",
   "version": "3.8.8"
  }
 },
 "nbformat": 4,
 "nbformat_minor": 5
}
