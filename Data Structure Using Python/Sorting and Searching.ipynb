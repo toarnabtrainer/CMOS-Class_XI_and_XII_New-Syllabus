{
 "cells": [
  {
   "cell_type": "markdown",
   "metadata": {},
   "source": [
    "### Merge Sort implementation using Python"
   ]
  },
  {
   "cell_type": "code",
   "execution_count": 3,
   "metadata": {},
   "outputs": [
    {
     "name": "stdout",
     "output_type": "stream",
     "text": [
      "The given array is: [55, 44, 77, 66, 11, 88, 22, 33]\n",
      "So the sorted array is: [11, 22, 33, 44, 55, 66, 77, 88]\n",
      "\n",
      "End of the program...\n"
     ]
    }
   ],
   "source": [
    "# Merge two sub-arrays of arr[] i.e. arr[l ... m] and arr[m + 1 ... r]\n",
    "def merge(arr, l, m, r):\n",
    "    n1 = m - l + 1\n",
    "    n2 = r - m\n",
    "    # create two temporary arrays\n",
    "    L = [0] * (n1)\n",
    "    R = [0] * (n2)\n",
    "    # copy data to temp arrays L[] and R[]\n",
    "    for i in range(0, n1):\n",
    "        L[i] = arr[l + i]\n",
    "    for j in range(0, n2):\n",
    "        R[j] = arr[m + 1 + j]\n",
    "    # Merge the temp arrays back into arr[l ... r]\n",
    "    i = 0     # initial index of the first sub-array L\n",
    "    j = 0     # initial index of the second sub-array R\n",
    "    k = l     # initail index of the merged array\n",
    "    while (i < n1 and j < n2):\n",
    "        if (L[i] <= R[j]):\n",
    "            arr[k] = L[i]\n",
    "            i += 1\n",
    "        else:\n",
    "            arr[k] = R[j]\n",
    "            j += 1\n",
    "        k += 1\n",
    "    # Copy the remaining elements of L[], if there are any\n",
    "    while (i < n1):\n",
    "        arr[k] = L[i]\n",
    "        i += 1\n",
    "        k += 1\n",
    "    # Copy the remaining elements of R[], if there are any\n",
    "    while (j < n2):\n",
    "        arr[k] = R[j]\n",
    "        j += 1\n",
    "        k += 1\n",
    "# l is for the left index and r is for the right index of the sub-array of arr to be sorted\n",
    "def mergeSort(arr, l, r):\n",
    "    if (l < r):\n",
    "        # Same as (l + r) // 2, but avoid overflow for large l and r\n",
    "        m = (l + r - 1) // 2\n",
    "        # Sort first and second halves\n",
    "        mergeSort(arr, l, m)\n",
    "        mergeSort(arr, m + 1, r)\n",
    "        merge(arr, l, m, r)\n",
    "# running the code with proper inputs\n",
    "arr = [55, 44, 77, 66, 11, 88, 22, 33]\n",
    "n = len(arr)\n",
    "print (\"The given array is:\", arr)\n",
    "mergeSort(arr, 0, n - 1)\n",
    "print (\"So the sorted array is:\", arr)\n",
    "print (\"\\nEnd of the program...\")"
   ]
  },
  {
   "cell_type": "markdown",
   "metadata": {},
   "source": [
    "### Insertion Sort implementation using Python"
   ]
  },
  {
   "cell_type": "code",
   "execution_count": 11,
   "metadata": {},
   "outputs": [
    {
     "name": "stdout",
     "output_type": "stream",
     "text": [
      "[12, 6, 17, 5, 19, 2, 8]\n",
      "[6, 12, 17, 5, 19, 2, 8]\n",
      "No change...\n",
      "[5, 6, 12, 17, 19, 2, 8]\n",
      "No change...\n",
      "[2, 5, 6, 12, 17, 19, 8]\n",
      "[2, 5, 6, 8, 12, 17, 19]\n",
      "So the sorted array is: [2, 5, 6, 8, 12, 17, 19]\n",
      "End of the program...\n"
     ]
    }
   ],
   "source": [
    "# Function to do insertion sort\n",
    "def insertionSort(arr):\n",
    "    # Traverse through 1 to len(arr):\n",
    "    for i in range(1, len(arr)):\n",
    "        key = arr[i]\n",
    "        # Move elements of arr[0 ... i - 1], that are greater than key, to one position\n",
    "        # ahead of their current position\n",
    "        j = i - 1\n",
    "        while (j >= 0 and key < arr[j]):\n",
    "            arr[j + 1] = arr[j]\n",
    "            j -= 1\n",
    "        if (j != i - 1):\n",
    "            arr[j + 1] = key\n",
    "            print (arr)\n",
    "        else:\n",
    "            print (\"No change...\")\n",
    "# running the code with proper inputs\n",
    "# arr = [11, 33, 55, 88, 66, 44, 22, 77]\n",
    "arr = [12, 6, 17, 5, 19, 2, 8]\n",
    "print (arr)\n",
    "insertionSort(arr)\n",
    "print (\"So the sorted array is:\", arr)\n",
    "print (\"End of the program...\")"
   ]
  },
  {
   "cell_type": "markdown",
   "metadata": {},
   "source": [
    "### Counting Inversions"
   ]
  },
  {
   "cell_type": "code",
   "execution_count": 9,
   "metadata": {},
   "outputs": [
    {
     "name": "stdout",
     "output_type": "stream",
     "text": [
      "So the total number inversions are: 5\n",
      "End of the program...\n"
     ]
    }
   ],
   "source": [
    "# Python program to count inversions in an array\n",
    "def getInvCount(arr, n):\n",
    "    inv_count = 0\n",
    "    for i in range(n - 1):\n",
    "        for j in range(i + 1, n):\n",
    "            if (arr[i] > arr[j]):\n",
    "                inv_count += 1\n",
    "    return inv_count\n",
    "\n",
    "# running the code with proper inputs\n",
    "arr = [1, 20, 8, 5, 6]\n",
    "n = len(arr)\n",
    "print (\"So the total number inversions are:\", getInvCount(arr, n))\n",
    "print (\"End of the program...\")"
   ]
  },
  {
   "cell_type": "markdown",
   "metadata": {},
   "source": [
    "### Implementing Counting Sort"
   ]
  },
  {
   "cell_type": "code",
   "execution_count": 6,
   "metadata": {},
   "outputs": [
    {
     "name": "stdin",
     "output_type": "stream",
     "text": [
      " 2\n",
      " 5\n",
      " 7 2 9 10 1\n"
     ]
    },
    {
     "name": "stdout",
     "output_type": "stream",
     "text": [
      "1 2 7 9 10 "
     ]
    },
    {
     "name": "stdin",
     "output_type": "stream",
     "text": [
      " 4\n",
      " 3 7 7 3\n"
     ]
    },
    {
     "name": "stdout",
     "output_type": "stream",
     "text": [
      "3 3 7 7 "
     ]
    }
   ],
   "source": [
    "T = int(input())\n",
    "for i in range(T):\n",
    "    N = int(input())\n",
    "    lst = list(map(int, input().split()))\n",
    "    m = max(lst) + 1\n",
    "    count_array = [0] * m\n",
    "    for data in lst:\n",
    "    # count occurrences\n",
    "        count_array[data] += 1\n",
    "    # print (count_array)\n",
    "    i = 0\n",
    "    for a in range(m):\n",
    "        for c in range(count_array[a]):\n",
    "            lst[i] = a\n",
    "            i += 1\n",
    "    for k in range(len(lst)):\n",
    "        print (\"%d \"%lst[k], end = \"\")"
   ]
  },
  {
   "cell_type": "markdown",
   "metadata": {},
   "source": [
    "### Implementing Quick Sort"
   ]
  },
  {
   "cell_type": "code",
   "execution_count": 12,
   "metadata": {},
   "outputs": [
    {
     "name": "stdout",
     "output_type": "stream",
     "text": [
      "Initial array content: [12, 6, 17, 5, 19, 2, 8]\n",
      "Right: [8, 6, 2, 5, 12, 19, 17] Loc: 4\n",
      "Left: [5, 6, 2, 8, 12, 19, 17] Loc: 3\n",
      "Right: [2, 5, 6, 8, 12, 19, 17] Loc: 1\n",
      "Left: [2, 5, 6, 8, 12, 17, 19] Loc: 6\n",
      "Sorted array content: [2, 5, 6, 8, 12, 17, 19]\n",
      "End of the program...\n"
     ]
    }
   ],
   "source": [
    "def partition(arr, beg, end):\n",
    "    left = beg; right = end; loc = beg\n",
    "    while (1):\n",
    "        while (arr[loc] <= arr[right] and loc != right):\n",
    "            right = right - 1\n",
    "        if (loc == right): print (\"Right:\", arr, \"Loc:\", loc); return loc\n",
    "        if (arr[loc] > arr[right]):\n",
    "            arr[loc], arr[right] = arr[right], arr[loc]\n",
    "            loc = right\n",
    "        while (arr[left] <= arr[loc] and left != loc):\n",
    "            left = left + 1\n",
    "        if (left == loc): print (\"Left:\", arr, \"Loc:\", loc); return loc\n",
    "        if (arr[left] > arr[loc]):\n",
    "            arr[left], arr[loc] = arr[loc], arr[left]\n",
    "            loc = left\n",
    "def quick_sort(array, start, end):\n",
    "    if (start >= end): return\n",
    "    p = partition(array, start, end)\n",
    "    quick_sort(array, start, p - 1)\n",
    "    quick_sort(array, p + 1, end)\n",
    "    \n",
    "# array = [44, 33, 22, 55, 77, 90, 40, 60]\n",
    "array = [12, 6, 17, 5, 19, 2, 8]\n",
    "print (\"Initial array content:\", array)\n",
    "quick_sort(array, 0, len(array) - 1)\n",
    "print (\"Sorted array content:\", array)\n",
    "print (\"End of the program...\")"
   ]
  },
  {
   "cell_type": "code",
   "execution_count": 18,
   "metadata": {},
   "outputs": [
    {
     "name": "stdout",
     "output_type": "stream",
     "text": [
      "listen ['e', 'i', 'l', 'n', 's', 't']\n",
      "silent ['e', 'i', 'l', 'n', 's', 't']\n",
      "True\n"
     ]
    }
   ],
   "source": [
    "str1 = \"listen\"\n",
    "str2 = \"silent\"\n",
    "print (str1, sorted(str1))\n",
    "print (str2, sorted(str2))\n",
    "print (sorted(str1) == sorted(str2))"
   ]
  },
  {
   "cell_type": "code",
   "execution_count": 23,
   "metadata": {},
   "outputs": [
    {
     "name": "stdout",
     "output_type": "stream",
     "text": [
      "{9: 2, 4: 2, 8: 1}\n",
      "{9: 1, 4: 1, 8: 1}\n",
      "[4, 9]\n",
      "{4: 1, 9: 3, 5: 1}\n",
      "{4: 0, 9: 1, 5: 1}\n",
      "[9, 4, 9]\n"
     ]
    }
   ],
   "source": [
    "class Solution(object):\n",
    "    def intersect(self, nums1, nums2):\n",
    "        \"\"\"\n",
    "        :type nums1: List[int]\n",
    "        :type nums2: List[int]\n",
    "        :rtype: List[int]\n",
    "        \"\"\"\n",
    "        m = {}\n",
    "        if (len(nums1) < len(nums2)):\n",
    "            nums1, nums2 = nums2, nums1\n",
    "        for item in nums1:\n",
    "            if (item not in m):\n",
    "                m[item] = 1\n",
    "            else:\n",
    "                m[item] += 1\n",
    "        print (m)\n",
    "        result = []\n",
    "        for item in nums2:\n",
    "            if (item in m and m[item]):\n",
    "                m[item] -= 1\n",
    "                result.append(item)\n",
    "        print (m)\n",
    "        return result\n",
    "        \n",
    "print (Solution().intersect([4,9,5], [9,4,9,8,4]))\n",
    "print (Solution().intersect([4,9,9,9,5], [9,4,9,8,4]))"
   ]
  },
  {
   "cell_type": "code",
   "execution_count": 31,
   "metadata": {},
   "outputs": [
    {
     "name": "stdout",
     "output_type": "stream",
     "text": [
      "25 0b11001 3\n",
      "[0, 1, 2, 4, 8, 3, 5, 6, 7]\n",
      "[0, 1, 2, 4, 8, 3, 5, 6, 7]\n"
     ]
    }
   ],
   "source": [
    "num = 25\n",
    "print (num, bin(num), bin(num).count('1'))\n",
    "nums = [0, 1, 2, 3, 4, 5, 6, 7, 8]\n",
    "print (sorted(nums, key = lambda x:bin(x).count('1')))\n",
    "print (sorted(nums, key = lambda x:[bin(x).count('1'), x]))"
   ]
  },
  {
   "cell_type": "markdown",
   "metadata": {},
   "source": [
    "### Radix Sort Implementation"
   ]
  },
  {
   "cell_type": "code",
   "execution_count": 33,
   "metadata": {},
   "outputs": [
    {
     "name": "stdout",
     "output_type": "stream",
     "text": [
      "Initial unsorted data: [348, 143, 361, 423, 538, 128, 321, 543, 366]\n",
      "1. count: [0, 2, 0, 3, 0, 0, 1, 0, 3, 0]\n",
      "2. count: [0, 2, 2, 5, 5, 5, 6, 6, 9, 9]\n",
      "3. count: [0, 0, 2, 2, 5, 5, 5, 6, 6, 9]\n",
      "1 [361, 321, 143, 423, 543, 366, 348, 538, 128]\n",
      "Output: [361, 321, 143, 423, 543, 366, 348, 538, 128] \n",
      "\n",
      "1. count: [0, 0, 3, 1, 3, 0, 2, 0, 0, 0]\n",
      "2. count: [0, 0, 3, 4, 7, 7, 9, 9, 9, 9]\n",
      "3. count: [0, 0, 0, 3, 4, 7, 7, 9, 9, 9]\n",
      "10 [321, 423, 128, 538, 143, 543, 348, 361, 366]\n",
      "Output: [321, 423, 128, 538, 143, 543, 348, 361, 366] \n",
      "\n",
      "1. count: [0, 2, 0, 4, 1, 2, 0, 0, 0, 0]\n",
      "2. count: [0, 2, 2, 6, 7, 9, 9, 9, 9, 9]\n",
      "3. count: [0, 0, 2, 2, 6, 7, 9, 9, 9, 9]\n",
      "100 [128, 143, 321, 348, 361, 366, 423, 538, 543]\n",
      "Output: [128, 143, 321, 348, 361, 366, 423, 538, 543] \n",
      "\n",
      "Final sorted data: [128, 143, 321, 348, 361, 366, 423, 538, 543]\n"
     ]
    }
   ],
   "source": [
    "# Using counting sor to sort the elements in the basis of significant places\n",
    "def countingSort(array, place):\n",
    "    size = len(array)\n",
    "    output = [0] * size\n",
    "    count = [0] * 10\n",
    "    # calculate the count of elements\n",
    "    for i in range(0, size):\n",
    "        index = array[i] // place\n",
    "        count[index % 10] += 1\n",
    "    print (\"1. count:\", count)\n",
    "    # calculate the cumulative count\n",
    "    for i in range(1, 10):\n",
    "        count[i] += count[i - 1]\n",
    "    print (\"2. count:\", count)\n",
    "    # place the elemnts in the dorted order\n",
    "    i = size - 1\n",
    "    while (i >= 0):\n",
    "        index = array[i] // place\n",
    "        output[count[index % 10] - 1] = array[i]\n",
    "        count[index % 10] -= 1\n",
    "        i -= 1\n",
    "    print (\"3. count:\", count)\n",
    "    for i in range(0, size):\n",
    "        array[i] = output[i]\n",
    "    print (place, array)\n",
    "    print (\"Output:\", output, \"\\n\")\n",
    "# main function to implement radix sort\n",
    "def radixSort(array):\n",
    "    # get the maximum element at first\n",
    "    max_element =max(array)\n",
    "    # apply counting sort to sort elements based on the place value\n",
    "    place = 1\n",
    "    while (max_element // place > 0):\n",
    "        countingSort(array, place)\n",
    "        place *= 10\n",
    "data = [348, 143, 361, 423, 538, 128, 321, 543, 366]\n",
    "print (\"Initial unsorted data:\", data)\n",
    "radixSort(data)\n",
    "print (\"Final sorted data:\", data)"
   ]
  },
  {
   "cell_type": "markdown",
   "metadata": {},
   "source": [
    "### Linear Search"
   ]
  },
  {
   "cell_type": "code",
   "execution_count": 35,
   "metadata": {},
   "outputs": [
    {
     "name": "stdin",
     "output_type": "stream",
     "text": [
      " 44 33 22 55 77 66 55\n"
     ]
    },
    {
     "name": "stdout",
     "output_type": "stream",
     "text": [
      "[44, 33, 22, 55, 77, 66, 55]\n"
     ]
    },
    {
     "name": "stdin",
     "output_type": "stream",
     "text": [
      " 100\n"
     ]
    },
    {
     "name": "stdout",
     "output_type": "stream",
     "text": [
      "-1\n"
     ]
    }
   ],
   "source": [
    "def linear_search(arr, target):\n",
    "    for i in range(0, len(arr)):\n",
    "        if (arr[i] == target):\n",
    "            return i\n",
    "    return -1\n",
    "\n",
    "# take input of integer list in a single line\n",
    "lst = [int(x) for x in input().split()]\n",
    "print (lst)\n",
    "item = int(input())\n",
    "print(linear_search(lst, item))"
   ]
  },
  {
   "cell_type": "code",
   "execution_count": 40,
   "metadata": {},
   "outputs": [
    {
     "name": "stdin",
     "output_type": "stream",
     "text": [
      " 11 22 33 44 55 66 77 88\n"
     ]
    },
    {
     "name": "stdout",
     "output_type": "stream",
     "text": [
      "[11, 22, 33, 44, 55, 66, 77, 88]\n"
     ]
    },
    {
     "name": "stdin",
     "output_type": "stream",
     "text": [
      " 100\n"
     ]
    },
    {
     "name": "stdout",
     "output_type": "stream",
     "text": [
      "Scanned all the data...\n",
      "-1\n"
     ]
    }
   ],
   "source": [
    "def linear_search_sorted(arr, target):\n",
    "    for i in range(0, len(arr)):\n",
    "        if (arr[i] == target): return i\n",
    "        elif (arr[i] > target): print(\"Scanned till index:\", i); return -1\n",
    "    print(\"Scanned all the data...\")\n",
    "    return -1\n",
    "\n",
    "# take input of integer list in a single line\n",
    "lst = [int(x) for x in input().split()]\n",
    "print (lst)\n",
    "item = int(input())\n",
    "print(linear_search_sorted(lst, item))"
   ]
  },
  {
   "cell_type": "markdown",
   "metadata": {},
   "source": [
    "### Binary Search"
   ]
  },
  {
   "cell_type": "code",
   "execution_count": 48,
   "metadata": {},
   "outputs": [
    {
     "name": "stdout",
     "output_type": "stream",
     "text": [
      "Left = 0, Mid = 4 and Right = 8...\n",
      "4\n",
      "Left = 0, Mid = 4 and Right = 8...\n",
      "Left = 0, Mid = 1 and Right = 3...\n",
      "Left = 0, Mid = 0 and Right = 0...\n",
      "0\n",
      "Left = 0, Mid = 4 and Right = 8...\n",
      "Left = 5, Mid = 6 and Right = 8...\n",
      "Left = 5, Mid = 5 and Right = 5...\n",
      "5\n",
      "Left = 0, Mid = 4 and Right = 8...\n",
      "Left = 5, Mid = 6 and Right = 8...\n",
      "Left = 7, Mid = 7 and Right = 8...\n",
      "Left = 8, Mid = 8 and Right = 8...\n",
      "-1\n",
      "Left = 0, Mid = 4 and Right = 8...\n",
      "Left = 0, Mid = 1 and Right = 3...\n",
      "Left = 0, Mid = 0 and Right = 0...\n",
      "-1\n"
     ]
    }
   ],
   "source": [
    "def binary_search(arr, target):\n",
    "    # first of all we will define the search space\n",
    "    n = len(arr)\n",
    "    left, right = 0, n - 1  # boundaries of the search space\n",
    "    while (left <= right):\n",
    "        mid = (left + right) // 2\n",
    "        print (f\"Left = {left}, Mid = {mid} and Right = {right}...\")\n",
    "        if (arr[mid] == target): return mid\n",
    "        elif (arr[mid] > target): right = mid - 1\n",
    "        else: left = mid + 1\n",
    "    return -1\n",
    "print (binary_search([11, 22, 33, 44, 55, 66, 77, 88, 99], 55))\n",
    "print (binary_search([11, 22, 33, 44, 55, 66, 77, 88, 99], 11))\n",
    "print (binary_search([11, 22, 33, 44, 55, 66, 77, 88, 99], 66))\n",
    "print (binary_search([11, 22, 33, 44, 55, 66, 77, 88, 99], 100))\n",
    "print (binary_search([11, 22, 33, 44, 55, 66, 77, 88, 99], 10))"
   ]
  },
  {
   "cell_type": "markdown",
   "metadata": {},
   "source": [
    "### LC 33. Search in Rotated Sorted Array"
   ]
  },
  {
   "cell_type": "code",
   "execution_count": 53,
   "metadata": {},
   "outputs": [
    {
     "name": "stdout",
     "output_type": "stream",
     "text": [
      "8\n",
      "-1\n"
     ]
    }
   ],
   "source": [
    "class Solution(object):\n",
    "    def search(self, nums, target):\n",
    "        \"\"\"\n",
    "        :type nums: List[int]\n",
    "        :type target: int\n",
    "        :rtype: int\n",
    "        \"\"\"\n",
    "        n = len(nums)\n",
    "        start, end = 0, n - 1\n",
    "        while (start <= end):\n",
    "            mid = (start + end) // 2\n",
    "            if (nums[mid] == target): return mid\n",
    "            elif (nums[mid] >= nums[start]):\n",
    "                # case 1\n",
    "                if (target >= nums[start] and target < nums[mid]):\n",
    "                    end = mid - 1\n",
    "                else:\n",
    "                    start = mid + 1\n",
    "            else:\n",
    "                # case 2\n",
    "                if (target <= nums[end] and target > nums[mid]):\n",
    "                    start = mid + 1\n",
    "                else:\n",
    "                    end = mid - 1\n",
    "        return -1\n",
    "print (Solution().search([5, 6, 7, 8, 9, 10, 1, 2, 3], 3))\n",
    "print (Solution().search([5, 6, 7, 8, 9, 10, 1, 2, 3], 13))"
   ]
  },
  {
   "cell_type": "code",
   "execution_count": 4,
   "metadata": {},
   "outputs": [
    {
     "name": "stdout",
     "output_type": "stream",
     "text": [
      "1 9 17 81 16\n",
      "1 5 9 25 16\n",
      "1 3 5 9 16\n",
      "4 4 5 16 16\n",
      "4\n",
      "1 14 27 196 26\n",
      "1 7 14 49 26\n",
      "1 4 7 16 26\n",
      "5 6 7 36 26\n",
      "5 5 6 25 26\n",
      "5\n"
     ]
    }
   ],
   "source": [
    "# lC 69: Sqrt(x)\n",
    "class Solution(object):\n",
    "    def mySqrt(self, x):\n",
    "        \"\"\"\n",
    "        :type x: int\n",
    "        :rtype: int\n",
    "        \"\"\"\n",
    "        low = 1\n",
    "        high = x + 1\n",
    "        ans = 0\n",
    "        while (low < high):\n",
    "            mid = (low + high) // 2\n",
    "            print (low, mid, high, mid * mid, x)\n",
    "            if (mid * mid <= x):\n",
    "                low = mid + 1\n",
    "                ans = mid\n",
    "            else:\n",
    "                high = mid\n",
    "        return ans\n",
    "print (Solution().mySqrt(16))\n",
    "print (Solution().mySqrt(26))"
   ]
  },
  {
   "cell_type": "code",
   "execution_count": 9,
   "metadata": {},
   "outputs": [
    {
     "name": "stdout",
     "output_type": "stream",
     "text": [
      "0 0 a a\n",
      "1 1 h b\n",
      "2 1 b b\n",
      "3 2 g c\n",
      "4 2 d c\n",
      "5 2 c c\n",
      "True\n"
     ]
    }
   ],
   "source": [
    "# LC 392: Is Subsequence\n",
    "class Solution(object):\n",
    "    def isSubsequence(self, s, t):\n",
    "        \"\"\"\n",
    "        :type s: str\n",
    "        :type t: str\n",
    "        :rtype: bool\n",
    "        \"\"\"\n",
    "        if (s == t): return True\n",
    "        if (len(s) == 0): return True\n",
    "        m = len(s)\n",
    "        n = len(t)\n",
    "        j = 0                  # j is the sub-string index value\n",
    "        for i in range(n):     # i is the main string index value\n",
    "            print (i, j, t[i], s[j])\n",
    "            if (t[i] == s[j]): j += 1\n",
    "            if (j == m): return True\n",
    "            \n",
    "        return False\n",
    "print (Solution().isSubsequence(\"abc\", \"ahbgdc\"))"
   ]
  },
  {
   "cell_type": "code",
   "execution_count": 12,
   "metadata": {},
   "outputs": [
    {
     "name": "stdout",
     "output_type": "stream",
     "text": [
      "2\n",
      "5\n",
      "5\n"
     ]
    }
   ],
   "source": [
    "class Solution(object):\n",
    "    def arrangeCoins(self, n):\n",
    "        \"\"\"\n",
    "        :type n: int\n",
    "        :rtype: int\n",
    "        \"\"\"\n",
    "        ret = 0\n",
    "        low = 0\n",
    "        high = n\n",
    "        while (low <= high):\n",
    "            mid = low + (high - low) // 2\n",
    "            if (mid * (mid + 1) // 2 <= n):\n",
    "                ret = mid\n",
    "                low = mid + 1\n",
    "            else:\n",
    "                high = mid - 1\n",
    "        return ret\n",
    "print (Solution().arrangeCoins(5))\n",
    "print (Solution().arrangeCoins(15))\n",
    "print (Solution().arrangeCoins(18))"
   ]
  },
  {
   "cell_type": "code",
   "execution_count": 14,
   "metadata": {},
   "outputs": [
    {
     "name": "stdout",
     "output_type": "stream",
     "text": [
      "0 5 10 78 67\n",
      "0 2 5 100 99\n",
      "0 1 2 69 100\n",
      "2\n"
     ]
    }
   ],
   "source": [
    "class Solution(object):\n",
    "    def peakIndexInMountainArray(self, arr):\n",
    "        \"\"\"\n",
    "        :type arr: List[int]\n",
    "        :rtype: int\n",
    "        \"\"\"\n",
    "        low = 0\n",
    "        high = len(arr)\n",
    "        while (low < high):\n",
    "            mid = low + (high - low) // 2\n",
    "            print (low, mid, high, arr[mid], arr[mid + 1])\n",
    "            if (arr[mid] < arr[mid + 1]): low = mid + 1\n",
    "            else: high = mid\n",
    "        return low\n",
    "print (Solution().peakIndexInMountainArray([24,69,100,99,79,78,67,36,26,19]))"
   ]
  },
  {
   "cell_type": "code",
   "execution_count": 20,
   "metadata": {},
   "outputs": [
    {
     "name": "stdout",
     "output_type": "stream",
     "text": [
      "[1, 3]\n"
     ]
    }
   ],
   "source": [
    "# LC 167: Two Sum II - Input array is sorted\n",
    "class Solution(object):\n",
    "    def twoSum(self, numbers, target):\n",
    "        \"\"\"\n",
    "        :type numbers: List[int]\n",
    "        :type target: int\n",
    "        :rtype: List[int]\n",
    "        \"\"\"\n",
    "        n = len(numbers)\n",
    "        i = 0\n",
    "        j = (n - 1)\n",
    "        while (i < j):\n",
    "            x = numbers[i] + numbers[j]\n",
    "            if (x > target):\n",
    "                j -= 1\n",
    "            elif (x < target):\n",
    "                i += 1\n",
    "            else:\n",
    "                return [ i + 1, j + 1]\n",
    "print (Solution().twoSum([2,7,11,15], 13))"
   ]
  },
  {
   "cell_type": "code",
   "execution_count": 11,
   "metadata": {},
   "outputs": [
    {
     "name": "stdout",
     "output_type": "stream",
     "text": [
      "10\n",
      "300\n",
      "13\n",
      "10\n"
     ]
    }
   ],
   "source": [
    "class Solution(object):\n",
    "    def nthUglyNumber(self, n, a, b, c):\n",
    "        \"\"\"\n",
    "        :type n: int\n",
    "        :type a: int\n",
    "        :type b: int\n",
    "        :type c: int\n",
    "        :rtype: int\n",
    "        \"\"\"\n",
    "        low = 1\n",
    "        high = 10 ** 10\n",
    "        while (low < high):\n",
    "            mid = (low + (high - low) // 2)\n",
    "            x = self.calculate(mid, a, b, c)\n",
    "            if (x >= n):\n",
    "                high = mid\n",
    "            else:\n",
    "                low = mid + 1\n",
    "        return high\n",
    "    def calculate(self, x, a, b, c):\n",
    "        return (x//a) + (x//b) + (x//c) - (x//self.lcm(a,b)) - (x//self.lcm(b,c)) - (x//self.lcm(a,c)) + (x//self.lcm(a,self.lcm(b,c)))\n",
    "    def gcd(self, a, b):\n",
    "        return a if (b == 0) else self.gcd(b, a % b)\n",
    "    def lcm(self, a, b):\n",
    "        return (a * b)//self.gcd(a, b)\n",
    "    \n",
    "print (Solution().gcd(100, 30))\n",
    "print (Solution().lcm(100, 30))\n",
    "print (Solution().calculate(20, 2, 3, 4))   # 2, 3, 4, 6, 8, 9, 10, 12, 14, 15, 16, 18, 20\n",
    "print (Solution().nthUglyNumber(n = 5, a = 2, b = 11, c = 13))"
   ]
  },
  {
   "cell_type": "code",
   "execution_count": 13,
   "metadata": {},
   "outputs": [
    {
     "name": "stdout",
     "output_type": "stream",
     "text": [
      "{-1: 1, 0: 2, 1: 1}\n",
      "2\n"
     ]
    }
   ],
   "source": [
    "class Solution(object):\n",
    "    def fourSumCount(self, A, B, C, D):\n",
    "        \"\"\"\n",
    "        :type A: List[int]\n",
    "        :type B: List[int]\n",
    "        :type C: List[int]\n",
    "        :type D: List[int]\n",
    "        :rtype: int\n",
    "        \"\"\"\n",
    "        a_add_b = {}\n",
    "        for a in A:\n",
    "            for b in B:\n",
    "                a_add_b[a + b] = a_add_b.get(a + b, 0) + 1\n",
    "        print (a_add_b)\n",
    "        cnt = 0\n",
    "        for c in C:\n",
    "            for d in D:\n",
    "                cnt += a_add_b.get(-(c+d), 0)\n",
    "        return cnt\n",
    "        \n",
    "print (Solution().fourSumCount(A = [ 1, 2], B = [-2,-1], C = [-1, 2], D = [ 0, 2]))"
   ]
  },
  {
   "cell_type": "code",
   "execution_count": 18,
   "metadata": {},
   "outputs": [
    {
     "name": "stdin",
     "output_type": "stream",
     "text": [
      "Enter the item: 100\n"
     ]
    },
    {
     "name": "stdout",
     "output_type": "stream",
     "text": [
      "arr: [11, 22, 33, 44, 55, 66, 77, 88]\n",
      "Using bisect left: 8\n",
      "Using bisect right: 8\n",
      "arr: [11, 22, 33, 44, 55, 66, 77, 88]\n"
     ]
    }
   ],
   "source": [
    "# bisect in python\n",
    "import bisect\n",
    "arr = [11, 22, 33, 44, 55, 66, 77, 88]\n",
    "num = int(input(\"Enter the item:\"))\n",
    "print (\"arr:\", arr)\n",
    "print (\"Using bisect left:\", bisect.bisect_left(arr, num))\n",
    "print (\"Using bisect right:\", bisect.bisect_right(arr, num))\n",
    "print (\"arr:\", arr)"
   ]
  },
  {
   "cell_type": "code",
   "execution_count": 23,
   "metadata": {},
   "outputs": [
    {
     "name": "stdout",
     "output_type": "stream",
     "text": [
      "[2, 4, 1, 2, 5]\n",
      "[2, 0, 3]\n"
     ]
    }
   ],
   "source": [
    "class Solution(object):\n",
    "    def kWeakestRows(self, mat, k):\n",
    "        \"\"\"\n",
    "        :type mat: List[List[int]]\n",
    "        :type k: int\n",
    "        :rtype: List[int]\n",
    "        \"\"\"\n",
    "        arr = []\n",
    "        ans = []\n",
    "        for mat_row in mat:\n",
    "            arr.append(sum(mat_row))\n",
    "        print (arr)\n",
    "        for i in range(len(mat[0]) + 1):\n",
    "            if (len(ans) == k): break\n",
    "            for j in range(len(arr)):\n",
    "                if (arr[j] == i): ans.append(j)\n",
    "                if (len(ans) == k): break\n",
    "        return (ans)\n",
    "        \n",
    "print (Solution().kWeakestRows(mat = [[1,1,0,0,0],[1,1,1,1,0],[1,0,0,0,0],[1,1,0,0,0],[1,1,1,1,1]], k = 3))"
   ]
  },
  {
   "cell_type": "code",
   "execution_count": 6,
   "metadata": {},
   "outputs": [
    {
     "name": "stdout",
     "output_type": "stream",
     "text": [
      "5 -5 3\n",
      "-0.375 -0.375 0.375\n",
      "-1 -1 0\n"
     ]
    }
   ],
   "source": [
    "print ((-3)%8, 3%(-8), 3%(8)) # Output: 5 -5 3\n",
    "print ((-3)/8, 3/(-8), 3/(8)) # Output: -0.375 -0.375 0.375\n",
    "print ((-3)//8, 3//(-8), 3//(8)) # Output: -1 -1 0"
   ]
  },
  {
   "cell_type": "code",
   "execution_count": 11,
   "metadata": {},
   "outputs": [
    {
     "name": "stdout",
     "output_type": "stream",
     "text": [
      "True\n"
     ]
    }
   ],
   "source": [
    "i = 10\n",
    "i = not (i>14)\n",
    "print(i)"
   ]
  },
  {
   "cell_type": "code",
   "execution_count": 15,
   "metadata": {},
   "outputs": [
    {
     "name": "stdout",
     "output_type": "stream",
     "text": [
      "1 0.8999999999999995\n"
     ]
    }
   ],
   "source": [
    "print (10 % 3, 10.5 % 3.2)"
   ]
  },
  {
   "cell_type": "code",
   "execution_count": 16,
   "metadata": {},
   "outputs": [
    {
     "name": "stdout",
     "output_type": "stream",
     "text": [
      "42 -43\n"
     ]
    }
   ],
   "source": [
    "x = 42\n",
    "print (x, ~x)"
   ]
  },
  {
   "cell_type": "code",
   "execution_count": 22,
   "metadata": {},
   "outputs": [
    {
     "name": "stdout",
     "output_type": "stream",
     "text": [
      "-0x1\n",
      "-0x8\n"
     ]
    }
   ],
   "source": [
    "print (hex(-1 >> 1))\n",
    "print (hex(-1<<3))"
   ]
  },
  {
   "cell_type": "code",
   "execution_count": 21,
   "metadata": {},
   "outputs": [
    {
     "name": "stdout",
     "output_type": "stream",
     "text": [
      "False\n",
      "False\n"
     ]
    }
   ],
   "source": [
    "a =-1\n",
    "b = 1\n",
    "print (not(a and b))\n",
    "print (not(a or b))\n"
   ]
  },
  {
   "cell_type": "code",
   "execution_count": 1,
   "metadata": {},
   "outputs": [
    {
     "name": "stdout",
     "output_type": "stream",
     "text": [
      "8\n"
     ]
    }
   ],
   "source": [
    "x=0\n",
    "y=1\n",
    "x=y=z=8\n",
    "print(x)"
   ]
  },
  {
   "cell_type": "code",
   "execution_count": 5,
   "metadata": {},
   "outputs": [
    {
     "name": "stdout",
     "output_type": "stream",
     "text": [
      "0\n"
     ]
    }
   ],
   "source": [
    "# What will be the value of cnt in the following snippet?\n",
    "i = -5\n",
    "cnt = 0\n",
    "while i<=5:\n",
    "    if(i>=0):\n",
    "        break\n",
    "    else:\n",
    "        i = i+1\n",
    "    continue\n",
    "    cnt = cnt+1\n",
    "print (cnt)"
   ]
  },
  {
   "cell_type": "code",
   "execution_count": 10,
   "metadata": {},
   "outputs": [
    {
     "name": "stdout",
     "output_type": "stream",
     "text": [
      "5\n"
     ]
    }
   ],
   "source": [
    "cnt = 0\n",
    "for i in range(1, 6):\n",
    "\t\tfor j in range(1, 5):\n",
    "\t\t\tif(i>1):\n",
    "\t\t\t\tbreak\n",
    "\t\tcnt=cnt+1\n",
    "print (cnt)"
   ]
  },
  {
   "cell_type": "code",
   "execution_count": 17,
   "metadata": {},
   "outputs": [
    {
     "name": "stdout",
     "output_type": "stream",
     "text": [
      "1 1 1\n",
      "1 2 2\n",
      "1 3 3\n",
      "1 4 4\n",
      "2 1 5\n",
      "2 2 6\n",
      "2 3 7\n",
      "2 4 8\n",
      "8\n"
     ]
    }
   ],
   "source": [
    "cnt = 0\n",
    "for i in range(1,6):\n",
    "        for j in range(1,5):\n",
    "            if(i>2):\n",
    "                continue\n",
    "            cnt=cnt+1\n",
    "            print (i, j, cnt)\n",
    "print (cnt)"
   ]
  },
  {
   "cell_type": "code",
   "execution_count": 16,
   "metadata": {},
   "outputs": [
    {
     "name": "stdout",
     "output_type": "stream",
     "text": [
      "7\n"
     ]
    }
   ],
   "source": [
    "i=720; j=2\n",
    "while i%j==0:\n",
    "    i=i/j\n",
    "    j=j+1\n",
    "print (j)"
   ]
  },
  {
   "cell_type": "code",
   "execution_count": 24,
   "metadata": {},
   "outputs": [
    {
     "name": "stdout",
     "output_type": "stream",
     "text": [
      "11  12  13  14  15  \n",
      "21  22  23  24  25  \n",
      "31  32  33  34  35  \n",
      "41  42  43  44  45  \n",
      "51  52  53  54  55  \n",
      "\n",
      "\n",
      "11  12  13  14  15  \n",
      "21  22  23  24  25  \n",
      "31  32  33  34  35  \n",
      "41  42  43  44  45  \n",
      "51  52  53  54  55  \n"
     ]
    }
   ],
   "source": [
    "C = 100\n",
    "A = [[11,12,13,14,15],[21,22,23,24,25],[31,32,33,34,35],[41,42,43,44,45],[51,52,53,54,55]]\n",
    "n = 5\n",
    "for i in range(n):\n",
    "    for j in range(n):\n",
    "        print(A[i][j], \" \", end = \"\")\n",
    "    print (\"\")\n",
    "for i in range(n):\n",
    "    for j in range(n):\n",
    "        Temp = A[i][j] + C\n",
    "        A[i][j] = A[j][i]\n",
    "        A[j][i] = Temp - C\n",
    "print (\"\\n\")\n",
    "for i in range(n):\n",
    "    for j in range(n):\n",
    "        print(A[i][j], \" \", end = \"\")\n",
    "    print (\"\")"
   ]
  },
  {
   "cell_type": "code",
   "execution_count": 26,
   "metadata": {},
   "outputs": [
    {
     "name": "stdin",
     "output_type": "stream",
     "text": [
      "Enter dimension: 5\n"
     ]
    },
    {
     "name": "stdout",
     "output_type": "stream",
     "text": [
      "5  5  5  5  5  5  5  5  5  \n",
      "5  4  4  4  4  4  4  4  4  \n",
      "5  4  3  3  3  3  3  3  4  \n",
      "5  4  3  2  2  2  2  3  4  \n",
      "5  4  3  2  1  1  2  3  4  \n",
      "5  4  3  2  2  2  2  3  4  \n",
      "5  4  3  3  3  3  3  3  4  \n",
      "5  4  4  4  4  4  4  4  4  \n",
      "5  5  5  5  5  5  5  5  5  \n"
     ]
    }
   ],
   "source": [
    "n = int(input(\"Enter dimension:\"))\n",
    "x = 2 * n - 1\n",
    "m = (x + 1) // 2\n",
    "for row in range(1, x + 1):\n",
    "    term = n\n",
    "    if (row > m): LL = x - row + 1; UL = row\n",
    "    else: LL = row; UL = x - row + 1\n",
    "    for col in range(1, x + 1):\n",
    "        print (term, \" \", end = \"\")\n",
    "        if (col < LL): term -= 1\n",
    "        elif (col > UL): term += 1\n",
    "    print (\"\")"
   ]
  },
  {
   "cell_type": "code",
   "execution_count": null,
   "metadata": {},
   "outputs": [],
   "source": []
  },
  {
   "cell_type": "code",
   "execution_count": null,
   "metadata": {},
   "outputs": [],
   "source": []
  }
 ],
 "metadata": {
  "kernelspec": {
   "display_name": "Python 3",
   "language": "python",
   "name": "python3"
  },
  "language_info": {
   "codemirror_mode": {
    "name": "ipython",
    "version": 3
   },
   "file_extension": ".py",
   "mimetype": "text/x-python",
   "name": "python",
   "nbconvert_exporter": "python",
   "pygments_lexer": "ipython3",
   "version": "3.7.0"
  }
 },
 "nbformat": 4,
 "nbformat_minor": 2
}
