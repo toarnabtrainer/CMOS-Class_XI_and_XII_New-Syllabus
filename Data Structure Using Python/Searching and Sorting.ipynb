{
 "cells": [
  {
   "cell_type": "code",
   "execution_count": null,
   "metadata": {},
   "outputs": [],
   "source": []
  },
  {
   "cell_type": "markdown",
   "metadata": {},
   "source": [
    "### Bubble Sort implementation"
   ]
  },
  {
   "cell_type": "code",
   "execution_count": 50,
   "metadata": {},
   "outputs": [
    {
     "name": "stdout",
     "output_type": "stream",
     "text": [
      "Initially: [88, 77, 66, 11, 22, 33, 44]\n",
      "0 [77, 66, 11, 22, 33, 44, 88]\n",
      "1 [66, 11, 22, 33, 44, 77, 88]\n",
      "2 [11, 22, 33, 44, 66, 77, 88]\n",
      "3 [11, 22, 33, 44, 66, 77, 88]\n",
      "4 [11, 22, 33, 44, 66, 77, 88]\n",
      "5 [11, 22, 33, 44, 66, 77, 88]\n",
      "The sorted array content is:\n",
      "[11, 22, 33, 44, 66, 77, 88]\n"
     ]
    }
   ],
   "source": [
    "def bubbleSort(arr):\n",
    "    n = len(arr)\n",
    "    for i in range(n - 1):\n",
    "        for j in range(0, n - i - 1):\n",
    "            if (arr[j] > arr[j + 1]):\n",
    "                arr[j], arr[j + 1] = arr[j + 1], arr[j]\n",
    "        print (i, arr)\n",
    "arr = [88, 77, 66, 11, 22, 33, 44]\n",
    "print(\"Initially:\", arr)\n",
    "bubbleSort(arr)\n",
    "print(\"The sorted array content is:\")\n",
    "print (arr)"
   ]
  },
  {
   "cell_type": "code",
   "execution_count": 6,
   "metadata": {},
   "outputs": [
    {
     "name": "stdout",
     "output_type": "stream",
     "text": [
      "Unsorted Array: \n",
      "10 80 30 90 40 50 70 \n",
      "10 30 40 50 70 90 80 \n",
      "10 30 40 50 70 90 80 \n",
      "10 30 40 50 70 90 80 \n",
      "10 30 40 50 70 90 80 \n",
      "10 30 40 50 70 80 90 \n",
      "Sorted array in ascending order: \n",
      "10 30 40 50 70 80 90 \n"
     ]
    }
   ],
   "source": [
    "# Quick sort in Python\n",
    "# function to swap elements\n",
    "def swap(list1, pos1, pos2):\n",
    "    list1[pos1], list1[pos2] = list1[pos2], list1[pos1]\n",
    "\n",
    "# function to print the array\n",
    "def printArray(list1):\n",
    "    for i in range(len(list1)):\n",
    "        print (list1[i], end = \" \")\n",
    "    print (\"\")\n",
    "\n",
    "def partition(list1, low, high):\n",
    "    # select the rightmost element as pivot\n",
    "    pivot = list1[high]\n",
    "    # pointer for greater element\n",
    "    i = (low - 1)\n",
    "    # traverse each element of the array\n",
    "    # compare them with the pivot\n",
    "    for j in range(low, high):\n",
    "        if (list1[j] <= pivot):\n",
    "            # if element smaller than pivot is found\n",
    "            # swap it with the greater element pointed by i\n",
    "            i += 1\n",
    "            # swap element at i with element at j\n",
    "            swap(list1, i, j)\n",
    "  \n",
    "    # swap pivot with the greater element at i\n",
    "    swap(list1, i + 1, high)\n",
    "    # return the partition point\n",
    "    return (i + 1)\n",
    "\n",
    "def quickSort(list1, low, high):\n",
    "    if (low < high):\n",
    "        # find the pivot element such that\n",
    "        # elements smaller than pivot are on left of pivot\n",
    "        # elements greater than pivot are on righ of pivot\n",
    "        pi = partition(list1, low, high)\n",
    "        printArray(list1)\n",
    "\n",
    "        # recursive call on the left of pivot\n",
    "        quickSort(list1, low, pi - 1)\n",
    "\n",
    "        # recursive call on the right of pivot\n",
    "        quickSort(list1, pi + 1, high)\n",
    "\n",
    "# list1 = [8, 7, 6, 1, 0, 9, 2]\n",
    "list1 = [10, 80, 30, 90, 40, 50, 70]\n",
    "print(\"Unsorted Array: \")\n",
    "printArray(list1)\n",
    "# perform quicksort on data\n",
    "quickSort(list1, 0, len(list1) - 1)\n",
    "print (\"Sorted array in ascending order: \")\n",
    "printArray(list1)\n",
    "\n",
    "# 44    33    11    55    77    90    40    60    99    22    88    66"
   ]
  },
  {
   "cell_type": "code",
   "execution_count": 13,
   "metadata": {},
   "outputs": [
    {
     "name": "stdout",
     "output_type": "stream",
     "text": [
      "Unsorted Array is\n",
      "[12, 21, 31, 41, 71, 16, 27, 35, 71, 89, 99, 45]\n",
      "Sorted Array is\n",
      "[12, 16, 21, 27, 31, 35, 41, 45, 71, 71, 89, 99]\n"
     ]
    }
   ],
   "source": [
    "# Python3 program to sort an array using bucket sort\n",
    "def insertionSort(b):\n",
    "    for i in range(1, len(b)):\n",
    "        up = b[i]\n",
    "        j = i - 1\n",
    "        while j >= 0 and b[j] > up:\n",
    "            b[j + 1] = b[j]\n",
    "            j -= 1\n",
    "        b[j + 1] = up\n",
    "    return b\n",
    "\n",
    "def bucketSort(x):\n",
    "    arr = []\n",
    "    slot_num = 10 # 10 means 10 slots, each\n",
    "                # slot's size is 10\n",
    "    for i in range(slot_num):\n",
    "        arr.append([])\n",
    "\n",
    "    # Put array elements in different buckets\n",
    "    for item in x:\n",
    "        index_b = item // slot_num\n",
    "        arr[index_b].append(item)\n",
    "    \n",
    "    # Sort individual buckets\n",
    "    for i in range(slot_num):\n",
    "        arr[i] = insertionSort(arr[i])\n",
    "\n",
    "    # concatenate the result\n",
    "    k = 0\n",
    "    for i in range(slot_num):\n",
    "        for j in range(len(arr[i])):\n",
    "            x[k] = arr[i][j]\n",
    "            k += 1\n",
    "\n",
    "x = [12, 21, 31, 41, 71, 16, 27, 35, 71, 89, 99, 45]\n",
    "print(\"Unsorted Array is\")\n",
    "print(x)\n",
    "bucketSort(x)\n",
    "print(\"Sorted Array is\")\n",
    "print(x)"
   ]
  },
  {
   "cell_type": "code",
   "execution_count": null,
   "metadata": {},
   "outputs": [],
   "source": []
  }
 ],
 "metadata": {
  "kernelspec": {
   "display_name": "Python 3 (ipykernel)",
   "language": "python",
   "name": "python3"
  },
  "language_info": {
   "codemirror_mode": {
    "name": "ipython",
    "version": 3
   },
   "file_extension": ".py",
   "mimetype": "text/x-python",
   "name": "python",
   "nbconvert_exporter": "python",
   "pygments_lexer": "ipython3",
   "version": "3.10.9"
  }
 },
 "nbformat": 4,
 "nbformat_minor": 4
}
