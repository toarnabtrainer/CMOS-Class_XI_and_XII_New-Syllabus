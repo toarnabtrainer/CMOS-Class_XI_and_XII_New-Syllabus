{
 "cells": [
  {
   "cell_type": "markdown",
   "id": "fcb0d3a2-a318-4b9c-9cc3-49a76d7aa005",
   "metadata": {},
   "source": [
    "## Python map() function"
   ]
  },
  {
   "cell_type": "markdown",
   "id": "518eb854-2158-484e-8e7f-98c60fc27ae6",
   "metadata": {},
   "source": [
    "<b>The map() function executes a specified function for each item in an iterable. The item is sent to the function as a parameter.</b><br>\n",
    "<p><i><b>Syntax:</b></i> map(function, iterables)<br>\n",
    "<b>function:</b> Required. The function to execute for each item<br>\n",
    "<b>iterable:</b> Required. A sequence, collection or an iterator object. You can send as many iterables as you like, just make sure the function has one parameter for each iterable.</p>"
   ]
  },
  {
   "cell_type": "code",
   "execution_count": 2,
   "id": "c591b988-a890-4b2e-9692-f5e5722c4cff",
   "metadata": {},
   "outputs": [
    {
     "name": "stdout",
     "output_type": "stream",
     "text": [
      "<map object at 0x00000238DE80C820>\n",
      "[6, 7, 8]\n"
     ]
    }
   ],
   "source": [
    "def myfunc(mytext):\n",
    "    return len(mytext)\n",
    "result = map(myfunc, ['Sunday', 'Tuesday', 'Thursday'])\n",
    "print (result)\n",
    "list1 = list(map(myfunc, ('Sunday', 'Tuesday', 'Thursday')))\n",
    "print (list1)"
   ]
  },
  {
   "cell_type": "code",
   "execution_count": 6,
   "id": "9290f3b0-ed58-4714-ad6d-eac77cdab623",
   "metadata": {},
   "outputs": [
    {
     "name": "stdout",
     "output_type": "stream",
     "text": [
      "['aaAA', 'bbBB', 'ccCC']\n",
      "[111, 222, 333]\n"
     ]
    }
   ],
   "source": [
    "def myfunc(a, b):\n",
    "    return a + b\n",
    "list1 = list(map(myfunc, ('aa', 'bb', 'cc'), ('AA', 'BB', 'CC', 'DD')))\n",
    "print (list1)\n",
    "list1 = list(map(myfunc, (11, 22, 33), (100, 200, 300)))\n",
    "print (list1)"
   ]
  },
  {
   "cell_type": "markdown",
   "id": "2afd0196-45e7-401a-9e15-5e9ac7b6a927",
   "metadata": {},
   "source": [
    "## Python filter() function"
   ]
  },
  {
   "cell_type": "markdown",
   "id": "98ef6117-a5c1-49f6-9d89-dc56f4519fd1",
   "metadata": {},
   "source": [
    "<b>The filter() function returns an iterator were the items are filtered through a function to test if the item is accepted or not.</b><br>\n",
    "<p><i><b>Syntax:</b></i> filter(function, iterable)<br>\n",
    "<b>function:</b> A function to be run for each item in the iterable<br>\n",
    "<b>iterable:</b> The iterable to be filtered</p>"
   ]
  },
  {
   "cell_type": "code",
   "execution_count": 8,
   "id": "da06a40f-f055-4aa3-92ab-d19ed13ceaf0",
   "metadata": {},
   "outputs": [
    {
     "name": "stdout",
     "output_type": "stream",
     "text": [
      "<filter object at 0x00000238DE80F310>\n",
      "[18, 24, 32]\n"
     ]
    }
   ],
   "source": [
    "ages = [5, 12, 17, 18, 24, 32]\n",
    "def myFunc(x):\n",
    "    if x < 18: return False\n",
    "    else: return True\n",
    "    \n",
    "print (filter(myFunc, ages))\n",
    "adults = list(filter(myFunc, ages))\n",
    "print (adults)"
   ]
  },
  {
   "cell_type": "markdown",
   "id": "d772909d-aa32-4a8c-a620-6e8d572ac20b",
   "metadata": {},
   "source": [
    "## Python reduce() function"
   ]
  },
  {
   "cell_type": "markdown",
   "id": "364b6337-83a0-44cb-855f-7a5776d12cd7",
   "metadata": {},
   "source": [
    "<b>The reduce() function applies a function of two arguments cumulatively to the elements of an iterable, optionally starting with an initial argument.</b><br>\n",
    "<p><i><b>Syntax:</b></i> reduce(func, iterable[, initial])<br>\n",
    "<i>Where func is the function on which each element in the iterable gets cumulatively applied to, and initial is the optional value that gets placed before the elements of the iterable in the calculation, and serves as a default when the iterable is empty</i></p>"
   ]
  },
  {
   "cell_type": "code",
   "execution_count": 11,
   "id": "3904c957-6cf9-4dc6-b823-18348793c9e8",
   "metadata": {},
   "outputs": [
    {
     "name": "stdout",
     "output_type": "stream",
     "text": [
      "3 4\n",
      "7 6\n",
      "13 9\n",
      "22 34\n",
      "56 12\n",
      "68\n",
      "\n",
      "1000 3\n",
      "1003 4\n",
      "1007 6\n",
      "1013 9\n",
      "1022 34\n",
      "1056 12\n",
      "1068\n"
     ]
    }
   ],
   "source": [
    "from functools import reduce\n",
    "numbers = [3, 4, 6, 9, 34, 12]\n",
    "def custom_sum(first, second):\n",
    "    print (first, second)\n",
    "    return first + second\n",
    "\n",
    "result = reduce(custom_sum, numbers)\n",
    "print(result)\n",
    "print ()\n",
    "result = reduce(custom_sum, numbers, 1000)\n",
    "print(result)"
   ]
  },
  {
   "cell_type": "code",
   "execution_count": 13,
   "id": "8ef791ff-c049-4c44-9025-970b1df8d73b",
   "metadata": {},
   "outputs": [
    {
     "name": "stdout",
     "output_type": "stream",
     "text": [
      "1068\n"
     ]
    }
   ],
   "source": [
    "from functools import reduce\n",
    "numbers = [3, 4, 6, 9, 34, 12]\n",
    "def custom_sum(first, second):\n",
    "    return first + second\n",
    "\n",
    "# uses 10 as the first argument to custom_sum\n",
    "result = reduce(custom_sum, numbers, 1000)\n",
    "print(result)"
   ]
  },
  {
   "cell_type": "markdown",
   "id": "d3df6aad-35c0-45d1-b73e-702e771eecf8",
   "metadata": {},
   "source": [
    "## Python zip() function"
   ]
  },
  {
   "cell_type": "code",
   "execution_count": 20,
   "id": "2eccdc7b-4529-4f49-be82-d1fed4067258",
   "metadata": {},
   "outputs": [
    {
     "name": "stdout",
     "output_type": "stream",
     "text": [
      "<zip object at 0x00000238DDD97300>\n",
      "[('Apple', 80), ('Banana', 40), ('Orange', 70)]\n",
      "(('Apple', 80), ('Banana', 40), ('Orange', 70))\n",
      "{'Apple': 80, 'Banana': 40, 'Orange': 70}\n"
     ]
    }
   ],
   "source": [
    "fruit = (\"Apple\", \"Banana\", \"Orange\", 'Pineapple')\n",
    "price = [80, 40, 70]\n",
    "\n",
    "print (zip(fruit, price))\n",
    "print (list(zip(fruit, price)))\n",
    "print (tuple(zip(fruit, price)))\n",
    "print (dict(zip(fruit, price)))"
   ]
  },
  {
   "cell_type": "markdown",
   "id": "0769a235-1154-4067-86fc-f6be389bc0d0",
   "metadata": {},
   "source": [
    "## Cartesian product of list elements"
   ]
  },
  {
   "cell_type": "code",
   "execution_count": 22,
   "id": "6a8da9ab-681e-4f02-b8c7-d8de9d6a9dd2",
   "metadata": {},
   "outputs": [
    {
     "name": "stdout",
     "output_type": "stream",
     "text": [
      "<itertools.product object at 0x00000238DF9CBF40>\n",
      "[(1, 5), (1, 6), (1, 7), (2, 5), (2, 6), (2, 7), (3, 5), (3, 6), (3, 7)]\n",
      "((1, 5), (1, 6), (1, 7), (2, 5), (2, 6), (2, 7), (3, 5), (3, 6), (3, 7))\n"
     ]
    }
   ],
   "source": [
    "from itertools import product\n",
    "list1 = [1, 2, 3]\n",
    "list2 = [5, 6, 7]\n",
    "print (product(list1, list2))\n",
    "print (list(product(list1, list2)))\n",
    "print (tuple(product(list1, list2)))"
   ]
  },
  {
   "cell_type": "code",
   "execution_count": 24,
   "id": "f222bdb9-31dc-4bd6-afc5-1ceff3928565",
   "metadata": {},
   "outputs": [
    {
     "name": "stdout",
     "output_type": "stream",
     "text": [
      "<itertools.product object at 0x00000238DF8E6980>\n",
      "[(1, 'Mon'), (1, 'Tue'), (1, 'Wed'), (1, 'Thu'), (2, 'Mon'), (2, 'Tue'), (2, 'Wed'), (2, 'Thu'), (3, 'Mon'), (3, 'Tue'), (3, 'Wed'), (3, 'Thu')]\n",
      "((1, 'Mon'), (1, 'Tue'), (1, 'Wed'), (1, 'Thu'), (2, 'Mon'), (2, 'Tue'), (2, 'Wed'), (2, 'Thu'), (3, 'Mon'), (3, 'Tue'), (3, 'Wed'), (3, 'Thu'))\n",
      "12\n"
     ]
    }
   ],
   "source": [
    "from itertools import product\n",
    "list1 = [1, 2, 3]\n",
    "list2 = ['Mon', 'Tue', 'Wed', 'Thu']\n",
    "print (product(list1, list2))\n",
    "print (list(product(list1, list2)))\n",
    "print (tuple(product(list1, list2)))\n",
    "print (len(tuple(product(list1, list2))))"
   ]
  },
  {
   "cell_type": "markdown",
   "id": "8ab5ab6c-33da-48d9-94f3-25c3d2feaa1d",
   "metadata": {},
   "source": [
    "## Sorting of a matrix"
   ]
  },
  {
   "cell_type": "code",
   "execution_count": 29,
   "id": "8354f8e3-532a-4071-a890-e77e5eec5cb8",
   "metadata": {},
   "outputs": [
    {
     "name": "stdout",
     "output_type": "stream",
     "text": [
      "[[10, 14, 6], [2, -22, -7], [-3, 8, 10], [40, -10, 1]] [40, -10, 1]\n",
      "[[2, -22, -7], [40, -10, 1], [10, 14, 6], [-3, 8, 10]]\n",
      "[[2, -22, -7], [40, -10, 1], [10, 14, 6], [-3, 8, 10]]\n",
      "[[2, -22, -7], [40, -10, 1], [-3, 8, 10], [10, 14, 6]]\n"
     ]
    }
   ],
   "source": [
    "list1 = [10, 2, -3, 40]\n",
    "list2 = [14, -22, 8, -10]\n",
    "list3 = [6, -7, 10, 1]\n",
    "final_list = []\n",
    "for i in range(len(list1)):\n",
    "    final_list.append([list1[i], list2[i], list3[i]])\n",
    "print (final_list, final_list[-1])\n",
    "final_list1 = sorted(final_list, key = lambda v: v[-1])\n",
    "print (final_list1)\n",
    "final_list.sort(key = lambda arr: arr[-1])\n",
    "print (final_list)\n",
    "final_list.sort(key = lambda arr: arr[-2])\n",
    "print (final_list)"
   ]
  },
  {
   "cell_type": "markdown",
   "id": "72a1a763-db1b-4b8a-a46e-5530118a4491",
   "metadata": {},
   "source": [
    "## Multiple integers as user input"
   ]
  },
  {
   "cell_type": "code",
   "execution_count": 37,
   "id": "25215748-8aa8-489b-b785-665ee9062c52",
   "metadata": {},
   "outputs": [
    {
     "name": "stdin",
     "output_type": "stream",
     "text": [
      "Please enter your series of numbers:  100 300 400 200 600 900 800\n"
     ]
    },
    {
     "name": "stdout",
     "output_type": "stream",
     "text": [
      "[100, 300, 400, 200, 600, 900, 800] <class 'list'> <class 'int'>\n"
     ]
    }
   ],
   "source": [
    "my_input = list(map(int, input(\"Please enter your series of numbers: \").split()))\n",
    "print (my_input, type(my_input), type(my_input[0]))"
   ]
  },
  {
   "cell_type": "code",
   "execution_count": 38,
   "id": "5322017b-6cf6-4303-88bf-9e5cb83a4990",
   "metadata": {},
   "outputs": [
    {
     "name": "stdin",
     "output_type": "stream",
     "text": [
      "Enter numbers: 100 300 400 200 600 900 800\n"
     ]
    },
    {
     "name": "stdout",
     "output_type": "stream",
     "text": [
      "['100', '300', '400', '200', '600', '900', '800']\n",
      "[100, 300, 400, 200, 600, 900, 800]\n"
     ]
    }
   ],
   "source": [
    "my_input = input(\"Enter numbers:\").split(\" \")\n",
    "print (my_input)\n",
    "my_list1 = list(map(int, my_input))\n",
    "print (my_list1)"
   ]
  },
  {
   "cell_type": "markdown",
   "id": "511a94c1-e5b8-4886-a0ea-5b1ae4adf80f",
   "metadata": {},
   "source": [
    "## List Comprehension"
   ]
  },
  {
   "cell_type": "markdown",
   "id": "b1f0fe00-2f0c-434b-97a2-23e14de826d5",
   "metadata": {},
   "source": [
    "<b><i>list comprehension is a complete substitute to for loops, lambda function as well as the functions map(), filter() and reduce().</i></b>"
   ]
  },
  {
   "cell_type": "markdown",
   "id": "a83139c3-5c00-4c50-8bbb-0262c1e62508",
   "metadata": {},
   "source": [
    "#### How to replace for loop in creation of a list"
   ]
  },
  {
   "cell_type": "code",
   "execution_count": 42,
   "id": "b5ea4082-e259-4376-a77a-56417c73209d",
   "metadata": {},
   "outputs": [
    {
     "name": "stdout",
     "output_type": "stream",
     "text": [
      "[0, 1, 4, 9, 16, 25, 36, 49, 64, 81]\n",
      "[0, 1, 4, 9, 16, 25, 36, 49, 64, 81]\n"
     ]
    }
   ],
   "source": [
    "list1 = []\n",
    "for x in range(10):\n",
    "    list1.append(x ** 2)\n",
    "print (list1)\n",
    "\n",
    "# list comprehension\n",
    "list1 = [x ** 2 for x in range(10)]\n",
    "print (list1)"
   ]
  },
  {
   "cell_type": "code",
   "execution_count": 43,
   "id": "d5595a10-c7ec-4aef-aeed-353289acf0a3",
   "metadata": {},
   "outputs": [
    {
     "name": "stdout",
     "output_type": "stream",
     "text": [
      "[1, 2, 4, 8, 16, 32, 64, 128, 256, 512]\n",
      "[1, 2, 4, 8, 16, 32, 64, 128, 256, 512]\n"
     ]
    }
   ],
   "source": [
    "list1 = []\n",
    "for x in range(10):\n",
    "    list1.append(2 ** x)\n",
    "print (list1)\n",
    "\n",
    "# list comprehension\n",
    "list1 = [2 ** x for x in range(10)]\n",
    "print (list1)"
   ]
  },
  {
   "cell_type": "code",
   "execution_count": 46,
   "id": "98954655-b86f-4b43-a80f-a587af21f71f",
   "metadata": {},
   "outputs": [
    {
     "name": "stdout",
     "output_type": "stream",
     "text": [
      "[2, 4, 6]\n",
      "[2, 4, 6]\n"
     ]
    }
   ],
   "source": [
    "list1 = [1, 2, 3, 4, 5, 6]\n",
    "list2 = []\n",
    "for x in list1:\n",
    "    if (x % 2 == 0):\n",
    "        list2.append(x)\n",
    "print (list2)\n",
    "\n",
    "# list comprehension with if condition\n",
    "list2 = [x for x in list1 if x % 2 == 0]\n",
    "print (list2)"
   ]
  },
  {
   "cell_type": "code",
   "execution_count": 49,
   "id": "0770b3bd-c42d-4797-9744-0707189ce585",
   "metadata": {},
   "outputs": [
    {
     "name": "stdout",
     "output_type": "stream",
     "text": [
      "[12, 18]\n",
      "[12, 18]\n",
      "[12, 18]\n"
     ]
    }
   ],
   "source": [
    "list1 = [11, 12, 13, 14, 15, 16, 17, 18]\n",
    "list2 = []\n",
    "for x in list1:\n",
    "    if x % 2 == 0:\n",
    "        if x % 3 == 0:\n",
    "            list2.append(x)\n",
    "print (list2)\n",
    "\n",
    "# list comprehension with multiple if conditions\n",
    "list2 = [x for x in list1 if x % 2 == 0 if x % 3 == 0]\n",
    "print (list2)\n",
    "list2 = [x for x in list1 if x % 2 == 0 and x % 3 == 0]\n",
    "print (list2)"
   ]
  },
  {
   "cell_type": "code",
   "execution_count": 50,
   "id": "d7cd58d2-330d-495d-8eae-0f01f728877a",
   "metadata": {},
   "outputs": [
    {
     "name": "stdout",
     "output_type": "stream",
     "text": [
      "[2, 3, 4, 9, 10, 11]\n",
      "[2, 3, 4, 9, 10, 11]\n"
     ]
    }
   ],
   "source": [
    "list1 = [1, 2, 3, 4, 5, 6]\n",
    "list2 = []\n",
    "for x in list1:\n",
    "    if x >= 4:\n",
    "        list2.append(x + 5)\n",
    "    else:\n",
    "        list2.append(x + 1)\n",
    "print (list2)\n",
    "\n",
    "# list comprehension with if-else condition\n",
    "list2 = [x + 5 if x >= 4 else x + 1 for x in list1]\n",
    "print (list2)"
   ]
  },
  {
   "cell_type": "code",
   "execution_count": 52,
   "id": "e2c8109d-aa68-4e3f-8162-5d345bf72693",
   "metadata": {},
   "outputs": [
    {
     "name": "stdout",
     "output_type": "stream",
     "text": [
      "[1, 2, 3, 4, 5, 6, 7, 8]\n",
      "[1, 2, 3, 4, 5, 6, 7, 8]\n"
     ]
    }
   ],
   "source": [
    "list1 = [[1, 2, 3], [4, 5, 6], [7, 8]]\n",
    "list2 = []\n",
    "for temp_list in list1:\n",
    "    for x in temp_list:\n",
    "        list2.append(x)\n",
    "print (list2)\n",
    "\n",
    "# nested list comprehensions, flatten a list\n",
    "list2 = [element for temp_list in list1 for element in temp_list]\n",
    "print (list2)"
   ]
  },
  {
   "cell_type": "code",
   "execution_count": 54,
   "id": "bc3635ad-d9af-46de-bbed-45ca83351817",
   "metadata": {},
   "outputs": [
    {
     "name": "stdout",
     "output_type": "stream",
     "text": [
      "[[1, 4, 7], [2, 5, 8], [3, 6, 9]]\n",
      "[[1, 4, 7], [2, 5, 8], [3, 6, 9]]\n"
     ]
    }
   ],
   "source": [
    "# transpose of a matrix\n",
    "matrix = [[1, 2, 3], [4, 5, 6], [7, 8, 9]]\n",
    "list1 = []\n",
    "for i in range(3):\n",
    "    temp_list = []\n",
    "    for j in range(3):\n",
    "        temp_list.append(matrix[j][i])\n",
    "    list1.append(temp_list)\n",
    "print (list1)\n",
    "\n",
    "# nested list comprehensions, transpose of a matrix\n",
    "list1 = [[row[i] for row in matrix] for i in range(3)]\n",
    "print (list1)"
   ]
  },
  {
   "cell_type": "code",
   "execution_count": 55,
   "id": "ed675d0e-ee0b-48f7-a154-b06d3310e299",
   "metadata": {},
   "outputs": [
    {
     "name": "stdout",
     "output_type": "stream",
     "text": [
      "[[0, 0, 0, 0], [0, 0, 0, 0], [0, 0, 0, 0]]\n",
      "[[0, 0, 0, 0], [0, 0, 0, 0], [0, 0, 0, 0]]\n"
     ]
    }
   ],
   "source": [
    "list1 = []\n",
    "for x in range(3):\n",
    "    temp_list = []\n",
    "    for y in range(4):\n",
    "        temp_list.append(0)\n",
    "    list1.append(temp_list)\n",
    "print (list1)\n",
    "\n",
    "# nested list comprehensions, creation of a matrix\n",
    "list1 = [[0 for col in range(4)] for row in range(3)]\n",
    "print (list1)"
   ]
  },
  {
   "cell_type": "code",
   "execution_count": 56,
   "id": "8e3105e4-6049-4d8c-b555-935da6e9d4e5",
   "metadata": {},
   "outputs": [
    {
     "name": "stdout",
     "output_type": "stream",
     "text": [
      "[[], [0], [0, 0], [0, 0, 0]]\n",
      "[[], [0], [0, 0], [0, 0, 0]]\n"
     ]
    }
   ],
   "source": [
    "list1 = []\n",
    "for x in range(4):\n",
    "    temp_list = []\n",
    "    for y in range(x):\n",
    "        temp_list.append(0)\n",
    "    list1.append(temp_list)\n",
    "print (list1)\n",
    "\n",
    "# nested list comprehensions, creation of a matrix\n",
    "list1 = [[0 for col in range(row)] for row in range(4)]\n",
    "print (list1)"
   ]
  },
  {
   "cell_type": "markdown",
   "id": "39d5deb1-91b5-41de-b85f-8099829f2b20",
   "metadata": {},
   "source": [
    "#### How to replace map() in combination with lambda functions"
   ]
  },
  {
   "cell_type": "code",
   "execution_count": 57,
   "id": "67c62f18-65a0-4918-b73b-290830b69e87",
   "metadata": {},
   "outputs": [
    {
     "name": "stdout",
     "output_type": "stream",
     "text": [
      "[20, 40, 60, 80, 100]\n",
      "[20, 40, 60, 80, 100]\n"
     ]
    }
   ],
   "source": [
    "list1 = [10, 20, 30, 40, 50]\n",
    "list2 = map(lambda x: 2 * x, list1)\n",
    "print(list(list2))\n",
    "\n",
    "# list comprehension\n",
    "list2 = [2 * x for x in list1]\n",
    "print (list2)"
   ]
  },
  {
   "cell_type": "markdown",
   "id": "b58fdc28-8811-490f-a02e-d90d77a23306",
   "metadata": {},
   "source": [
    "#### How to replace filter() in combination with lambda functions"
   ]
  },
  {
   "cell_type": "code",
   "execution_count": 58,
   "id": "b2d93035-79cf-4e85-b511-3fa0756b1d5c",
   "metadata": {},
   "outputs": [
    {
     "name": "stdout",
     "output_type": "stream",
     "text": [
      "[11, 33, 55]\n",
      "[11, 33, 55]\n"
     ]
    }
   ],
   "source": [
    "# using filter function\n",
    "list1 = [11, 22, 33, 44, 55]\n",
    "oddnum = list(filter(lambda x: x % 2, list1))\n",
    "print (oddnum)\n",
    "\n",
    "# list comprehension with if condition\n",
    "oddnum = [x for x in list1 if x % 2 != 0]\n",
    "print (oddnum)"
   ]
  },
  {
   "cell_type": "markdown",
   "id": "6175489c-4200-4d3b-8b2a-b85393399444",
   "metadata": {},
   "source": [
    "#### How to replace reduce() in combination with lambda functions"
   ]
  },
  {
   "cell_type": "code",
   "execution_count": 59,
   "id": "272b4e7b-b63b-4596-a817-0823f207ac17",
   "metadata": {},
   "outputs": [
    {
     "name": "stdout",
     "output_type": "stream",
     "text": [
      "231\n",
      "231\n"
     ]
    }
   ],
   "source": [
    "# using reduce function\n",
    "from functools import reduce\n",
    "list1 = [11, 22, 33, 44, 55, 66]\n",
    "list2 = reduce(lambda x, y: x + y, list1)\n",
    "print(list2)\n",
    "\n",
    "# list comprehension\n",
    "list2 = sum([x for x in list1])\n",
    "print(list2)"
   ]
  },
  {
   "cell_type": "code",
   "execution_count": null,
   "id": "3f735a35-dff8-4251-a3a4-f7211d6ad616",
   "metadata": {},
   "outputs": [],
   "source": []
  }
 ],
 "metadata": {
  "kernelspec": {
   "display_name": "Python 3 (ipykernel)",
   "language": "python",
   "name": "python3"
  },
  "language_info": {
   "codemirror_mode": {
    "name": "ipython",
    "version": 3
   },
   "file_extension": ".py",
   "mimetype": "text/x-python",
   "name": "python",
   "nbconvert_exporter": "python",
   "pygments_lexer": "ipython3",
   "version": "3.10.9"
  }
 },
 "nbformat": 4,
 "nbformat_minor": 5
}
